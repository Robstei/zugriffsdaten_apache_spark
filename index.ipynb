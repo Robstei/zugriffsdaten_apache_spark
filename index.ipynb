{
 "cells": [
  {
   "cell_type": "markdown",
   "metadata": {},
   "source": [
    "# Zugriffsdaten-Analyse\n",
    "\n",
    "In diesem Notebook analysieren wir eine Logdatei mit Zugriffsdaten eines Webserver von einem iranischen Online-Shop. Wir wollen anhand der Zugriffsdaten herausfinden, welche Produkte des Online-Shops am beliebtesten sind. Außerdem untersuchen wir die Daten auf weitere Auffälligkeiten."
   ]
  },
  {
   "cell_type": "markdown",
   "metadata": {},
   "source": [
    "## Setup\n",
    "\n",
    "Als erstes verbinden wir uns mit dem Spark Master Node. Den erreichen wir unter der URL `spark://localhost:7077`."
   ]
  },
  {
   "cell_type": "code",
   "execution_count": 1,
   "metadata": {},
   "outputs": [
    {
     "name": "stderr",
     "output_type": "stream",
     "text": [
      "22/07/05 01:36:10 WARN Utils: Your hostname, robin-desktop resolves to a loopback address: 127.0.1.1; using 192.168.2.100 instead (on interface enp0s31f6)\n",
      "22/07/05 01:36:10 WARN Utils: Set SPARK_LOCAL_IP if you need to bind to another address\n",
      "Using Spark's default log4j profile: org/apache/spark/log4j-defaults.properties\n",
      "Setting default log level to \"WARN\".\n",
      "To adjust logging level use sc.setLogLevel(newLevel). For SparkR, use setLogLevel(newLevel).\n",
      "22/07/05 01:36:11 WARN NativeCodeLoader: Unable to load native-hadoop library for your platform... using builtin-java classes where applicable\n"
     ]
    },
    {
     "name": "stdout",
     "output_type": "stream",
     "text": [
      "3.2.1\n"
     ]
    }
   ],
   "source": [
    "import pyspark\n",
    "import pandas as pd\n",
    "from pyspark.sql.functions import *\n",
    "\n",
    "spark = pyspark.sql.SparkSession.builder \\\n",
    "  .appName(\"main\") \\\n",
    "  .master(\"spark://localhost:7077\") \\\n",
    "  .getOrCreate()\n",
    "\n",
    "\n",
    "print(spark.version)"
   ]
  },
  {
   "cell_type": "markdown",
   "metadata": {},
   "source": [
    "## Datenimport\n",
    "\n",
    "Als nächstes importieren wir die Datei `access.log`."
   ]
  },
  {
   "cell_type": "code",
   "execution_count": 2,
   "metadata": {},
   "outputs": [
    {
     "name": "stderr",
     "output_type": "stream",
     "text": [
      "                                                                                \r"
     ]
    }
   ],
   "source": [
    "raw_df = spark.read.csv(\"/tmp/data/access.log\", sep=\" \")"
   ]
  },
  {
   "cell_type": "markdown",
   "metadata": {},
   "source": [
    "Anzahl der Zeilen ausgeben."
   ]
  },
  {
   "cell_type": "code",
   "execution_count": 3,
   "metadata": {},
   "outputs": [
    {
     "name": "stderr",
     "output_type": "stream",
     "text": [
      "                                                                                \r"
     ]
    },
    {
     "data": {
      "text/plain": [
       "10365152"
      ]
     },
     "execution_count": 3,
     "metadata": {},
     "output_type": "execute_result"
    }
   ],
   "source": [
    "raw_df.count()"
   ]
  },
  {
   "cell_type": "markdown",
   "metadata": {},
   "source": [
    "Die Spalten ausgeben. Ziegt, dass es 11 Spalten gibt"
   ]
  },
  {
   "cell_type": "code",
   "execution_count": 4,
   "metadata": {},
   "outputs": [
    {
     "name": "stdout",
     "output_type": "stream",
     "text": [
      "root\n",
      " |-- _c0: string (nullable = true)\n",
      " |-- _c1: string (nullable = true)\n",
      " |-- _c2: string (nullable = true)\n",
      " |-- _c3: string (nullable = true)\n",
      " |-- _c4: string (nullable = true)\n",
      " |-- _c5: string (nullable = true)\n",
      " |-- _c6: string (nullable = true)\n",
      " |-- _c7: string (nullable = true)\n",
      " |-- _c8: string (nullable = true)\n",
      " |-- _c9: string (nullable = true)\n",
      " |-- _c10: string (nullable = true)\n",
      "\n"
     ]
    }
   ],
   "source": [
    "raw_df.printSchema()"
   ]
  },
  {
   "cell_type": "markdown",
   "metadata": {},
   "source": [
    "Die Daten werden Partitioniert, wir geben aus, auf wie viele Partitionen die Dateien aufgeteilt werden."
   ]
  },
  {
   "cell_type": "code",
   "execution_count": 5,
   "metadata": {},
   "outputs": [
    {
     "data": {
      "text/plain": [
       "27"
      ]
     },
     "execution_count": 5,
     "metadata": {},
     "output_type": "execute_result"
    }
   ],
   "source": [
    "raw_df.rdd.getNumPartitions()"
   ]
  },
  {
   "cell_type": "markdown",
   "metadata": {},
   "source": [
    "Wir lassen die Spalten in voller Breite anzeigen und wollen einen ersten Blick auf die Daten werfen."
   ]
  },
  {
   "cell_type": "code",
   "execution_count": 6,
   "metadata": {},
   "outputs": [],
   "source": [
    "old_value = pd.get_option(\"display.max_colwidth\")\n",
    "pd.set_option(\"display.max_colwidth\", None)"
   ]
  },
  {
   "cell_type": "code",
   "execution_count": 7,
   "metadata": {},
   "outputs": [
    {
     "data": {
      "text/html": [
       "<div>\n",
       "<style scoped>\n",
       "    .dataframe tbody tr th:only-of-type {\n",
       "        vertical-align: middle;\n",
       "    }\n",
       "\n",
       "    .dataframe tbody tr th {\n",
       "        vertical-align: top;\n",
       "    }\n",
       "\n",
       "    .dataframe thead th {\n",
       "        text-align: right;\n",
       "    }\n",
       "</style>\n",
       "<table border=\"1\" class=\"dataframe\">\n",
       "  <thead>\n",
       "    <tr style=\"text-align: right;\">\n",
       "      <th></th>\n",
       "      <th>_c0</th>\n",
       "      <th>_c1</th>\n",
       "      <th>_c2</th>\n",
       "      <th>_c3</th>\n",
       "      <th>_c4</th>\n",
       "      <th>_c5</th>\n",
       "      <th>_c6</th>\n",
       "      <th>_c7</th>\n",
       "      <th>_c8</th>\n",
       "      <th>_c9</th>\n",
       "      <th>_c10</th>\n",
       "    </tr>\n",
       "  </thead>\n",
       "  <tbody>\n",
       "    <tr>\n",
       "      <th>0</th>\n",
       "      <td>54.36.149.41</td>\n",
       "      <td>-</td>\n",
       "      <td>-</td>\n",
       "      <td>[22/Jan/2019:03:56:14</td>\n",
       "      <td>+0330]</td>\n",
       "      <td>GET /filter/27|13%20%D9%85%DA%AF%D8%A7%D9%BE%DB%8C%DA%A9%D8%B3%D9%84,27|%DA%A9%D9%85%D8%AA%D8%B1%20%D8%A7%D8%B2%205%20%D9%85%DA%AF%D8%A7%D9%BE%DB%8C%DA%A9%D8%B3%D9%84,p53 HTTP/1.1</td>\n",
       "      <td>200</td>\n",
       "      <td>30577</td>\n",
       "      <td>-</td>\n",
       "      <td>Mozilla/5.0 (compatible; AhrefsBot/6.1; +http://ahrefs.com/robot/)</td>\n",
       "      <td>-</td>\n",
       "    </tr>\n",
       "    <tr>\n",
       "      <th>1</th>\n",
       "      <td>31.56.96.51</td>\n",
       "      <td>-</td>\n",
       "      <td>-</td>\n",
       "      <td>[22/Jan/2019:03:56:16</td>\n",
       "      <td>+0330]</td>\n",
       "      <td>GET /image/60844/productModel/200x200 HTTP/1.1</td>\n",
       "      <td>200</td>\n",
       "      <td>5667</td>\n",
       "      <td>https://www.zanbil.ir/m/filter/b113</td>\n",
       "      <td>Mozilla/5.0 (Linux; Android 6.0; ALE-L21 Build/HuaweiALE-L21) AppleWebKit/537.36 (KHTML, like Gecko) Chrome/66.0.3359.158 Mobile Safari/537.36</td>\n",
       "      <td>-</td>\n",
       "    </tr>\n",
       "    <tr>\n",
       "      <th>2</th>\n",
       "      <td>31.56.96.51</td>\n",
       "      <td>-</td>\n",
       "      <td>-</td>\n",
       "      <td>[22/Jan/2019:03:56:16</td>\n",
       "      <td>+0330]</td>\n",
       "      <td>GET /image/61474/productModel/200x200 HTTP/1.1</td>\n",
       "      <td>200</td>\n",
       "      <td>5379</td>\n",
       "      <td>https://www.zanbil.ir/m/filter/b113</td>\n",
       "      <td>Mozilla/5.0 (Linux; Android 6.0; ALE-L21 Build/HuaweiALE-L21) AppleWebKit/537.36 (KHTML, like Gecko) Chrome/66.0.3359.158 Mobile Safari/537.36</td>\n",
       "      <td>-</td>\n",
       "    </tr>\n",
       "    <tr>\n",
       "      <th>3</th>\n",
       "      <td>40.77.167.129</td>\n",
       "      <td>-</td>\n",
       "      <td>-</td>\n",
       "      <td>[22/Jan/2019:03:56:17</td>\n",
       "      <td>+0330]</td>\n",
       "      <td>GET /image/14925/productModel/100x100 HTTP/1.1</td>\n",
       "      <td>200</td>\n",
       "      <td>1696</td>\n",
       "      <td>-</td>\n",
       "      <td>Mozilla/5.0 (compatible; bingbot/2.0; +http://www.bing.com/bingbot.htm)</td>\n",
       "      <td>-</td>\n",
       "    </tr>\n",
       "    <tr>\n",
       "      <th>4</th>\n",
       "      <td>91.99.72.15</td>\n",
       "      <td>-</td>\n",
       "      <td>-</td>\n",
       "      <td>[22/Jan/2019:03:56:17</td>\n",
       "      <td>+0330]</td>\n",
       "      <td>GET /product/31893/62100/%D8%B3%D8%B4%D9%88%D8%A7%D8%B1-%D8%AE%D8%A7%D9%86%DA%AF%DB%8C-%D9%BE%D8%B1%D9%86%D8%B3%D9%84%DB%8C-%D9%85%D8%AF%D9%84-PR257AT HTTP/1.1</td>\n",
       "      <td>200</td>\n",
       "      <td>41483</td>\n",
       "      <td>-</td>\n",
       "      <td>Mozilla/5.0 (Windows NT 6.2; Win64; x64; rv:16.0)Gecko/16.0 Firefox/16.0</td>\n",
       "      <td>-</td>\n",
       "    </tr>\n",
       "    <tr>\n",
       "      <th>5</th>\n",
       "      <td>40.77.167.129</td>\n",
       "      <td>-</td>\n",
       "      <td>-</td>\n",
       "      <td>[22/Jan/2019:03:56:17</td>\n",
       "      <td>+0330]</td>\n",
       "      <td>GET /image/23488/productModel/150x150 HTTP/1.1</td>\n",
       "      <td>200</td>\n",
       "      <td>2654</td>\n",
       "      <td>-</td>\n",
       "      <td>Mozilla/5.0 (compatible; bingbot/2.0; +http://www.bing.com/bingbot.htm)</td>\n",
       "      <td>-</td>\n",
       "    </tr>\n",
       "    <tr>\n",
       "      <th>6</th>\n",
       "      <td>40.77.167.129</td>\n",
       "      <td>-</td>\n",
       "      <td>-</td>\n",
       "      <td>[22/Jan/2019:03:56:18</td>\n",
       "      <td>+0330]</td>\n",
       "      <td>GET /image/45437/productModel/150x150 HTTP/1.1</td>\n",
       "      <td>200</td>\n",
       "      <td>3688</td>\n",
       "      <td>-</td>\n",
       "      <td>Mozilla/5.0 (compatible; bingbot/2.0; +http://www.bing.com/bingbot.htm)</td>\n",
       "      <td>-</td>\n",
       "    </tr>\n",
       "    <tr>\n",
       "      <th>7</th>\n",
       "      <td>40.77.167.129</td>\n",
       "      <td>-</td>\n",
       "      <td>-</td>\n",
       "      <td>[22/Jan/2019:03:56:18</td>\n",
       "      <td>+0330]</td>\n",
       "      <td>GET /image/576/article/100x100 HTTP/1.1</td>\n",
       "      <td>200</td>\n",
       "      <td>14776</td>\n",
       "      <td>-</td>\n",
       "      <td>Mozilla/5.0 (compatible; bingbot/2.0; +http://www.bing.com/bingbot.htm)</td>\n",
       "      <td>-</td>\n",
       "    </tr>\n",
       "    <tr>\n",
       "      <th>8</th>\n",
       "      <td>66.249.66.194</td>\n",
       "      <td>-</td>\n",
       "      <td>-</td>\n",
       "      <td>[22/Jan/2019:03:56:18</td>\n",
       "      <td>+0330]</td>\n",
       "      <td>GET /filter/b41,b665,c150%7C%D8%A8%D8%AE%D8%A7%D8%B1%D9%BE%D8%B2,p56 HTTP/1.1</td>\n",
       "      <td>200</td>\n",
       "      <td>34277</td>\n",
       "      <td>-</td>\n",
       "      <td>Mozilla/5.0 (compatible; Googlebot/2.1; +http://www.google.com/bot.html)</td>\n",
       "      <td>-</td>\n",
       "    </tr>\n",
       "    <tr>\n",
       "      <th>9</th>\n",
       "      <td>40.77.167.129</td>\n",
       "      <td>-</td>\n",
       "      <td>-</td>\n",
       "      <td>[22/Jan/2019:03:56:18</td>\n",
       "      <td>+0330]</td>\n",
       "      <td>GET /image/57710/productModel/100x100 HTTP/1.1</td>\n",
       "      <td>200</td>\n",
       "      <td>1695</td>\n",
       "      <td>-</td>\n",
       "      <td>Mozilla/5.0 (compatible; bingbot/2.0; +http://www.bing.com/bingbot.htm)</td>\n",
       "      <td>-</td>\n",
       "    </tr>\n",
       "  </tbody>\n",
       "</table>\n",
       "</div>"
      ],
      "text/plain": [
       "             _c0 _c1 _c2                    _c3     _c4  \\\n",
       "0   54.36.149.41   -   -  [22/Jan/2019:03:56:14  +0330]   \n",
       "1    31.56.96.51   -   -  [22/Jan/2019:03:56:16  +0330]   \n",
       "2    31.56.96.51   -   -  [22/Jan/2019:03:56:16  +0330]   \n",
       "3  40.77.167.129   -   -  [22/Jan/2019:03:56:17  +0330]   \n",
       "4    91.99.72.15   -   -  [22/Jan/2019:03:56:17  +0330]   \n",
       "5  40.77.167.129   -   -  [22/Jan/2019:03:56:17  +0330]   \n",
       "6  40.77.167.129   -   -  [22/Jan/2019:03:56:18  +0330]   \n",
       "7  40.77.167.129   -   -  [22/Jan/2019:03:56:18  +0330]   \n",
       "8  66.249.66.194   -   -  [22/Jan/2019:03:56:18  +0330]   \n",
       "9  40.77.167.129   -   -  [22/Jan/2019:03:56:18  +0330]   \n",
       "\n",
       "                                                                                                                                                                                   _c5  \\\n",
       "0  GET /filter/27|13%20%D9%85%DA%AF%D8%A7%D9%BE%DB%8C%DA%A9%D8%B3%D9%84,27|%DA%A9%D9%85%D8%AA%D8%B1%20%D8%A7%D8%B2%205%20%D9%85%DA%AF%D8%A7%D9%BE%DB%8C%DA%A9%D8%B3%D9%84,p53 HTTP/1.1   \n",
       "1                                                                                                                                       GET /image/60844/productModel/200x200 HTTP/1.1   \n",
       "2                                                                                                                                       GET /image/61474/productModel/200x200 HTTP/1.1   \n",
       "3                                                                                                                                       GET /image/14925/productModel/100x100 HTTP/1.1   \n",
       "4                      GET /product/31893/62100/%D8%B3%D8%B4%D9%88%D8%A7%D8%B1-%D8%AE%D8%A7%D9%86%DA%AF%DB%8C-%D9%BE%D8%B1%D9%86%D8%B3%D9%84%DB%8C-%D9%85%D8%AF%D9%84-PR257AT HTTP/1.1   \n",
       "5                                                                                                                                       GET /image/23488/productModel/150x150 HTTP/1.1   \n",
       "6                                                                                                                                       GET /image/45437/productModel/150x150 HTTP/1.1   \n",
       "7                                                                                                                                              GET /image/576/article/100x100 HTTP/1.1   \n",
       "8                                                                                                        GET /filter/b41,b665,c150%7C%D8%A8%D8%AE%D8%A7%D8%B1%D9%BE%D8%B2,p56 HTTP/1.1   \n",
       "9                                                                                                                                       GET /image/57710/productModel/100x100 HTTP/1.1   \n",
       "\n",
       "   _c6    _c7                                  _c8  \\\n",
       "0  200  30577                                    -   \n",
       "1  200   5667  https://www.zanbil.ir/m/filter/b113   \n",
       "2  200   5379  https://www.zanbil.ir/m/filter/b113   \n",
       "3  200   1696                                    -   \n",
       "4  200  41483                                    -   \n",
       "5  200   2654                                    -   \n",
       "6  200   3688                                    -   \n",
       "7  200  14776                                    -   \n",
       "8  200  34277                                    -   \n",
       "9  200   1695                                    -   \n",
       "\n",
       "                                                                                                                                              _c9  \\\n",
       "0                                                                              Mozilla/5.0 (compatible; AhrefsBot/6.1; +http://ahrefs.com/robot/)   \n",
       "1  Mozilla/5.0 (Linux; Android 6.0; ALE-L21 Build/HuaweiALE-L21) AppleWebKit/537.36 (KHTML, like Gecko) Chrome/66.0.3359.158 Mobile Safari/537.36   \n",
       "2  Mozilla/5.0 (Linux; Android 6.0; ALE-L21 Build/HuaweiALE-L21) AppleWebKit/537.36 (KHTML, like Gecko) Chrome/66.0.3359.158 Mobile Safari/537.36   \n",
       "3                                                                         Mozilla/5.0 (compatible; bingbot/2.0; +http://www.bing.com/bingbot.htm)   \n",
       "4                                                                        Mozilla/5.0 (Windows NT 6.2; Win64; x64; rv:16.0)Gecko/16.0 Firefox/16.0   \n",
       "5                                                                         Mozilla/5.0 (compatible; bingbot/2.0; +http://www.bing.com/bingbot.htm)   \n",
       "6                                                                         Mozilla/5.0 (compatible; bingbot/2.0; +http://www.bing.com/bingbot.htm)   \n",
       "7                                                                         Mozilla/5.0 (compatible; bingbot/2.0; +http://www.bing.com/bingbot.htm)   \n",
       "8                                                                        Mozilla/5.0 (compatible; Googlebot/2.1; +http://www.google.com/bot.html)   \n",
       "9                                                                         Mozilla/5.0 (compatible; bingbot/2.0; +http://www.bing.com/bingbot.htm)   \n",
       "\n",
       "  _c10  \n",
       "0    -  \n",
       "1    -  \n",
       "2    -  \n",
       "3    -  \n",
       "4    -  \n",
       "5    -  \n",
       "6    -  \n",
       "7    -  \n",
       "8    -  \n",
       "9    -  "
      ]
     },
     "execution_count": 7,
     "metadata": {},
     "output_type": "execute_result"
    }
   ],
   "source": [
    "raw_df.limit(10).toPandas()"
   ]
  },
  {
   "cell_type": "code",
   "execution_count": 8,
   "metadata": {},
   "outputs": [],
   "source": [
    "pd.set_option(\"display.max_colwidth\", old_value)"
   ]
  },
  {
   "cell_type": "markdown",
   "metadata": {},
   "source": [
    "Wir überprüfen ob die Spalte _c1 leer ist."
   ]
  },
  {
   "cell_type": "code",
   "execution_count": 9,
   "metadata": {},
   "outputs": [
    {
     "name": "stderr",
     "output_type": "stream",
     "text": [
      "                                                                                \r"
     ]
    },
    {
     "data": {
      "text/html": [
       "<div>\n",
       "<style scoped>\n",
       "    .dataframe tbody tr th:only-of-type {\n",
       "        vertical-align: middle;\n",
       "    }\n",
       "\n",
       "    .dataframe tbody tr th {\n",
       "        vertical-align: top;\n",
       "    }\n",
       "\n",
       "    .dataframe thead th {\n",
       "        text-align: right;\n",
       "    }\n",
       "</style>\n",
       "<table border=\"1\" class=\"dataframe\">\n",
       "  <thead>\n",
       "    <tr style=\"text-align: right;\">\n",
       "      <th></th>\n",
       "      <th>_c1</th>\n",
       "      <th>count</th>\n",
       "    </tr>\n",
       "  </thead>\n",
       "  <tbody>\n",
       "    <tr>\n",
       "      <th>0</th>\n",
       "      <td>-</td>\n",
       "      <td>10365152</td>\n",
       "    </tr>\n",
       "  </tbody>\n",
       "</table>\n",
       "</div>"
      ],
      "text/plain": [
       "  _c1     count\n",
       "0   -  10365152"
      ]
     },
     "execution_count": 9,
     "metadata": {},
     "output_type": "execute_result"
    }
   ],
   "source": [
    "raw_df.select(\"_c1\").groupBy(\"_c1\").count().limit(5).toPandas()"
   ]
  },
  {
   "cell_type": "markdown",
   "metadata": {},
   "source": [
    "Wir überprüfen ob die Spalte _c2 leer ist."
   ]
  },
  {
   "cell_type": "code",
   "execution_count": 10,
   "metadata": {},
   "outputs": [
    {
     "name": "stderr",
     "output_type": "stream",
     "text": [
      "                                                                                \r"
     ]
    },
    {
     "data": {
      "text/html": [
       "<div>\n",
       "<style scoped>\n",
       "    .dataframe tbody tr th:only-of-type {\n",
       "        vertical-align: middle;\n",
       "    }\n",
       "\n",
       "    .dataframe tbody tr th {\n",
       "        vertical-align: top;\n",
       "    }\n",
       "\n",
       "    .dataframe thead th {\n",
       "        text-align: right;\n",
       "    }\n",
       "</style>\n",
       "<table border=\"1\" class=\"dataframe\">\n",
       "  <thead>\n",
       "    <tr style=\"text-align: right;\">\n",
       "      <th></th>\n",
       "      <th>_c2</th>\n",
       "      <th>count</th>\n",
       "    </tr>\n",
       "  </thead>\n",
       "  <tbody>\n",
       "    <tr>\n",
       "      <th>0</th>\n",
       "      <td>-</td>\n",
       "      <td>10365150</td>\n",
       "    </tr>\n",
       "    <tr>\n",
       "      <th>1</th>\n",
       "      <td>admin</td>\n",
       "      <td>2</td>\n",
       "    </tr>\n",
       "  </tbody>\n",
       "</table>\n",
       "</div>"
      ],
      "text/plain": [
       "     _c2     count\n",
       "0      -  10365150\n",
       "1  admin         2"
      ]
     },
     "execution_count": 10,
     "metadata": {},
     "output_type": "execute_result"
    }
   ],
   "source": [
    "raw_df.select(\"_c2\").groupBy(\"_c2\").count().limit(5).toPandas()"
   ]
  },
  {
   "cell_type": "markdown",
   "metadata": {},
   "source": [
    "Wir überprüfen ob die Spalte _c10 leer ist."
   ]
  },
  {
   "cell_type": "code",
   "execution_count": 11,
   "metadata": {},
   "outputs": [
    {
     "name": "stderr",
     "output_type": "stream",
     "text": [
      "                                                                                \r"
     ]
    },
    {
     "data": {
      "text/html": [
       "<div>\n",
       "<style scoped>\n",
       "    .dataframe tbody tr th:only-of-type {\n",
       "        vertical-align: middle;\n",
       "    }\n",
       "\n",
       "    .dataframe tbody tr th {\n",
       "        vertical-align: top;\n",
       "    }\n",
       "\n",
       "    .dataframe thead th {\n",
       "        text-align: right;\n",
       "    }\n",
       "</style>\n",
       "<table border=\"1\" class=\"dataframe\">\n",
       "  <thead>\n",
       "    <tr style=\"text-align: right;\">\n",
       "      <th></th>\n",
       "      <th>_c10</th>\n",
       "      <th>count</th>\n",
       "    </tr>\n",
       "  </thead>\n",
       "  <tbody>\n",
       "    <tr>\n",
       "      <th>0</th>\n",
       "      <td>5.217.0.246</td>\n",
       "      <td>7</td>\n",
       "    </tr>\n",
       "    <tr>\n",
       "      <th>1</th>\n",
       "      <td>5.210.134.4</td>\n",
       "      <td>5</td>\n",
       "    </tr>\n",
       "    <tr>\n",
       "      <th>2</th>\n",
       "      <td>185.171.52.242</td>\n",
       "      <td>39</td>\n",
       "    </tr>\n",
       "    <tr>\n",
       "      <th>3</th>\n",
       "      <td>5.120.175.61</td>\n",
       "      <td>207</td>\n",
       "    </tr>\n",
       "    <tr>\n",
       "      <th>4</th>\n",
       "      <td>10.115.21.75</td>\n",
       "      <td>3</td>\n",
       "    </tr>\n",
       "    <tr>\n",
       "      <th>5</th>\n",
       "      <td>31.2.254.16</td>\n",
       "      <td>2</td>\n",
       "    </tr>\n",
       "    <tr>\n",
       "      <th>6</th>\n",
       "      <td>5.208.149.141</td>\n",
       "      <td>28</td>\n",
       "    </tr>\n",
       "    <tr>\n",
       "      <th>7</th>\n",
       "      <td>31.24.206.227, 31.24.206.227</td>\n",
       "      <td>1</td>\n",
       "    </tr>\n",
       "    <tr>\n",
       "      <th>8</th>\n",
       "      <td>83.121.200.214</td>\n",
       "      <td>24</td>\n",
       "    </tr>\n",
       "    <tr>\n",
       "      <th>9</th>\n",
       "      <td>5.115.57.224</td>\n",
       "      <td>24</td>\n",
       "    </tr>\n",
       "  </tbody>\n",
       "</table>\n",
       "</div>"
      ],
      "text/plain": [
       "                           _c10  count\n",
       "0                   5.217.0.246      7\n",
       "1                   5.210.134.4      5\n",
       "2                185.171.52.242     39\n",
       "3                  5.120.175.61    207\n",
       "4                  10.115.21.75      3\n",
       "5                   31.2.254.16      2\n",
       "6                 5.208.149.141     28\n",
       "7  31.24.206.227, 31.24.206.227      1\n",
       "8                83.121.200.214     24\n",
       "9                  5.115.57.224     24"
      ]
     },
     "execution_count": 11,
     "metadata": {},
     "output_type": "execute_result"
    }
   ],
   "source": [
    "raw_df.select(\"_c10\").groupBy(\"_c10\").count().limit(10).toPandas()"
   ]
  },
  {
   "cell_type": "code",
   "execution_count": 12,
   "metadata": {},
   "outputs": [
    {
     "name": "stderr",
     "output_type": "stream",
     "text": [
      "                                                                                \r"
     ]
    },
    {
     "data": {
      "text/html": [
       "<div>\n",
       "<style scoped>\n",
       "    .dataframe tbody tr th:only-of-type {\n",
       "        vertical-align: middle;\n",
       "    }\n",
       "\n",
       "    .dataframe tbody tr th {\n",
       "        vertical-align: top;\n",
       "    }\n",
       "\n",
       "    .dataframe thead th {\n",
       "        text-align: right;\n",
       "    }\n",
       "</style>\n",
       "<table border=\"1\" class=\"dataframe\">\n",
       "  <thead>\n",
       "    <tr style=\"text-align: right;\">\n",
       "      <th></th>\n",
       "      <th>_c10</th>\n",
       "      <th>count</th>\n",
       "    </tr>\n",
       "  </thead>\n",
       "  <tbody>\n",
       "    <tr>\n",
       "      <th>0</th>\n",
       "      <td>-</td>\n",
       "      <td>10341086</td>\n",
       "    </tr>\n",
       "    <tr>\n",
       "      <th>1</th>\n",
       "      <td>5.127.61.214</td>\n",
       "      <td>526</td>\n",
       "    </tr>\n",
       "    <tr>\n",
       "      <th>2</th>\n",
       "      <td>51.38.89.157</td>\n",
       "      <td>464</td>\n",
       "    </tr>\n",
       "    <tr>\n",
       "      <th>3</th>\n",
       "      <td>5.112.171.19</td>\n",
       "      <td>365</td>\n",
       "    </tr>\n",
       "    <tr>\n",
       "      <th>4</th>\n",
       "      <td>5.218.20.237</td>\n",
       "      <td>263</td>\n",
       "    </tr>\n",
       "  </tbody>\n",
       "</table>\n",
       "</div>"
      ],
      "text/plain": [
       "           _c10     count\n",
       "0             -  10341086\n",
       "1  5.127.61.214       526\n",
       "2  51.38.89.157       464\n",
       "3  5.112.171.19       365\n",
       "4  5.218.20.237       263"
      ]
     },
     "execution_count": 12,
     "metadata": {},
     "output_type": "execute_result"
    }
   ],
   "source": [
    "raw_df.select(\"_c10\") \\\n",
    "    .groupBy(\"_c10\") \\\n",
    "    .count() \\\n",
    "    .orderBy(\"count\", ascending=False) \\\n",
    "    .limit(5) \\\n",
    "    .toPandas()"
   ]
  },
  {
   "cell_type": "markdown",
   "metadata": {},
   "source": [
    "in der Spalte _c10 befinden sich IP-Adressen."
   ]
  },
  {
   "cell_type": "markdown",
   "metadata": {},
   "source": [
    "Die Kopfzeile der `DataFrame`-Tabelle enthält noch keine sinnvollen Bezeichnungen. Das wollen wir jetzt ändern.\n",
    "\n",
    "Die Logdatei befindet sich im Format eines Apache-Standards: https://httpd.apache.org/docs/2.4/logs.html"
   ]
  },
  {
   "cell_type": "code",
   "execution_count": 13,
   "metadata": {},
   "outputs": [],
   "source": [
    "df = raw_df.withColumnRenamed(\"_c0\", \"ip\") \\\n",
    "  .drop(\"_c1\") \\\n",
    "  .withColumnRenamed(\"_c2\", \"user\") \\\n",
    "  .withColumnRenamed(\"_c3\", \"timestamp\") \\\n",
    "  .withColumnRenamed(\"_c4\", \"timezone\") \\\n",
    "  .withColumnRenamed(\"_c5\", \"request_line\") \\\n",
    "  .withColumnRenamed(\"_c6\", \"status\") \\\n",
    "  .withColumnRenamed(\"_c7\", \"bytes_sent\") \\\n",
    "  .withColumnRenamed(\"_c8\", \"referer\") \\\n",
    "  .withColumnRenamed(\"_c9\", \"user_agent\") \\\n",
    "  .withColumnRenamed(\"_c10\", \"unknown_ip\")"
   ]
  },
  {
   "cell_type": "code",
   "execution_count": 14,
   "metadata": {},
   "outputs": [
    {
     "data": {
      "text/html": [
       "<div>\n",
       "<style scoped>\n",
       "    .dataframe tbody tr th:only-of-type {\n",
       "        vertical-align: middle;\n",
       "    }\n",
       "\n",
       "    .dataframe tbody tr th {\n",
       "        vertical-align: top;\n",
       "    }\n",
       "\n",
       "    .dataframe thead th {\n",
       "        text-align: right;\n",
       "    }\n",
       "</style>\n",
       "<table border=\"1\" class=\"dataframe\">\n",
       "  <thead>\n",
       "    <tr style=\"text-align: right;\">\n",
       "      <th></th>\n",
       "      <th>ip</th>\n",
       "      <th>user</th>\n",
       "      <th>timestamp</th>\n",
       "      <th>timezone</th>\n",
       "      <th>request_line</th>\n",
       "      <th>status</th>\n",
       "      <th>bytes_sent</th>\n",
       "      <th>referer</th>\n",
       "      <th>user_agent</th>\n",
       "      <th>unknown_ip</th>\n",
       "    </tr>\n",
       "  </thead>\n",
       "  <tbody>\n",
       "    <tr>\n",
       "      <th>0</th>\n",
       "      <td>54.36.149.41</td>\n",
       "      <td>-</td>\n",
       "      <td>[22/Jan/2019:03:56:14</td>\n",
       "      <td>+0330]</td>\n",
       "      <td>GET /filter/27|13%20%D9%85%DA%AF%D8%A7%D9%BE%D...</td>\n",
       "      <td>200</td>\n",
       "      <td>30577</td>\n",
       "      <td>-</td>\n",
       "      <td>Mozilla/5.0 (compatible; AhrefsBot/6.1; +http:...</td>\n",
       "      <td>-</td>\n",
       "    </tr>\n",
       "    <tr>\n",
       "      <th>1</th>\n",
       "      <td>31.56.96.51</td>\n",
       "      <td>-</td>\n",
       "      <td>[22/Jan/2019:03:56:16</td>\n",
       "      <td>+0330]</td>\n",
       "      <td>GET /image/60844/productModel/200x200 HTTP/1.1</td>\n",
       "      <td>200</td>\n",
       "      <td>5667</td>\n",
       "      <td>https://www.zanbil.ir/m/filter/b113</td>\n",
       "      <td>Mozilla/5.0 (Linux; Android 6.0; ALE-L21 Build...</td>\n",
       "      <td>-</td>\n",
       "    </tr>\n",
       "    <tr>\n",
       "      <th>2</th>\n",
       "      <td>31.56.96.51</td>\n",
       "      <td>-</td>\n",
       "      <td>[22/Jan/2019:03:56:16</td>\n",
       "      <td>+0330]</td>\n",
       "      <td>GET /image/61474/productModel/200x200 HTTP/1.1</td>\n",
       "      <td>200</td>\n",
       "      <td>5379</td>\n",
       "      <td>https://www.zanbil.ir/m/filter/b113</td>\n",
       "      <td>Mozilla/5.0 (Linux; Android 6.0; ALE-L21 Build...</td>\n",
       "      <td>-</td>\n",
       "    </tr>\n",
       "    <tr>\n",
       "      <th>3</th>\n",
       "      <td>40.77.167.129</td>\n",
       "      <td>-</td>\n",
       "      <td>[22/Jan/2019:03:56:17</td>\n",
       "      <td>+0330]</td>\n",
       "      <td>GET /image/14925/productModel/100x100 HTTP/1.1</td>\n",
       "      <td>200</td>\n",
       "      <td>1696</td>\n",
       "      <td>-</td>\n",
       "      <td>Mozilla/5.0 (compatible; bingbot/2.0; +http://...</td>\n",
       "      <td>-</td>\n",
       "    </tr>\n",
       "    <tr>\n",
       "      <th>4</th>\n",
       "      <td>91.99.72.15</td>\n",
       "      <td>-</td>\n",
       "      <td>[22/Jan/2019:03:56:17</td>\n",
       "      <td>+0330]</td>\n",
       "      <td>GET /product/31893/62100/%D8%B3%D8%B4%D9%88%D8...</td>\n",
       "      <td>200</td>\n",
       "      <td>41483</td>\n",
       "      <td>-</td>\n",
       "      <td>Mozilla/5.0 (Windows NT 6.2; Win64; x64; rv:16...</td>\n",
       "      <td>-</td>\n",
       "    </tr>\n",
       "  </tbody>\n",
       "</table>\n",
       "</div>"
      ],
      "text/plain": [
       "              ip user              timestamp timezone  \\\n",
       "0   54.36.149.41    -  [22/Jan/2019:03:56:14   +0330]   \n",
       "1    31.56.96.51    -  [22/Jan/2019:03:56:16   +0330]   \n",
       "2    31.56.96.51    -  [22/Jan/2019:03:56:16   +0330]   \n",
       "3  40.77.167.129    -  [22/Jan/2019:03:56:17   +0330]   \n",
       "4    91.99.72.15    -  [22/Jan/2019:03:56:17   +0330]   \n",
       "\n",
       "                                        request_line status bytes_sent  \\\n",
       "0  GET /filter/27|13%20%D9%85%DA%AF%D8%A7%D9%BE%D...    200      30577   \n",
       "1     GET /image/60844/productModel/200x200 HTTP/1.1    200       5667   \n",
       "2     GET /image/61474/productModel/200x200 HTTP/1.1    200       5379   \n",
       "3     GET /image/14925/productModel/100x100 HTTP/1.1    200       1696   \n",
       "4  GET /product/31893/62100/%D8%B3%D8%B4%D9%88%D8...    200      41483   \n",
       "\n",
       "                               referer  \\\n",
       "0                                    -   \n",
       "1  https://www.zanbil.ir/m/filter/b113   \n",
       "2  https://www.zanbil.ir/m/filter/b113   \n",
       "3                                    -   \n",
       "4                                    -   \n",
       "\n",
       "                                          user_agent unknown_ip  \n",
       "0  Mozilla/5.0 (compatible; AhrefsBot/6.1; +http:...          -  \n",
       "1  Mozilla/5.0 (Linux; Android 6.0; ALE-L21 Build...          -  \n",
       "2  Mozilla/5.0 (Linux; Android 6.0; ALE-L21 Build...          -  \n",
       "3  Mozilla/5.0 (compatible; bingbot/2.0; +http://...          -  \n",
       "4  Mozilla/5.0 (Windows NT 6.2; Win64; x64; rv:16...          -  "
      ]
     },
     "execution_count": 14,
     "metadata": {},
     "output_type": "execute_result"
    }
   ],
   "source": [
    "df.limit(5).toPandas()"
   ]
  },
  {
   "cell_type": "markdown",
   "metadata": {},
   "source": [
    "Dann sollten wir noch die Inhalte innerhalb der Zellen bereinigen. Momentan werden leere Zellen mit einem Bindestrich gekennzeichnet. Wir wollen diese Bindestriche entfernen. Außerdem enthalten die Zellen der Spalten `timestamp` und `timezone` unnötige Symbole. Diese wollen wir auch entfernen."
   ]
  },
  {
   "cell_type": "code",
   "execution_count": 15,
   "metadata": {},
   "outputs": [],
   "source": [
    "df = df.withColumn(\"user\", regexp_replace(\"user\", \"-\", \"\")) \\\n",
    "  .withColumn(\"timestamp\", regexp_replace(\"timestamp\", \"^\\[\", \"\")) \\\n",
    "  .withColumn(\"timezone\", regexp_replace(\"timezone\", \"\\]$\", \"\")) \\\n",
    "  .withColumn(\"referer\", regexp_replace(\"referer\", \"-\", \"\"))"
   ]
  },
  {
   "cell_type": "code",
   "execution_count": 16,
   "metadata": {},
   "outputs": [
    {
     "data": {
      "text/html": [
       "<div>\n",
       "<style scoped>\n",
       "    .dataframe tbody tr th:only-of-type {\n",
       "        vertical-align: middle;\n",
       "    }\n",
       "\n",
       "    .dataframe tbody tr th {\n",
       "        vertical-align: top;\n",
       "    }\n",
       "\n",
       "    .dataframe thead th {\n",
       "        text-align: right;\n",
       "    }\n",
       "</style>\n",
       "<table border=\"1\" class=\"dataframe\">\n",
       "  <thead>\n",
       "    <tr style=\"text-align: right;\">\n",
       "      <th></th>\n",
       "      <th>ip</th>\n",
       "      <th>user</th>\n",
       "      <th>timestamp</th>\n",
       "      <th>timezone</th>\n",
       "      <th>request_line</th>\n",
       "      <th>status</th>\n",
       "      <th>bytes_sent</th>\n",
       "      <th>referer</th>\n",
       "      <th>user_agent</th>\n",
       "      <th>unknown_ip</th>\n",
       "    </tr>\n",
       "  </thead>\n",
       "  <tbody>\n",
       "    <tr>\n",
       "      <th>0</th>\n",
       "      <td>54.36.149.41</td>\n",
       "      <td></td>\n",
       "      <td>22/Jan/2019:03:56:14</td>\n",
       "      <td>+0330</td>\n",
       "      <td>GET /filter/27|13%20%D9%85%DA%AF%D8%A7%D9%BE%D...</td>\n",
       "      <td>200</td>\n",
       "      <td>30577</td>\n",
       "      <td></td>\n",
       "      <td>Mozilla/5.0 (compatible; AhrefsBot/6.1; +http:...</td>\n",
       "      <td>-</td>\n",
       "    </tr>\n",
       "    <tr>\n",
       "      <th>1</th>\n",
       "      <td>31.56.96.51</td>\n",
       "      <td></td>\n",
       "      <td>22/Jan/2019:03:56:16</td>\n",
       "      <td>+0330</td>\n",
       "      <td>GET /image/60844/productModel/200x200 HTTP/1.1</td>\n",
       "      <td>200</td>\n",
       "      <td>5667</td>\n",
       "      <td>https://www.zanbil.ir/m/filter/b113</td>\n",
       "      <td>Mozilla/5.0 (Linux; Android 6.0; ALE-L21 Build...</td>\n",
       "      <td>-</td>\n",
       "    </tr>\n",
       "    <tr>\n",
       "      <th>2</th>\n",
       "      <td>31.56.96.51</td>\n",
       "      <td></td>\n",
       "      <td>22/Jan/2019:03:56:16</td>\n",
       "      <td>+0330</td>\n",
       "      <td>GET /image/61474/productModel/200x200 HTTP/1.1</td>\n",
       "      <td>200</td>\n",
       "      <td>5379</td>\n",
       "      <td>https://www.zanbil.ir/m/filter/b113</td>\n",
       "      <td>Mozilla/5.0 (Linux; Android 6.0; ALE-L21 Build...</td>\n",
       "      <td>-</td>\n",
       "    </tr>\n",
       "    <tr>\n",
       "      <th>3</th>\n",
       "      <td>40.77.167.129</td>\n",
       "      <td></td>\n",
       "      <td>22/Jan/2019:03:56:17</td>\n",
       "      <td>+0330</td>\n",
       "      <td>GET /image/14925/productModel/100x100 HTTP/1.1</td>\n",
       "      <td>200</td>\n",
       "      <td>1696</td>\n",
       "      <td></td>\n",
       "      <td>Mozilla/5.0 (compatible; bingbot/2.0; +http://...</td>\n",
       "      <td>-</td>\n",
       "    </tr>\n",
       "    <tr>\n",
       "      <th>4</th>\n",
       "      <td>91.99.72.15</td>\n",
       "      <td></td>\n",
       "      <td>22/Jan/2019:03:56:17</td>\n",
       "      <td>+0330</td>\n",
       "      <td>GET /product/31893/62100/%D8%B3%D8%B4%D9%88%D8...</td>\n",
       "      <td>200</td>\n",
       "      <td>41483</td>\n",
       "      <td></td>\n",
       "      <td>Mozilla/5.0 (Windows NT 6.2; Win64; x64; rv:16...</td>\n",
       "      <td>-</td>\n",
       "    </tr>\n",
       "  </tbody>\n",
       "</table>\n",
       "</div>"
      ],
      "text/plain": [
       "              ip user             timestamp timezone  \\\n",
       "0   54.36.149.41       22/Jan/2019:03:56:14    +0330   \n",
       "1    31.56.96.51       22/Jan/2019:03:56:16    +0330   \n",
       "2    31.56.96.51       22/Jan/2019:03:56:16    +0330   \n",
       "3  40.77.167.129       22/Jan/2019:03:56:17    +0330   \n",
       "4    91.99.72.15       22/Jan/2019:03:56:17    +0330   \n",
       "\n",
       "                                        request_line status bytes_sent  \\\n",
       "0  GET /filter/27|13%20%D9%85%DA%AF%D8%A7%D9%BE%D...    200      30577   \n",
       "1     GET /image/60844/productModel/200x200 HTTP/1.1    200       5667   \n",
       "2     GET /image/61474/productModel/200x200 HTTP/1.1    200       5379   \n",
       "3     GET /image/14925/productModel/100x100 HTTP/1.1    200       1696   \n",
       "4  GET /product/31893/62100/%D8%B3%D8%B4%D9%88%D8...    200      41483   \n",
       "\n",
       "                               referer  \\\n",
       "0                                        \n",
       "1  https://www.zanbil.ir/m/filter/b113   \n",
       "2  https://www.zanbil.ir/m/filter/b113   \n",
       "3                                        \n",
       "4                                        \n",
       "\n",
       "                                          user_agent unknown_ip  \n",
       "0  Mozilla/5.0 (compatible; AhrefsBot/6.1; +http:...          -  \n",
       "1  Mozilla/5.0 (Linux; Android 6.0; ALE-L21 Build...          -  \n",
       "2  Mozilla/5.0 (Linux; Android 6.0; ALE-L21 Build...          -  \n",
       "3  Mozilla/5.0 (compatible; bingbot/2.0; +http://...          -  \n",
       "4  Mozilla/5.0 (Windows NT 6.2; Win64; x64; rv:16...          -  "
      ]
     },
     "execution_count": 16,
     "metadata": {},
     "output_type": "execute_result"
    }
   ],
   "source": [
    "df.limit(5).toPandas()"
   ]
  },
  {
   "cell_type": "markdown",
   "metadata": {},
   "source": [
    "Uns fällt auf, dass die Spalte `request_line` in zwei Spalten aufgeteilt werden kann. Sie enthält nämlich zum einen die Information darüber, welche HTTP-Methode in einer Anfrage verwendet wurde, und zum anderen den URL-Pfad mit Query-Parametern. Wir wollen die Spalte `request_line` in die Spalten `method` und `request_path` aufteilen."
   ]
  },
  {
   "cell_type": "code",
   "execution_count": 17,
   "metadata": {},
   "outputs": [],
   "source": [
    "request_line_split = split(df.request_line, \" \")\n",
    "df = df.withColumn(\"method\", request_line_split.getItem(0)) \\\n",
    "  .withColumn(\"request_path\", request_line_split.getItem(1))"
   ]
  },
  {
   "cell_type": "code",
   "execution_count": 18,
   "metadata": {},
   "outputs": [
    {
     "data": {
      "text/html": [
       "<div>\n",
       "<style scoped>\n",
       "    .dataframe tbody tr th:only-of-type {\n",
       "        vertical-align: middle;\n",
       "    }\n",
       "\n",
       "    .dataframe tbody tr th {\n",
       "        vertical-align: top;\n",
       "    }\n",
       "\n",
       "    .dataframe thead th {\n",
       "        text-align: right;\n",
       "    }\n",
       "</style>\n",
       "<table border=\"1\" class=\"dataframe\">\n",
       "  <thead>\n",
       "    <tr style=\"text-align: right;\">\n",
       "      <th></th>\n",
       "      <th>request_line</th>\n",
       "      <th>method</th>\n",
       "      <th>request_path</th>\n",
       "    </tr>\n",
       "  </thead>\n",
       "  <tbody>\n",
       "    <tr>\n",
       "      <th>0</th>\n",
       "      <td>GET /filter/27|13%20%D9%85%DA%AF%D8%A7%D9%BE%D...</td>\n",
       "      <td>GET</td>\n",
       "      <td>/filter/27|13%20%D9%85%DA%AF%D8%A7%D9%BE%DB%8C...</td>\n",
       "    </tr>\n",
       "    <tr>\n",
       "      <th>1</th>\n",
       "      <td>GET /image/60844/productModel/200x200 HTTP/1.1</td>\n",
       "      <td>GET</td>\n",
       "      <td>/image/60844/productModel/200x200</td>\n",
       "    </tr>\n",
       "    <tr>\n",
       "      <th>2</th>\n",
       "      <td>GET /image/61474/productModel/200x200 HTTP/1.1</td>\n",
       "      <td>GET</td>\n",
       "      <td>/image/61474/productModel/200x200</td>\n",
       "    </tr>\n",
       "    <tr>\n",
       "      <th>3</th>\n",
       "      <td>GET /image/14925/productModel/100x100 HTTP/1.1</td>\n",
       "      <td>GET</td>\n",
       "      <td>/image/14925/productModel/100x100</td>\n",
       "    </tr>\n",
       "    <tr>\n",
       "      <th>4</th>\n",
       "      <td>GET /product/31893/62100/%D8%B3%D8%B4%D9%88%D8...</td>\n",
       "      <td>GET</td>\n",
       "      <td>/product/31893/62100/%D8%B3%D8%B4%D9%88%D8%A7%...</td>\n",
       "    </tr>\n",
       "  </tbody>\n",
       "</table>\n",
       "</div>"
      ],
      "text/plain": [
       "                                        request_line method  \\\n",
       "0  GET /filter/27|13%20%D9%85%DA%AF%D8%A7%D9%BE%D...    GET   \n",
       "1     GET /image/60844/productModel/200x200 HTTP/1.1    GET   \n",
       "2     GET /image/61474/productModel/200x200 HTTP/1.1    GET   \n",
       "3     GET /image/14925/productModel/100x100 HTTP/1.1    GET   \n",
       "4  GET /product/31893/62100/%D8%B3%D8%B4%D9%88%D8...    GET   \n",
       "\n",
       "                                        request_path  \n",
       "0  /filter/27|13%20%D9%85%DA%AF%D8%A7%D9%BE%DB%8C...  \n",
       "1                  /image/60844/productModel/200x200  \n",
       "2                  /image/61474/productModel/200x200  \n",
       "3                  /image/14925/productModel/100x100  \n",
       "4  /product/31893/62100/%D8%B3%D8%B4%D9%88%D8%A7%...  "
      ]
     },
     "execution_count": 18,
     "metadata": {},
     "output_type": "execute_result"
    }
   ],
   "source": [
    "df.select(\"request_line\", \"method\", \"request_path\").limit(5).toPandas()"
   ]
  },
  {
   "cell_type": "code",
   "execution_count": 19,
   "metadata": {},
   "outputs": [],
   "source": [
    "pd.set_option('display.max_rows', 10)\n",
    "pd.set_option(\"display.max_colwidth\", old_value)"
   ]
  },
  {
   "cell_type": "markdown",
   "metadata": {},
   "source": [
    "## Lazy Evaluation"
   ]
  },
  {
   "cell_type": "markdown",
   "metadata": {},
   "source": [
    "Spark führt Befehle lazy (träge) aus.\n",
    "\n",
    "Um das zu verdeutlichen geben wir die durchscnittliche Menge an Bytes pro Status aus.\n",
    "\n",
    "Dafür ändern wir den Typ der Spalte zu int."
   ]
  },
  {
   "cell_type": "code",
   "execution_count": 20,
   "metadata": {},
   "outputs": [],
   "source": [
    "df_lazy = df.withColumn(\"bytes_sent\",col(\"bytes_sent\").cast(\"int\"))"
   ]
  },
  {
   "cell_type": "markdown",
   "metadata": {},
   "source": [
    "Wie lange wird die nächste Zeile ungefähr brauchen?"
   ]
  },
  {
   "cell_type": "code",
   "execution_count": 21,
   "metadata": {},
   "outputs": [],
   "source": [
    "df_lazy = df_lazy.select([\"status\",\"bytes_sent\"]).groupBy(\"status\").avg(\"bytes_sent\")"
   ]
  },
  {
   "cell_type": "markdown",
   "metadata": {},
   "source": [
    "Spark speichert den Plan, welcher ausgeführt wird, sobald die Daten benötigt werden."
   ]
  },
  {
   "cell_type": "code",
   "execution_count": 22,
   "metadata": {},
   "outputs": [
    {
     "name": "stdout",
     "output_type": "stream",
     "text": [
      "== Physical Plan ==\n",
      "AdaptiveSparkPlan isFinalPlan=false\n",
      "+- HashAggregate(keys=[status#178], functions=[avg(bytes_sent#326)])\n",
      "   +- Exchange hashpartitioning(status#178, 200), ENSURE_REQUIREMENTS, [id=#287]\n",
      "      +- HashAggregate(keys=[status#178], functions=[partial_avg(bytes_sent#326)])\n",
      "         +- Project [_c6#22 AS status#178, cast(_c7#23 as int) AS bytes_sent#326]\n",
      "            +- FileScan csv [_c6#22,_c7#23] Batched: false, DataFilters: [], Format: CSV, Location: InMemoryFileIndex(1 paths)[file:/tmp/data/access.log], PartitionFilters: [], PushedFilters: [], ReadSchema: struct<_c6:string,_c7:string>\n",
      "\n",
      "\n"
     ]
    }
   ],
   "source": [
    "df_lazy.explain()"
   ]
  },
  {
   "cell_type": "markdown",
   "metadata": {},
   "source": [
    "Ausgeführt wird der (optimierte) Plan, wenn die Daten gebraucht werden."
   ]
  },
  {
   "cell_type": "code",
   "execution_count": 23,
   "metadata": {},
   "outputs": [
    {
     "name": "stderr",
     "output_type": "stream",
     "text": [
      "[Stage 20:===================================================>    (25 + 2) / 27]\r"
     ]
    },
    {
     "name": "stdout",
     "output_type": "stream",
     "text": [
      "+------+--------------------+\n",
      "|status|     avg(bytes_sent)|\n",
      "+------+--------------------+\n",
      "|   200|  13228.265039497068|\n",
      "|   408|                 0.0|\n",
      "|   401|               951.0|\n",
      "|   302|0.014642079715765506|\n",
      "|   502|  419.23057644110276|\n",
      "|   404|  15929.823532772758|\n",
      "|   403|  158.75008874689385|\n",
      "|   500|  32309.109561194447|\n",
      "|   304|                 0.0|\n",
      "|   400|  206.77815699658703|\n",
      "|   499|                 0.0|\n",
      "|   504|               570.0|\n",
      "|   301|  162.08560685683833|\n",
      "|   414|               186.0|\n",
      "|   405|               977.0|\n",
      "|   206|   67633.33333333333|\n",
      "+------+--------------------+\n",
      "\n"
     ]
    },
    {
     "name": "stderr",
     "output_type": "stream",
     "text": [
      "                                                                                \r"
     ]
    }
   ],
   "source": [
    "df_lazy.show()"
   ]
  },
  {
   "cell_type": "markdown",
   "metadata": {},
   "source": [
    "### Vergleich zu Pandas"
   ]
  },
  {
   "cell_type": "markdown",
   "metadata": {},
   "source": [
    "Zur Erinnerung, so laden wir die Daten in Spark."
   ]
  },
  {
   "cell_type": "code",
   "execution_count": 24,
   "metadata": {},
   "outputs": [],
   "source": [
    "spark_load_example = spark.read.csv(\"/tmp/data/access.log\", sep=\" \")"
   ]
  },
  {
   "cell_type": "markdown",
   "metadata": {},
   "source": [
    "Wo dauert das laden der Daten länger und warum?"
   ]
  },
  {
   "cell_type": "code",
   "execution_count": 25,
   "metadata": {},
   "outputs": [],
   "source": [
    "pandas_load_example = pd.read_csv(\"/tmp/data/access.log\", sep= \" \", header=None)"
   ]
  },
  {
   "cell_type": "markdown",
   "metadata": {},
   "source": [
    "Pandas lädt die Daten in den Arbeitsspeicher, wie viel Arbeitspeicher gebraucht wird, kann man sich anzeigen lassen."
   ]
  },
  {
   "cell_type": "code",
   "execution_count": 26,
   "metadata": {},
   "outputs": [
    {
     "name": "stdout",
     "output_type": "stream",
     "text": [
      "<class 'pandas.core.frame.DataFrame'>\n",
      "RangeIndex: 10365152 entries, 0 to 10365151\n",
      "Data columns (total 11 columns):\n",
      " #   Column  Dtype \n",
      "---  ------  ----- \n",
      " 0   0       object\n",
      " 1   1       object\n",
      " 2   2       object\n",
      " 3   3       object\n",
      " 4   4       object\n",
      " 5   5       object\n",
      " 6   6       int64 \n",
      " 7   7       int64 \n",
      " 8   8       object\n",
      " 9   9       object\n",
      " 10  10      object\n",
      "dtypes: int64(2), object(9)\n",
      "memory usage: 869.9+ MB\n"
     ]
    }
   ],
   "source": [
    "pandas_load_example.info()"
   ]
  },
  {
   "cell_type": "markdown",
   "metadata": {},
   "source": [
    "Das Bedeutet, spätestens, wenn die Daten größer sind als der verfügbare Speicher kann pandas nicht mehr genutzt werden.\n",
    "Spark ist eine der gängigen Lösungen für diesen Fall."
   ]
  },
  {
   "cell_type": "markdown",
   "metadata": {},
   "source": [
    "## Beliebteste Produkte\n",
    "\n",
    "Wir gehen von der Annahme aus, dass die Beliebtheit eines Produkts von der Anzahl der Anfragen an das Produkt abgeleitet werden kann. Diese Metrik kann zwar leicht durch äußere Einwirkungen manipuliert werden, aber diese Tatsache ignorieren wir im Rahmen dieser Aufgabe.\n",
    "\n",
    "Als erstes wollen wir herausfinden, welche Anfragen auf ein bestimmtes Produkt bezogen sind. Dafür fügen wir in unserem `DataFrame` eine weitere Spalte `product_id` hinzu, in der die Produkt-ID der Anfragen steht, die einen Anfragepfad im Schema `/product/<product-id>` besitzen."
   ]
  },
  {
   "cell_type": "code",
   "execution_count": 27,
   "metadata": {},
   "outputs": [],
   "source": [
    "df = df.withColumn(\"product_id\", regexp_extract(\"request_path\", r'^/product/(\\d+)', 1))"
   ]
  },
  {
   "cell_type": "code",
   "execution_count": 28,
   "metadata": {},
   "outputs": [
    {
     "data": {
      "text/html": [
       "<div>\n",
       "<style scoped>\n",
       "    .dataframe tbody tr th:only-of-type {\n",
       "        vertical-align: middle;\n",
       "    }\n",
       "\n",
       "    .dataframe tbody tr th {\n",
       "        vertical-align: top;\n",
       "    }\n",
       "\n",
       "    .dataframe thead th {\n",
       "        text-align: right;\n",
       "    }\n",
       "</style>\n",
       "<table border=\"1\" class=\"dataframe\">\n",
       "  <thead>\n",
       "    <tr style=\"text-align: right;\">\n",
       "      <th></th>\n",
       "      <th>request_path</th>\n",
       "      <th>product_id</th>\n",
       "    </tr>\n",
       "  </thead>\n",
       "  <tbody>\n",
       "    <tr>\n",
       "      <th>0</th>\n",
       "      <td>/product/31893/62100/%D8%B3%D8%B4%D9%88%D8%A7%...</td>\n",
       "      <td>31893</td>\n",
       "    </tr>\n",
       "    <tr>\n",
       "      <th>1</th>\n",
       "      <td>/product/10214</td>\n",
       "      <td>10214</td>\n",
       "    </tr>\n",
       "    <tr>\n",
       "      <th>2</th>\n",
       "      <td>/product/10075/13903/%D9%85%D8%A7%DB%8C%DA%A9%...</td>\n",
       "      <td>10075</td>\n",
       "    </tr>\n",
       "    <tr>\n",
       "      <th>3</th>\n",
       "      <td>/product/14926</td>\n",
       "      <td>14926</td>\n",
       "    </tr>\n",
       "    <tr>\n",
       "      <th>4</th>\n",
       "      <td>/product/32798/63266/%DB%8C%D8%AE%DA%86%D8%A7%...</td>\n",
       "      <td>32798</td>\n",
       "    </tr>\n",
       "    <tr>\n",
       "      <th>5</th>\n",
       "      <td>/product/30649?model=60398</td>\n",
       "      <td>30649</td>\n",
       "    </tr>\n",
       "    <tr>\n",
       "      <th>6</th>\n",
       "      <td>/product/7793/9663/%D9%85%D8%A7%DB%8C%DA%A9%D8...</td>\n",
       "      <td>7793</td>\n",
       "    </tr>\n",
       "    <tr>\n",
       "      <th>7</th>\n",
       "      <td>/product/81900</td>\n",
       "      <td>81900</td>\n",
       "    </tr>\n",
       "    <tr>\n",
       "      <th>8</th>\n",
       "      <td>/product/4057/47/78306</td>\n",
       "      <td>4057</td>\n",
       "    </tr>\n",
       "    <tr>\n",
       "      <th>9</th>\n",
       "      <td>/product/29080?model=58289</td>\n",
       "      <td>29080</td>\n",
       "    </tr>\n",
       "  </tbody>\n",
       "</table>\n",
       "</div>"
      ],
      "text/plain": [
       "                                        request_path product_id\n",
       "0  /product/31893/62100/%D8%B3%D8%B4%D9%88%D8%A7%...      31893\n",
       "1                                     /product/10214      10214\n",
       "2  /product/10075/13903/%D9%85%D8%A7%DB%8C%DA%A9%...      10075\n",
       "3                                     /product/14926      14926\n",
       "4  /product/32798/63266/%DB%8C%D8%AE%DA%86%D8%A7%...      32798\n",
       "5                         /product/30649?model=60398      30649\n",
       "6  /product/7793/9663/%D9%85%D8%A7%DB%8C%DA%A9%D8...       7793\n",
       "7                                     /product/81900      81900\n",
       "8                             /product/4057/47/78306       4057\n",
       "9                         /product/29080?model=58289      29080"
      ]
     },
     "execution_count": 28,
     "metadata": {},
     "output_type": "execute_result"
    }
   ],
   "source": [
    "df.select(\"request_path\", \"product_id\").filter(df.product_id != \"\").limit(10).toPandas()"
   ]
  },
  {
   "cell_type": "markdown",
   "metadata": {},
   "source": [
    "Wenn wir jetzt die Zeilen der Tabelle nach der der Produkt-ID gruppieren, die Anzahl der Reihen für jede Gruppe berechnen und die Gruppen nach dieser Anzahl sortieren, können wir die Anzahl der Anfragen für jedes Produkt auslesen."
   ]
  },
  {
   "cell_type": "code",
   "execution_count": 74,
   "metadata": {},
   "outputs": [
    {
     "data": {
      "text/plain": [
       "(50, 2)"
      ]
     },
     "execution_count": 74,
     "metadata": {},
     "output_type": "execute_result"
    }
   ],
   "source": [
    "product_group_df.shape\n",
    "product_group_df = df.filter(df.product_id != \"\") \\\n",
    "    .groupBy(\"product_id\") \\\n",
    "    .count() \\\n",
    "    .orderBy(\"count\", ascending=False) \\\n",
    "    .limit(100) \\\n",
    "    .toPandas()"
   ]
  },
  {
   "cell_type": "code",
   "execution_count": 30,
   "metadata": {},
   "outputs": [
    {
     "data": {
      "text/html": [
       "<div>\n",
       "<style scoped>\n",
       "    .dataframe tbody tr th:only-of-type {\n",
       "        vertical-align: middle;\n",
       "    }\n",
       "\n",
       "    .dataframe tbody tr th {\n",
       "        vertical-align: top;\n",
       "    }\n",
       "\n",
       "    .dataframe thead th {\n",
       "        text-align: right;\n",
       "    }\n",
       "</style>\n",
       "<table border=\"1\" class=\"dataframe\">\n",
       "  <thead>\n",
       "    <tr style=\"text-align: right;\">\n",
       "      <th></th>\n",
       "      <th>product_id</th>\n",
       "      <th>count</th>\n",
       "    </tr>\n",
       "  </thead>\n",
       "  <tbody>\n",
       "    <tr>\n",
       "      <th>0</th>\n",
       "      <td>33953</td>\n",
       "      <td>764</td>\n",
       "    </tr>\n",
       "    <tr>\n",
       "      <th>1</th>\n",
       "      <td>34286</td>\n",
       "      <td>738</td>\n",
       "    </tr>\n",
       "    <tr>\n",
       "      <th>2</th>\n",
       "      <td>33968</td>\n",
       "      <td>693</td>\n",
       "    </tr>\n",
       "    <tr>\n",
       "      <th>3</th>\n",
       "      <td>33954</td>\n",
       "      <td>687</td>\n",
       "    </tr>\n",
       "    <tr>\n",
       "      <th>4</th>\n",
       "      <td>33956</td>\n",
       "      <td>594</td>\n",
       "    </tr>\n",
       "  </tbody>\n",
       "</table>\n",
       "</div>"
      ],
      "text/plain": [
       "  product_id  count\n",
       "0      33953    764\n",
       "1      34286    738\n",
       "2      33968    693\n",
       "3      33954    687\n",
       "4      33956    594"
      ]
     },
     "execution_count": 30,
     "metadata": {},
     "output_type": "execute_result"
    }
   ],
   "source": [
    "product_group_df.head()"
   ]
  },
  {
   "cell_type": "code",
   "execution_count": 31,
   "metadata": {},
   "outputs": [
    {
     "data": {
      "text/plain": [
       "<AxesSubplot:xlabel='product_id'>"
      ]
     },
     "execution_count": 31,
     "metadata": {},
     "output_type": "execute_result"
    },
    {
     "data": {
      "image/png": "[encoded data removed]",
      "text/plain": [
       "<Figure size 1440x432 with 1 Axes>"
      ]
     },
     "metadata": {
      "needs_background": "light"
     },
     "output_type": "display_data"
    }
   ],
   "source": [
    "product_group_df.plot.bar(figsize=(20, 6), x=\"product_id\")"
   ]
  },
  {
   "cell_type": "markdown",
   "metadata": {},
   "source": [
    "## Weitere Auffälligkeiten\n",
    "\n",
    "Jetzt wollen wir den Datensatz auf weitere Auffälligkeiten untersuchen."
   ]
  },
  {
   "cell_type": "markdown",
   "metadata": {},
   "source": [
    "### URL-Pfad-Längen\n",
    "\n",
    "HTTP-Anfragen, die sehr lange Pfade enthalten, können für den Webserver eventuell problematisch sein, weil deren Verarbeitung hohen Rechenaufwand erzeugt.\n",
    "\n",
    "Wir wollen deshalb herausfinden, ob der Webserver des Online-Shops Anfragen erhält, die ungewöhnlich lange Pfade enthalten. Dazu fügen wir eine neue Spalte im `DataFrame` hinzu, die mit der Anzahl der Zeichen des Pfades in der jeweiligen Zeile gefüllt wird."
   ]
  },
  {
   "cell_type": "code",
   "execution_count": 32,
   "metadata": {},
   "outputs": [],
   "source": [
    "df = df.withColumn(\"request_path_length\", length(\"request_path\"))"
   ]
  },
  {
   "cell_type": "markdown",
   "metadata": {},
   "source": [
    "Jetzt sortieren wir die Zeilen abfallend nach der Pfadlänge, um die Anfragen mit den längsten Pfaden auslesen zu können."
   ]
  },
  {
   "cell_type": "code",
   "execution_count": 33,
   "metadata": {},
   "outputs": [
    {
     "name": "stderr",
     "output_type": "stream",
     "text": [
      "                                                                                \r"
     ]
    }
   ],
   "source": [
    "pandas_df = df.select(\"ip\", \"method\", \"request_path\", \"status\", \"request_path_length\") \\\n",
    "  .sort(df.request_path_length.desc()) \\\n",
    "  .limit(20) \\\n",
    "  .toPandas()"
   ]
  },
  {
   "cell_type": "code",
   "execution_count": 34,
   "metadata": {},
   "outputs": [
    {
     "data": {
      "text/html": [
       "<div>\n",
       "<style scoped>\n",
       "    .dataframe tbody tr th:only-of-type {\n",
       "        vertical-align: middle;\n",
       "    }\n",
       "\n",
       "    .dataframe tbody tr th {\n",
       "        vertical-align: top;\n",
       "    }\n",
       "\n",
       "    .dataframe thead th {\n",
       "        text-align: right;\n",
       "    }\n",
       "</style>\n",
       "<table border=\"1\" class=\"dataframe\">\n",
       "  <thead>\n",
       "    <tr style=\"text-align: right;\">\n",
       "      <th></th>\n",
       "      <th>ip</th>\n",
       "      <th>method</th>\n",
       "      <th>request_path</th>\n",
       "      <th>status</th>\n",
       "      <th>request_path_length</th>\n",
       "    </tr>\n",
       "  </thead>\n",
       "  <tbody>\n",
       "    <tr>\n",
       "      <th>0</th>\n",
       "      <td>5.78.190.233</td>\n",
       "      <td>GET</td>\n",
       "      <td>/rapidGrails/jsonList?maxColumns=10&amp;domainClas...</td>\n",
       "      <td>414</td>\n",
       "      <td>8188</td>\n",
       "    </tr>\n",
       "    <tr>\n",
       "      <th>1</th>\n",
       "      <td>91.99.47.57</td>\n",
       "      <td>GET</td>\n",
       "      <td>/rapidGrails/jsonList?maxColumns=10&amp;domainClas...</td>\n",
       "      <td>414</td>\n",
       "      <td>8188</td>\n",
       "    </tr>\n",
       "    <tr>\n",
       "      <th>2</th>\n",
       "      <td>5.117.116.238</td>\n",
       "      <td>GET</td>\n",
       "      <td>/rapidGrails/jsonList?maxColumns=10&amp;domainClas...</td>\n",
       "      <td>414</td>\n",
       "      <td>8188</td>\n",
       "    </tr>\n",
       "    <tr>\n",
       "      <th>3</th>\n",
       "      <td>5.117.116.238</td>\n",
       "      <td>GET</td>\n",
       "      <td>/rapidGrails/jsonList?maxColumns=10&amp;domainClas...</td>\n",
       "      <td>414</td>\n",
       "      <td>8188</td>\n",
       "    </tr>\n",
       "    <tr>\n",
       "      <th>4</th>\n",
       "      <td>91.99.30.32</td>\n",
       "      <td>GET</td>\n",
       "      <td>/rapidGrails/jsonList?maxColumns=10&amp;domainClas...</td>\n",
       "      <td>414</td>\n",
       "      <td>8188</td>\n",
       "    </tr>\n",
       "    <tr>\n",
       "      <th>...</th>\n",
       "      <td>...</td>\n",
       "      <td>...</td>\n",
       "      <td>...</td>\n",
       "      <td>...</td>\n",
       "      <td>...</td>\n",
       "    </tr>\n",
       "    <tr>\n",
       "      <th>15</th>\n",
       "      <td>91.99.30.32</td>\n",
       "      <td>GET</td>\n",
       "      <td>/rapidGrails/jsonList?maxColumns=10&amp;domainClas...</td>\n",
       "      <td>414</td>\n",
       "      <td>8188</td>\n",
       "    </tr>\n",
       "    <tr>\n",
       "      <th>16</th>\n",
       "      <td>91.99.47.57</td>\n",
       "      <td>GET</td>\n",
       "      <td>/rapidGrails/jsonList?maxColumns=10&amp;domainClas...</td>\n",
       "      <td>414</td>\n",
       "      <td>8188</td>\n",
       "    </tr>\n",
       "    <tr>\n",
       "      <th>17</th>\n",
       "      <td>5.78.190.233</td>\n",
       "      <td>GET</td>\n",
       "      <td>/rapidGrails/jsonList?maxColumns=10&amp;domainClas...</td>\n",
       "      <td>499</td>\n",
       "      <td>7878</td>\n",
       "    </tr>\n",
       "    <tr>\n",
       "      <th>18</th>\n",
       "      <td>5.78.190.233</td>\n",
       "      <td>GET</td>\n",
       "      <td>/rapidGrails/jsonList?maxColumns=10&amp;domainClas...</td>\n",
       "      <td>499</td>\n",
       "      <td>7878</td>\n",
       "    </tr>\n",
       "    <tr>\n",
       "      <th>19</th>\n",
       "      <td>5.78.190.233</td>\n",
       "      <td>GET</td>\n",
       "      <td>/rapidGrails/jsonList?maxColumns=10&amp;domainClas...</td>\n",
       "      <td>200</td>\n",
       "      <td>7878</td>\n",
       "    </tr>\n",
       "  </tbody>\n",
       "</table>\n",
       "<p>20 rows × 5 columns</p>\n",
       "</div>"
      ],
      "text/plain": [
       "               ip method                                       request_path  \\\n",
       "0    5.78.190.233    GET  /rapidGrails/jsonList?maxColumns=10&domainClas...   \n",
       "1     91.99.47.57    GET  /rapidGrails/jsonList?maxColumns=10&domainClas...   \n",
       "2   5.117.116.238    GET  /rapidGrails/jsonList?maxColumns=10&domainClas...   \n",
       "3   5.117.116.238    GET  /rapidGrails/jsonList?maxColumns=10&domainClas...   \n",
       "4     91.99.30.32    GET  /rapidGrails/jsonList?maxColumns=10&domainClas...   \n",
       "..            ...    ...                                                ...   \n",
       "15    91.99.30.32    GET  /rapidGrails/jsonList?maxColumns=10&domainClas...   \n",
       "16    91.99.47.57    GET  /rapidGrails/jsonList?maxColumns=10&domainClas...   \n",
       "17   5.78.190.233    GET  /rapidGrails/jsonList?maxColumns=10&domainClas...   \n",
       "18   5.78.190.233    GET  /rapidGrails/jsonList?maxColumns=10&domainClas...   \n",
       "19   5.78.190.233    GET  /rapidGrails/jsonList?maxColumns=10&domainClas...   \n",
       "\n",
       "   status  request_path_length  \n",
       "0     414                 8188  \n",
       "1     414                 8188  \n",
       "2     414                 8188  \n",
       "3     414                 8188  \n",
       "4     414                 8188  \n",
       "..    ...                  ...  \n",
       "15    414                 8188  \n",
       "16    414                 8188  \n",
       "17    499                 7878  \n",
       "18    499                 7878  \n",
       "19    200                 7878  \n",
       "\n",
       "[20 rows x 5 columns]"
      ]
     },
     "execution_count": 34,
     "metadata": {},
     "output_type": "execute_result"
    }
   ],
   "source": [
    "pandas_df"
   ]
  },
  {
   "cell_type": "markdown",
   "metadata": {},
   "source": [
    "Wir sehen, dass die meisten Anfragen mit den längsten Pfaden zur Route `/rapidGrails/...` gehören. Die Route wird anscheinend von dem Java Plugin „Grails“ genutzt, um große JSON-ähnlichen Datenmengen über die Query-Parameter einer `GET`-Anfrage an den Server zu übertragen. Einige dieser Anfragen wurden vom Webserver mit dem Fehlercode 414 („URI Too Long“) beantwortet. Um das Problem zu lösen, könnte man das Plugin eventuell so konfigurieren, dass die Daten im Body einer `POST`-Anfrage übertragen werden, anstatt dies über die Query-Parameter einer `GET`-Anfrage zu tun."
   ]
  },
  {
   "cell_type": "markdown",
   "metadata": {},
   "source": [
    "Jetzt wollen wir herausfinden, welche anderen Anfragen es neben denen des fehlerhaften Plugins noch gibt, die ebenfalls überdurchschnittlich lange Pfade enthalten. Dazu führen wir die Sortierung nach Pfadlänge ein weiteres Mal durch, aber ignorieren diesmal alle Pfade mit dem Schema `/rapidGrails/...`."
   ]
  },
  {
   "cell_type": "code",
   "execution_count": 35,
   "metadata": {},
   "outputs": [
    {
     "name": "stderr",
     "output_type": "stream",
     "text": [
      "                                                                                \r"
     ]
    }
   ],
   "source": [
    "pandas_df = df.select(\"ip\", \"method\", \"request_path\", \"status\", \"request_path_length\") \\\n",
    "  .filter(~df.request_path.rlike(r'^/rapidGrails/')) \\\n",
    "  .sort(df.request_path_length.desc()) \\\n",
    "  .limit(20) \\\n",
    "  .toPandas()"
   ]
  },
  {
   "cell_type": "code",
   "execution_count": 36,
   "metadata": {},
   "outputs": [
    {
     "data": {
      "text/html": [
       "<div>\n",
       "<style scoped>\n",
       "    .dataframe tbody tr th:only-of-type {\n",
       "        vertical-align: middle;\n",
       "    }\n",
       "\n",
       "    .dataframe tbody tr th {\n",
       "        vertical-align: top;\n",
       "    }\n",
       "\n",
       "    .dataframe thead th {\n",
       "        text-align: right;\n",
       "    }\n",
       "</style>\n",
       "<table border=\"1\" class=\"dataframe\">\n",
       "  <thead>\n",
       "    <tr style=\"text-align: right;\">\n",
       "      <th></th>\n",
       "      <th>ip</th>\n",
       "      <th>method</th>\n",
       "      <th>request_path</th>\n",
       "      <th>status</th>\n",
       "      <th>request_path_length</th>\n",
       "    </tr>\n",
       "  </thead>\n",
       "  <tbody>\n",
       "    <tr>\n",
       "      <th>0</th>\n",
       "      <td>79.175.173.155</td>\n",
       "      <td>GET</td>\n",
       "      <td>/message/receive?Destination=982142328&amp;Source=...</td>\n",
       "      <td>200</td>\n",
       "      <td>2051</td>\n",
       "    </tr>\n",
       "    <tr>\n",
       "      <th>1</th>\n",
       "      <td>79.175.173.155</td>\n",
       "      <td>GET</td>\n",
       "      <td>/message/receive?Destination=982142328&amp;Source=...</td>\n",
       "      <td>301</td>\n",
       "      <td>2051</td>\n",
       "    </tr>\n",
       "    <tr>\n",
       "      <th>2</th>\n",
       "      <td>79.175.173.155</td>\n",
       "      <td>GET</td>\n",
       "      <td>/message/receive?Destination=982142328&amp;Source=...</td>\n",
       "      <td>301</td>\n",
       "      <td>2051</td>\n",
       "    </tr>\n",
       "    <tr>\n",
       "      <th>3</th>\n",
       "      <td>79.175.173.155</td>\n",
       "      <td>GET</td>\n",
       "      <td>/message/receive?Destination=982142328&amp;Source=...</td>\n",
       "      <td>200</td>\n",
       "      <td>2051</td>\n",
       "    </tr>\n",
       "    <tr>\n",
       "      <th>4</th>\n",
       "      <td>79.175.173.155</td>\n",
       "      <td>GET</td>\n",
       "      <td>/message/receive?Destination=982142328&amp;Source=...</td>\n",
       "      <td>200</td>\n",
       "      <td>2051</td>\n",
       "    </tr>\n",
       "    <tr>\n",
       "      <th>...</th>\n",
       "      <td>...</td>\n",
       "      <td>...</td>\n",
       "      <td>...</td>\n",
       "      <td>...</td>\n",
       "      <td>...</td>\n",
       "    </tr>\n",
       "    <tr>\n",
       "      <th>15</th>\n",
       "      <td>79.175.173.155</td>\n",
       "      <td>GET</td>\n",
       "      <td>/message/receive?Destination=982142328&amp;Source=...</td>\n",
       "      <td>200</td>\n",
       "      <td>1988</td>\n",
       "    </tr>\n",
       "    <tr>\n",
       "      <th>16</th>\n",
       "      <td>79.175.173.155</td>\n",
       "      <td>GET</td>\n",
       "      <td>/message/receive?Destination=982142328&amp;Source=...</td>\n",
       "      <td>301</td>\n",
       "      <td>1976</td>\n",
       "    </tr>\n",
       "    <tr>\n",
       "      <th>17</th>\n",
       "      <td>79.175.173.155</td>\n",
       "      <td>GET</td>\n",
       "      <td>/message/receive?Destination=982142328&amp;Source=...</td>\n",
       "      <td>200</td>\n",
       "      <td>1976</td>\n",
       "    </tr>\n",
       "    <tr>\n",
       "      <th>18</th>\n",
       "      <td>79.175.173.155</td>\n",
       "      <td>GET</td>\n",
       "      <td>/message/receive?Destination=982142328&amp;Source=...</td>\n",
       "      <td>301</td>\n",
       "      <td>1961</td>\n",
       "    </tr>\n",
       "    <tr>\n",
       "      <th>19</th>\n",
       "      <td>79.175.173.155</td>\n",
       "      <td>GET</td>\n",
       "      <td>/message/receive?Destination=982142328&amp;Source=...</td>\n",
       "      <td>200</td>\n",
       "      <td>1961</td>\n",
       "    </tr>\n",
       "  </tbody>\n",
       "</table>\n",
       "<p>20 rows × 5 columns</p>\n",
       "</div>"
      ],
      "text/plain": [
       "                ip method                                       request_path  \\\n",
       "0   79.175.173.155    GET  /message/receive?Destination=982142328&Source=...   \n",
       "1   79.175.173.155    GET  /message/receive?Destination=982142328&Source=...   \n",
       "2   79.175.173.155    GET  /message/receive?Destination=982142328&Source=...   \n",
       "3   79.175.173.155    GET  /message/receive?Destination=982142328&Source=...   \n",
       "4   79.175.173.155    GET  /message/receive?Destination=982142328&Source=...   \n",
       "..             ...    ...                                                ...   \n",
       "15  79.175.173.155    GET  /message/receive?Destination=982142328&Source=...   \n",
       "16  79.175.173.155    GET  /message/receive?Destination=982142328&Source=...   \n",
       "17  79.175.173.155    GET  /message/receive?Destination=982142328&Source=...   \n",
       "18  79.175.173.155    GET  /message/receive?Destination=982142328&Source=...   \n",
       "19  79.175.173.155    GET  /message/receive?Destination=982142328&Source=...   \n",
       "\n",
       "   status  request_path_length  \n",
       "0     200                 2051  \n",
       "1     301                 2051  \n",
       "2     301                 2051  \n",
       "3     200                 2051  \n",
       "4     200                 2051  \n",
       "..    ...                  ...  \n",
       "15    200                 1988  \n",
       "16    301                 1976  \n",
       "17    200                 1976  \n",
       "18    301                 1961  \n",
       "19    200                 1961  \n",
       "\n",
       "[20 rows x 5 columns]"
      ]
     },
     "execution_count": 36,
     "metadata": {},
     "output_type": "execute_result"
    }
   ],
   "source": [
    "pandas_df"
   ]
  },
  {
   "cell_type": "markdown",
   "metadata": {},
   "source": [
    "Wie wir sehen, sind auch die Pfade der Anfragen an die Route `/message/...` relativ lang. Schauen wir uns einen dieser Pfade mal genauer an:"
   ]
  },
  {
   "cell_type": "code",
   "execution_count": 37,
   "metadata": {},
   "outputs": [
    {
     "data": {
      "text/plain": [
       "'/message/receive?Destination=982142328&Source=989124309589&ReceiveTime=1548483681.619&MsgBody=%D8%A7%DB%8C%D9%86%D8%AC%D8%A7%D9%86%D8%A8+%D9%85%D8%AD%D9%85%D8%AF+%D9%85%D9%87%D8%AF%DB%8C+%D8%B9%D9%84%DB%8C+%D9%86%D9%82%DB%8C%D8%A7%D9%86+%D8%A8%D8%A7+%D9%83%D8%AF+%D8%B1%D9%87%DA%AF%DB%8C%D8%B1%DB%8C+9711050958%D8%A8%D8%A7+%D8%A2%DA%AF%D8%A7%D9%87%DB%8C+%D9%83%D8%A7%D9%85%D9%84+%D8%A7%D8%B2+%D8%A7%DB%8C%D9%86%D9%83%D9%87+%D8%A2%D8%A8%DA%AF%D8%B1%D9%85%D9%83%D9%86+%D8%AE%D8%B1%DB%8C%D8%AF%D8%A7%D8%B1%DB%8C+%D8%B4%D8%AF%D9%87+%D9%85%D8%AA%D9%86%D8%A7%D8%B3%D8%A8+%D8%A8%D8%A7+%D9%81%D8%B6%D8%A7%DB%8C+%D9%85%D8%AD%D9%84+%D9%86%D8%B5%D8%A8+%D8%A2%D9%86+%D8%A7%D8%B3%D8%AA+%D9%88+%D9%83%D8%A7%D8%B1%D8%B4%D9%86%D8%A7%D8%B3%D8%A7%D9%86+%D8%B4%D8%B1%D9%83%D8%AA+%D9%85%D8%B1%D8%A8%D9%88%D8%B7%D9%87+%28%D8%B4%D8%B1%D9%83%D8%AA+%D8%A7%D8%B1%D8%A7%D8%A6%D9%87+%D8%AF%D9%87%D9%86%D8%AF%D9%87+%D8%AE%D8%AF%D9%85%D8%A7%D8%AA+%DA%AF%D8%A7%D8%B1%D8%A7%D9%86%D8%AA%DB%8C%29+%D9%86%DB%8C%D8%B2+%D8%A2%D9%86+%D8%B1%D8%A7+%D8%AA%D8%A7%DB%8C%DB%8C%D8%AF+%D9%86%D9%85%D9%88%D8%AF%D9%87+%D8%A7%D9%86%D8%AF%D8%8C+%D8%A7%D9%82%D8%AF%D8%A7%D9%85+%D8%A8%D9%87+%D8%AE%D8%B1%DB%8C%D8%AF+%D9%86%D9%85%D9%88%D8%AF%D9%87+%D9%88+%D9%85%D8%B7%D9%84%D8%B9+%D9%87%D8%B3%D8%AA%D9%85+%D8%A2%D8%A8%DA%AF%D8%B1%D9%85%D9%83%D9%86+%D9%81%D9%88%D9%82+%D8%8C+%D8%AA%D8%AD%D8%AA+%D9%87%DB%8C%DA%86+%D8%B4%D8%B1%D8%A7%DB%8C%D8%B7%DB%8C+%28%D8%BA%DB%8C%D8%B1+%D8%A7%D8%B2+%D9%85%D9%88%D8%A7%D8%B1%D8%AF%DB%8C+%D9%83%D9%87+%D8%AF%D8%B3%D8%AA%DA%AF%D8%A7%D9%87+%D8%AF%D8%A7%D8%B1%D8%A7%DB%8C+%D8%A7%DB%8C%D8%B1%D8%A7%D8%AF+%D9%81%D9%86%DB%8C+%D8%A8%D8%A7%D8%B4%D8%AF+%D9%83%D9%87+%D8%A8%D9%87+%D8%AA%D8%A7%D8%A6%DB%8C%D8%AF+%D9%83%D8%A7%D8%B1%D8%B4%D9%86%D8%A7%D8%B3+%D8%B4%D8%B1%D9%83%D8%AA+%D8%AE%D8%AF%D9%85%D8%A7%D8%AA+%D8%B1%D8%B3%DB%8C%D8%AF%D9%87+%D8%A8%D8%A7%D8%B4%D8%AF%29+%D8%A7%D9%85%D9%83%D8%A7%D9%86+%D8%AA%D8%B9%D9%88%DB%8C%D8%B6+%DB%8C%D8%A7+%D9%85%D8%B1%D8%AC%D9%88%D8%B9+%D9%86%D9%85%D9%88%D8%AF%D9%86+%D9%86%D8%AF%D8%A7%D8%B1%D8%AF'"
      ]
     },
     "execution_count": 37,
     "metadata": {},
     "output_type": "execute_result"
    }
   ],
   "source": [
    "pandas_df.iloc[10].request_path"
   ]
  },
  {
   "cell_type": "code",
   "execution_count": 38,
   "metadata": {},
   "outputs": [
    {
     "name": "stdout",
     "output_type": "stream",
     "text": [
      "اینجانب محمد مهدی علی نقیان با كد رهگیری 9711050958با آگاهی كامل از اینكه آبگرمكن خریداری شده متناسب با فضای محل نصب آن است و كارشناسان شركت مربوطه (شركت ارائه دهنده خدمات گارانتی) نیز آن را تایید نموده اند، اقدام به خرید نموده و مطلع هستم آبگرمكن فوق ، تحت هیچ شرایطی (غیر از مواردی كه دستگاه دارای ایراد فنی باشد كه به تائید كارشناس شركت خدمات رسیده باشد) امكان تعویض یا مرجوع نمودن ندارد\n"
     ]
    }
   ],
   "source": [
    "import urllib.parse\n",
    "print(urllib.parse.unquote_plus(pandas_df.iloc[10].request_path.split(\"MsgBody=\")[1]))"
   ]
  },
  {
   "cell_type": "markdown",
   "metadata": {},
   "source": [
    "In dem Query-Parameter `MsgBody` wird eine persönliche Nachricht (iranisch und URL-kodiert) an einen Kunden des Online-Shops übermittelt. Diese Nachricht könnte eventuell sensible Informationen enthalten und sollte definitiv nicht im Query-String der URL enthalten sein. Stattdessen sollte für diese Funktion eine `POST`-Anfrage verwendet werden, die die zu übermittelnde Nachricht im Body enthält. So ließe sich verhindern, dass sensible Daten in einer Logdatei aufgezeichnet und dadurch leicht an unautorisierte Personen gelangen können."
   ]
  },
  {
   "cell_type": "markdown",
   "metadata": {},
   "source": [
    "## Hacking Angriffe\n",
    "\n",
    "Jetzt schauen wir uns noch an, welche HTTP-Methoden von den Anfragen in den Zugriffsdaten verwendet werden: "
   ]
  },
  {
   "cell_type": "code",
   "execution_count": 39,
   "metadata": {},
   "outputs": [
    {
     "name": "stderr",
     "output_type": "stream",
     "text": [
      "                                                                                \r"
     ]
    },
    {
     "data": {
      "text/html": [
       "<div>\n",
       "<style scoped>\n",
       "    .dataframe tbody tr th:only-of-type {\n",
       "        vertical-align: middle;\n",
       "    }\n",
       "\n",
       "    .dataframe tbody tr th {\n",
       "        vertical-align: top;\n",
       "    }\n",
       "\n",
       "    .dataframe thead th {\n",
       "        text-align: right;\n",
       "    }\n",
       "</style>\n",
       "<table border=\"1\" class=\"dataframe\">\n",
       "  <thead>\n",
       "    <tr style=\"text-align: right;\">\n",
       "      <th></th>\n",
       "      <th>method</th>\n",
       "      <th>count</th>\n",
       "    </tr>\n",
       "  </thead>\n",
       "  <tbody>\n",
       "    <tr>\n",
       "      <th>0</th>\n",
       "      <td>OPTIONS</td>\n",
       "      <td>1424</td>\n",
       "    </tr>\n",
       "    <tr>\n",
       "      <th>1</th>\n",
       "      <td>POST</td>\n",
       "      <td>139155</td>\n",
       "    </tr>\n",
       "    <tr>\n",
       "      <th>2</th>\n",
       "      <td>CONNECT</td>\n",
       "      <td>10</td>\n",
       "    </tr>\n",
       "    <tr>\n",
       "      <th>3</th>\n",
       "      <td>HEAD</td>\n",
       "      <td>34501</td>\n",
       "    </tr>\n",
       "    <tr>\n",
       "      <th>4</th>\n",
       "      <td>GET</td>\n",
       "      <td>10190005</td>\n",
       "    </tr>\n",
       "    <tr>\n",
       "      <th>...</th>\n",
       "      <td>...</td>\n",
       "      <td>...</td>\n",
       "    </tr>\n",
       "    <tr>\n",
       "      <th>40</th>\n",
       "      <td>\\x03\\x01\\x02\\x00\\x01\\x00\\x01\\xFC\\x03\\x03\\x94\\x...</td>\n",
       "      <td>1</td>\n",
       "    </tr>\n",
       "    <tr>\n",
       "      <th>41</th>\n",
       "      <td>\\x03\\x01\\x02\\x00\\x01\\x00\\x01\\xFC\\x03\\x03</td>\n",
       "      <td>1</td>\n",
       "    </tr>\n",
       "    <tr>\n",
       "      <th>42</th>\n",
       "      <td>\\x16\\x03\\x01\\x00b\\x01\\x00\\x00^\\x03\\x01\\x5CJ\\xE...</td>\n",
       "      <td>1</td>\n",
       "    </tr>\n",
       "    <tr>\n",
       "      <th>43</th>\n",
       "      <td>\\x16\\x03\\x01\\x00b\\x01\\x00\\x00^\\x03\\x01\\x5CJ\\xE...</td>\n",
       "      <td>1</td>\n",
       "    </tr>\n",
       "    <tr>\n",
       "      <th>44</th>\n",
       "      <td>\\x17\\x03\\x03\\x02f\\x00\\x00\\x00\\x00\\x00\\x00\\x00\\...</td>\n",
       "      <td>1</td>\n",
       "    </tr>\n",
       "  </tbody>\n",
       "</table>\n",
       "<p>45 rows × 2 columns</p>\n",
       "</div>"
      ],
      "text/plain": [
       "                                               method     count\n",
       "0                                             OPTIONS      1424\n",
       "1                                                POST    139155\n",
       "2                                             CONNECT        10\n",
       "3                                                HEAD     34501\n",
       "4                                                 GET  10190005\n",
       "..                                                ...       ...\n",
       "40  \\x03\\x01\\x02\\x00\\x01\\x00\\x01\\xFC\\x03\\x03\\x94\\x...         1\n",
       "41           \\x03\\x01\\x02\\x00\\x01\\x00\\x01\\xFC\\x03\\x03         1\n",
       "42  \\x16\\x03\\x01\\x00b\\x01\\x00\\x00^\\x03\\x01\\x5CJ\\xE...         1\n",
       "43  \\x16\\x03\\x01\\x00b\\x01\\x00\\x00^\\x03\\x01\\x5CJ\\xE...         1\n",
       "44  \\x17\\x03\\x03\\x02f\\x00\\x00\\x00\\x00\\x00\\x00\\x00\\...         1\n",
       "\n",
       "[45 rows x 2 columns]"
      ]
     },
     "execution_count": 39,
     "metadata": {},
     "output_type": "execute_result"
    }
   ],
   "source": [
    "df.select(\"method\") \\\n",
    "    .groupBy(\"method\") \\\n",
    "    .count() \\\n",
    "    .limit(100) \\\n",
    "    .toPandas()"
   ]
  },
  {
   "cell_type": "markdown",
   "metadata": {},
   "source": [
    "Wie zu erwarten, verwenden die meisten Anfragen die bekannten Methoden des HTTP-Standards: `GET`, `POST`, `OPTIONS`, `CONNECT`, `HEAD` und `PROPFIND`.\n",
    "\n",
    "Es gibt allerdings auch Anfragen, die statt der Bezeichnung einer Methode seltsame Byte-Folgen enthalten. Wir haben herausgefunden, dass einige dieser Anfragen Hacking-Versuche sind (Quelle: https://security.stackexchange.com/questions/51904/nginx-hacking-attempt). Das lässt sich bei öffentlichen Servern leider nicht verhindern. Wenn der Server diese Anfragen aber blockiert, indem er sie mit einem Fehler-Code beantwortet, können diese Angriffe bedenkenlos ignoriert werden.\n",
    "\n",
    "Als letztes wollen wir deshalb noch herausfinden, mit welchen Status-Codes der Server diese Angriffe beantwortet."
   ]
  },
  {
   "cell_type": "code",
   "execution_count": 40,
   "metadata": {},
   "outputs": [
    {
     "name": "stderr",
     "output_type": "stream",
     "text": [
      "                                                                                \r"
     ]
    },
    {
     "data": {
      "text/html": [
       "<div>\n",
       "<style scoped>\n",
       "    .dataframe tbody tr th:only-of-type {\n",
       "        vertical-align: middle;\n",
       "    }\n",
       "\n",
       "    .dataframe tbody tr th {\n",
       "        vertical-align: top;\n",
       "    }\n",
       "\n",
       "    .dataframe thead th {\n",
       "        text-align: right;\n",
       "    }\n",
       "</style>\n",
       "<table border=\"1\" class=\"dataframe\">\n",
       "  <thead>\n",
       "    <tr style=\"text-align: right;\">\n",
       "      <th></th>\n",
       "      <th>status</th>\n",
       "      <th>count</th>\n",
       "    </tr>\n",
       "  </thead>\n",
       "  <tbody>\n",
       "    <tr>\n",
       "      <th>0</th>\n",
       "      <td>400</td>\n",
       "      <td>48</td>\n",
       "    </tr>\n",
       "  </tbody>\n",
       "</table>\n",
       "</div>"
      ],
      "text/plain": [
       "  status  count\n",
       "0    400     48"
      ]
     },
     "execution_count": 40,
     "metadata": {},
     "output_type": "execute_result"
    }
   ],
   "source": [
    "df.filter(~df[\"method\"].isin([\"GET\", \"POST\", \"OPTIONS\", \"HEAD\", \"CONNECT\", \"PROPFIND\"])) \\\n",
    "    .groupBy(\"status\") \\\n",
    "    .count() \\\n",
    "    .limit(10) \\\n",
    "    .toPandas()"
   ]
  },
  {
   "cell_type": "markdown",
   "metadata": {},
   "source": [
    "Alle 48 Anfragen, die Methoden verwenden, die nicht im HTTP-Standard enthalten sind, werden ordnungsgemäß mit dem Fehler-Code `400` („Bad Request“) beantwortet. Der Server blockt die Hacking-Versuche also zufriedenstellend ab."
   ]
  },
  {
   "cell_type": "markdown",
   "metadata": {},
   "source": [
    "Wir geben noch die Daten samt IP-Adressen des admins aus. Dies ist ein Ansatz und eine Sicherheitslücke zu finden. "
   ]
  },
  {
   "cell_type": "code",
   "execution_count": 41,
   "metadata": {},
   "outputs": [
    {
     "name": "stderr",
     "output_type": "stream",
     "text": [
      "                                                                                \r"
     ]
    },
    {
     "data": {
      "text/html": [
       "<div>\n",
       "<style scoped>\n",
       "    .dataframe tbody tr th:only-of-type {\n",
       "        vertical-align: middle;\n",
       "    }\n",
       "\n",
       "    .dataframe tbody tr th {\n",
       "        vertical-align: top;\n",
       "    }\n",
       "\n",
       "    .dataframe thead th {\n",
       "        text-align: right;\n",
       "    }\n",
       "</style>\n",
       "<table border=\"1\" class=\"dataframe\">\n",
       "  <thead>\n",
       "    <tr style=\"text-align: right;\">\n",
       "      <th></th>\n",
       "      <th>ip</th>\n",
       "      <th>user</th>\n",
       "      <th>timestamp</th>\n",
       "      <th>timezone</th>\n",
       "      <th>request_line</th>\n",
       "      <th>status</th>\n",
       "      <th>bytes_sent</th>\n",
       "      <th>referer</th>\n",
       "      <th>user_agent</th>\n",
       "      <th>unknown_ip</th>\n",
       "      <th>method</th>\n",
       "      <th>request_path</th>\n",
       "      <th>product_id</th>\n",
       "      <th>request_path_length</th>\n",
       "    </tr>\n",
       "  </thead>\n",
       "  <tbody>\n",
       "    <tr>\n",
       "      <th>0</th>\n",
       "      <td>124.235.138.251</td>\n",
       "      <td>admin</td>\n",
       "      <td>25/Jan/2019:21:28:21</td>\n",
       "      <td>+0330</td>\n",
       "      <td>GET / HTTP/1.1</td>\n",
       "      <td>301</td>\n",
       "      <td>178</td>\n",
       "      <td></td>\n",
       "      <td>Mozilla/5.0 (Windows NT 6.1; WOW64; Trident/7....</td>\n",
       "      <td>-</td>\n",
       "      <td>GET</td>\n",
       "      <td>/</td>\n",
       "      <td></td>\n",
       "      <td>1</td>\n",
       "    </tr>\n",
       "    <tr>\n",
       "      <th>1</th>\n",
       "      <td>124.235.138.251</td>\n",
       "      <td>admin</td>\n",
       "      <td>25/Jan/2019:21:28:22</td>\n",
       "      <td>+0330</td>\n",
       "      <td>GET / HTTP/1.1</td>\n",
       "      <td>301</td>\n",
       "      <td>178</td>\n",
       "      <td></td>\n",
       "      <td>Mozilla/5.0 (Windows NT 6.1; WOW64; Trident/7....</td>\n",
       "      <td>-</td>\n",
       "      <td>GET</td>\n",
       "      <td>/</td>\n",
       "      <td></td>\n",
       "      <td>1</td>\n",
       "    </tr>\n",
       "  </tbody>\n",
       "</table>\n",
       "</div>"
      ],
      "text/plain": [
       "                ip   user             timestamp timezone    request_line  \\\n",
       "0  124.235.138.251  admin  25/Jan/2019:21:28:21    +0330  GET / HTTP/1.1   \n",
       "1  124.235.138.251  admin  25/Jan/2019:21:28:22    +0330  GET / HTTP/1.1   \n",
       "\n",
       "  status bytes_sent referer  \\\n",
       "0    301        178           \n",
       "1    301        178           \n",
       "\n",
       "                                          user_agent unknown_ip method  \\\n",
       "0  Mozilla/5.0 (Windows NT 6.1; WOW64; Trident/7....          -    GET   \n",
       "1  Mozilla/5.0 (Windows NT 6.1; WOW64; Trident/7....          -    GET   \n",
       "\n",
       "  request_path product_id  request_path_length  \n",
       "0            /                               1  \n",
       "1            /                               1  "
      ]
     },
     "execution_count": 41,
     "metadata": {},
     "output_type": "execute_result"
    }
   ],
   "source": [
    "df.filter(df[\"user\"] != \"\").toPandas()"
   ]
  }
 ],
 "metadata": {
  "kernelspec": {
   "display_name": "Python 3.8.10 ('env': venv)",
   "language": "python",
   "name": "python3"
  },
  "language_info": {
   "codemirror_mode": {
    "name": "ipython",
    "version": 3
   },
   "file_extension": ".py",
   "mimetype": "text/x-python",
   "name": "python",
   "nbconvert_exporter": "python",
   "pygments_lexer": "ipython3",
   "version": "3.8.10"
  },
  "vscode": {
   "interpreter": {
    "hash": "8184eb9a7d69f73bad6fdd24d0e546c7bf85df90594def88eda6bdcb67296442"
   }
  }
 },
 "nbformat": 4,
 "nbformat_minor": 2
}
