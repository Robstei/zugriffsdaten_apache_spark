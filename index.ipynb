{
 "cells": [
  {
   "cell_type": "markdown",
   "metadata": {},
   "source": [
    "# Zugriffsdaten-Analyse\n",
    "\n",
    "In diesem Notebook analysieren wir eine Logdatei mit Zugriffsdaten eines Webserver von einem iranischen Online-Shop. Wir wollen anhand der Zugriffsdaten herausfinden, welche Produkte des Online-Shops am beliebtesten sind. Außerdem untersuchen wir die Daten auf weitere Auffälligkeiten."
   ]
  },
  {
   "cell_type": "markdown",
   "metadata": {},
   "source": [
    "## Setup\n",
    "\n",
    "Als erstes verbinden wir uns mit dem Spark Master Node. Den erreichen wir unter der URL `spark://localhost:7077`."
   ]
  },
  {
   "cell_type": "code",
   "execution_count": null,
   "metadata": {},
   "outputs": [],
   "source": [
    "import pyspark\n",
    "from pyspark.sql.functions import *\n",
    "\n",
    "spark = pyspark.sql.SparkSession.builder.appName(\"main\") \\\n",
    "  .master(\"spark://localhost:7077\") \\\n",
    "  .config(\"spark.executor.memory\", \"5G\") \\\n",
    "  .getOrCreate()"
   ]
  },
  {
   "cell_type": "markdown",
   "metadata": {},
   "source": [
    "## Datenimport\n",
    "\n",
    "Als nächstes importieren wir die Datei `access.log`."
   ]
  },
  {
   "cell_type": "code",
   "execution_count": 2,
   "metadata": {},
   "outputs": [
    {
     "name": "stderr",
     "output_type": "stream",
     "text": [
      "                                                                                \r"
     ]
    }
   ],
   "source": [
    "raw_df = spark.read.csv(\"/tmp/data/access.log\", sep=\" \")"
   ]
  },
  {
   "cell_type": "code",
   "execution_count": null,
   "metadata": {},
   "outputs": [],
   "source": [
    "raw_df.count()"
   ]
  },
  {
   "cell_type": "code",
   "execution_count": 3,
   "metadata": {},
   "outputs": [
    {
     "data": {
      "text/plain": [
       "27"
      ]
     },
     "execution_count": 3,
     "metadata": {},
     "output_type": "execute_result"
    }
   ],
   "source": [
    "raw_df.rdd.getNumPartitions()"
   ]
  },
  {
   "cell_type": "code",
   "execution_count": 20,
   "metadata": {},
   "outputs": [
    {
     "name": "stdout",
     "output_type": "stream",
     "text": [
      "+-------------+---+---+--------------------+------+--------------------+---+-----+--------------------+--------------------+----+\n",
      "|          _c0|_c1|_c2|                 _c3|   _c4|                 _c5|_c6|  _c7|                 _c8|                 _c9|_c10|\n",
      "+-------------+---+---+--------------------+------+--------------------+---+-----+--------------------+--------------------+----+\n",
      "| 54.36.149.41|  -|  -|[22/Jan/2019:03:5...|+0330]|GET /filter/27|13...|200|30577|                   -|Mozilla/5.0 (comp...|   -|\n",
      "|  31.56.96.51|  -|  -|[22/Jan/2019:03:5...|+0330]|GET /image/60844/...|200| 5667|https://www.zanbi...|Mozilla/5.0 (Linu...|   -|\n",
      "|  31.56.96.51|  -|  -|[22/Jan/2019:03:5...|+0330]|GET /image/61474/...|200| 5379|https://www.zanbi...|Mozilla/5.0 (Linu...|   -|\n",
      "|40.77.167.129|  -|  -|[22/Jan/2019:03:5...|+0330]|GET /image/14925/...|200| 1696|                   -|Mozilla/5.0 (comp...|   -|\n",
      "|  91.99.72.15|  -|  -|[22/Jan/2019:03:5...|+0330]|GET /product/3189...|200|41483|                   -|Mozilla/5.0 (Wind...|   -|\n",
      "+-------------+---+---+--------------------+------+--------------------+---+-----+--------------------+--------------------+----+\n",
      "only showing top 5 rows\n",
      "\n"
     ]
    },
    {
     "name": "stderr",
     "output_type": "stream",
     "text": [
      "                                                                                \r"
     ]
    }
   ],
   "source": [
    "raw_df.show(5)"
   ]
  },
  {
   "cell_type": "markdown",
   "metadata": {},
   "source": [
    "Die Kopfzeile der `DataFrame`-Tabelle enthält noch keine sinnvollen Bezeichnungen. Das wollen wir jetzt ändern."
   ]
  },
  {
   "cell_type": "code",
   "execution_count": 3,
   "metadata": {},
   "outputs": [],
   "source": [
    "df = raw_df.withColumnRenamed(\"_c0\", \"ip\") \\\n",
    "  .drop(\"_c1\") \\\n",
    "  .withColumnRenamed(\"_c2\", \"user\") \\\n",
    "  .withColumnRenamed(\"_c3\", \"timestamp\") \\\n",
    "  .withColumnRenamed(\"_c4\", \"timezone\") \\\n",
    "  .withColumnRenamed(\"_c5\", \"request_line\") \\\n",
    "  .withColumnRenamed(\"_c6\", \"status\") \\\n",
    "  .withColumnRenamed(\"_c7\", \"bytes_sent\") \\\n",
    "  .withColumnRenamed(\"_c8\", \"referer\") \\\n",
    "  .withColumnRenamed(\"_c9\", \"user_agent\") \\\n",
    "  .drop(\"_c10\")"
   ]
  },
  {
   "cell_type": "code",
   "execution_count": 24,
   "metadata": {},
   "outputs": [
    {
     "name": "stderr",
     "output_type": "stream",
     "text": [
      "[Stage 21:>                                                         (0 + 1) / 1]\r"
     ]
    },
    {
     "name": "stdout",
     "output_type": "stream",
     "text": [
      "+-------------+----+--------------------+--------+--------------------+------+----------+--------------------+--------------------+\n",
      "|           ip|user|           timestamp|timezone|        request_line|status|bytes_sent|             referer|          user_agent|\n",
      "+-------------+----+--------------------+--------+--------------------+------+----------+--------------------+--------------------+\n",
      "| 54.36.149.41|   -|[22/Jan/2019:03:5...|  +0330]|GET /filter/27|13...|   200|     30577|                   -|Mozilla/5.0 (comp...|\n",
      "|  31.56.96.51|   -|[22/Jan/2019:03:5...|  +0330]|GET /image/60844/...|   200|      5667|https://www.zanbi...|Mozilla/5.0 (Linu...|\n",
      "|  31.56.96.51|   -|[22/Jan/2019:03:5...|  +0330]|GET /image/61474/...|   200|      5379|https://www.zanbi...|Mozilla/5.0 (Linu...|\n",
      "|40.77.167.129|   -|[22/Jan/2019:03:5...|  +0330]|GET /image/14925/...|   200|      1696|                   -|Mozilla/5.0 (comp...|\n",
      "|  91.99.72.15|   -|[22/Jan/2019:03:5...|  +0330]|GET /product/3189...|   200|     41483|                   -|Mozilla/5.0 (Wind...|\n",
      "+-------------+----+--------------------+--------+--------------------+------+----------+--------------------+--------------------+\n",
      "only showing top 5 rows\n",
      "\n"
     ]
    },
    {
     "name": "stderr",
     "output_type": "stream",
     "text": [
      "                                                                                \r"
     ]
    }
   ],
   "source": [
    "df.show(5)"
   ]
  },
  {
   "cell_type": "markdown",
   "metadata": {},
   "source": [
    "Dann sollten wir noch die Inhalte innerhalb der Zellen bereinigen. Momentan werden leere Zellen mit einem Bindestrich gekennzeichnet. Wir wollen diese Bindestriche entfernen. Außerdem enthalten die Zellen der Spalten `timestamp` und `timezone` unnötige Symbole. Diese wollen wir auch entfernen."
   ]
  },
  {
   "cell_type": "code",
   "execution_count": 4,
   "metadata": {},
   "outputs": [],
   "source": [
    "df = df.withColumn(\"user\", regexp_replace(\"user\", \"-\", \"\")) \\\n",
    "  .withColumn(\"timestamp\", regexp_replace(\"timestamp\", \"^\\[\", \"\")) \\\n",
    "  .withColumn(\"timezone\", regexp_replace(\"timezone\", \"\\]$\", \"\")) \\\n",
    "  .withColumn(\"referer\", regexp_replace(\"referer\", \"-\", \"\"))"
   ]
  },
  {
   "cell_type": "code",
   "execution_count": 27,
   "metadata": {},
   "outputs": [
    {
     "name": "stdout",
     "output_type": "stream",
     "text": [
      "+-------------+----+--------------------+--------+--------------------+------+----------+--------------------+--------------------+\n",
      "|           ip|user|           timestamp|timezone|        request_line|status|bytes_sent|             referer|          user_agent|\n",
      "+-------------+----+--------------------+--------+--------------------+------+----------+--------------------+--------------------+\n",
      "| 54.36.149.41|    |22/Jan/2019:03:56:14|   +0330|GET /filter/27|13...|   200|     30577|                    |Mozilla/5.0 (comp...|\n",
      "|  31.56.96.51|    |22/Jan/2019:03:56:16|   +0330|GET /image/60844/...|   200|      5667|https://www.zanbi...|Mozilla/5.0 (Linu...|\n",
      "|  31.56.96.51|    |22/Jan/2019:03:56:16|   +0330|GET /image/61474/...|   200|      5379|https://www.zanbi...|Mozilla/5.0 (Linu...|\n",
      "|40.77.167.129|    |22/Jan/2019:03:56:17|   +0330|GET /image/14925/...|   200|      1696|                    |Mozilla/5.0 (comp...|\n",
      "|  91.99.72.15|    |22/Jan/2019:03:56:17|   +0330|GET /product/3189...|   200|     41483|                    |Mozilla/5.0 (Wind...|\n",
      "+-------------+----+--------------------+--------+--------------------+------+----------+--------------------+--------------------+\n",
      "only showing top 5 rows\n",
      "\n"
     ]
    }
   ],
   "source": [
    "df.show(5)"
   ]
  },
  {
   "cell_type": "markdown",
   "metadata": {},
   "source": [
    "Uns fällt auf, dass die Spalte `request_line` in zwei Spalten aufgeteilt werden kann. Sie enthält nämlich zum einen die Information darüber, welche HTTP-Methode in einer Anfrage verwendet wurde, und zum anderen den URL-Pfad mit Query-Parametern. Wir wollen die Spalte `request_line` in die Spalten `method` und `request_path` aufteilen."
   ]
  },
  {
   "cell_type": "code",
   "execution_count": 5,
   "metadata": {},
   "outputs": [],
   "source": [
    "request_line_split = split(df.request_line, \" \")\n",
    "df = df.withColumn(\"method\", request_line_split.getItem(0)) \\\n",
    "  .withColumn(\"request_path\", request_line_split.getItem(1))"
   ]
  },
  {
   "cell_type": "code",
   "execution_count": 29,
   "metadata": {},
   "outputs": [
    {
     "name": "stderr",
     "output_type": "stream",
     "text": [
      "[Stage 23:>                                                         (0 + 1) / 1]\r"
     ]
    },
    {
     "name": "stdout",
     "output_type": "stream",
     "text": [
      "+--------------------+------+--------------------+\n",
      "|        request_line|method|        request_path|\n",
      "+--------------------+------+--------------------+\n",
      "|GET /filter/27|13...|   GET|/filter/27|13%20%...|\n",
      "|GET /image/60844/...|   GET|/image/60844/prod...|\n",
      "|GET /image/61474/...|   GET|/image/61474/prod...|\n",
      "|GET /image/14925/...|   GET|/image/14925/prod...|\n",
      "|GET /product/3189...|   GET|/product/31893/62...|\n",
      "+--------------------+------+--------------------+\n",
      "only showing top 5 rows\n",
      "\n"
     ]
    },
    {
     "name": "stderr",
     "output_type": "stream",
     "text": [
      "                                                                                \r"
     ]
    }
   ],
   "source": [
    "df.select(\"request_line\", \"method\", \"request_path\").show(5)"
   ]
  },
  {
   "cell_type": "code",
   "execution_count": 6,
   "metadata": {},
   "outputs": [],
   "source": [
    "df = df.drop(\"request_line\")"
   ]
  },
  {
   "cell_type": "markdown",
   "metadata": {},
   "source": [
    "## Beliebteste Produkte\n",
    "\n",
    "Wir gehen von der Annahme aus, dass die Beliebtheit eines Produkts von der Anzahl der Anfragen an das Produkt abgeleitet werden kann. Diese Metrik kann zwar leicht durch äußere Einwirkungen manipuliert werden, aber diese Tatsache ignorieren wir im Rahmen dieser Aufgabe.\n",
    "\n",
    "Als erstes wollen wir herausfinden, welche Anfragen auf ein bestimmtes Produkt bezogen sind. Dafür fügen wir in unserem `DataFrame` eine weitere Spalte `product_id` hinzu, in der die Produkt-ID der Anfragen steht, die einen Anfragepfad im Schema `/product/<product-id>` besitzen."
   ]
  },
  {
   "cell_type": "code",
   "execution_count": 7,
   "metadata": {},
   "outputs": [],
   "source": [
    "df = df.withColumn(\"product_id\", regexp_extract(\"request_path\", r'^/product/(\\d+)', 1))"
   ]
  },
  {
   "cell_type": "code",
   "execution_count": 8,
   "metadata": {},
   "outputs": [
    {
     "name": "stderr",
     "output_type": "stream",
     "text": [
      "[Stage 1:>                                                          (0 + 1) / 1]\r"
     ]
    },
    {
     "name": "stdout",
     "output_type": "stream",
     "text": [
      "+--------------------+----------+\n",
      "|        request_path|product_id|\n",
      "+--------------------+----------+\n",
      "|/product/31893/62...|     31893|\n",
      "|      /product/10214|     10214|\n",
      "|/product/10075/13...|     10075|\n",
      "|      /product/14926|     14926|\n",
      "|/product/32798/63...|     32798|\n",
      "|/product/30649?mo...|     30649|\n",
      "|/product/7793/966...|      7793|\n",
      "|      /product/81900|     81900|\n",
      "|/product/4057/47/...|      4057|\n",
      "|/product/29080?mo...|     29080|\n",
      "+--------------------+----------+\n",
      "only showing top 10 rows\n",
      "\n"
     ]
    },
    {
     "name": "stderr",
     "output_type": "stream",
     "text": [
      "                                                                                \r"
     ]
    }
   ],
   "source": [
    "df.select(\"request_path\", \"product_id\").filter(df.product_id != \"\").show(10)"
   ]
  },
  {
   "cell_type": "markdown",
   "metadata": {},
   "source": [
    "Wenn wir jetzt die Zeilen der Tabelle nach der der Produkt-ID gruppieren, die Anzahl der Reihen für jede Gruppe berechnen und die Gruppen nach dieser Anzahl sortieren, können wir die Anzahl der Anfragen für jedes Produkt auslesen."
   ]
  },
  {
   "cell_type": "code",
   "execution_count": 8,
   "metadata": {},
   "outputs": [
    {
     "name": "stderr",
     "output_type": "stream",
     "text": [
      "                                                                                \r"
     ]
    }
   ],
   "source": [
    "product_group_df = df.filter(df.product_id != \"\").groupBy(\"product_id\").count().sort(col(\"count\").desc()).limit(50).toPandas()"
   ]
  },
  {
   "cell_type": "code",
   "execution_count": 44,
   "metadata": {},
   "outputs": [
    {
     "data": {
      "text/plain": [
       "(50, 2)"
      ]
     },
     "execution_count": 44,
     "metadata": {},
     "output_type": "execute_result"
    }
   ],
   "source": [
    "product_group_df.shape"
   ]
  },
  {
   "cell_type": "code",
   "execution_count": 9,
   "metadata": {},
   "outputs": [
    {
     "data": {
      "text/html": [
       "<div>\n",
       "<style scoped>\n",
       "    .dataframe tbody tr th:only-of-type {\n",
       "        vertical-align: middle;\n",
       "    }\n",
       "\n",
       "    .dataframe tbody tr th {\n",
       "        vertical-align: top;\n",
       "    }\n",
       "\n",
       "    .dataframe thead th {\n",
       "        text-align: right;\n",
       "    }\n",
       "</style>\n",
       "<table border=\"1\" class=\"dataframe\">\n",
       "  <thead>\n",
       "    <tr style=\"text-align: right;\">\n",
       "      <th></th>\n",
       "      <th>product_id</th>\n",
       "      <th>count</th>\n",
       "    </tr>\n",
       "  </thead>\n",
       "  <tbody>\n",
       "    <tr>\n",
       "      <th>0</th>\n",
       "      <td>33953</td>\n",
       "      <td>764</td>\n",
       "    </tr>\n",
       "    <tr>\n",
       "      <th>1</th>\n",
       "      <td>34286</td>\n",
       "      <td>738</td>\n",
       "    </tr>\n",
       "    <tr>\n",
       "      <th>2</th>\n",
       "      <td>33968</td>\n",
       "      <td>693</td>\n",
       "    </tr>\n",
       "    <tr>\n",
       "      <th>3</th>\n",
       "      <td>33954</td>\n",
       "      <td>687</td>\n",
       "    </tr>\n",
       "    <tr>\n",
       "      <th>4</th>\n",
       "      <td>33956</td>\n",
       "      <td>594</td>\n",
       "    </tr>\n",
       "  </tbody>\n",
       "</table>\n",
       "</div>"
      ],
      "text/plain": [
       "  product_id  count\n",
       "0      33953    764\n",
       "1      34286    738\n",
       "2      33968    693\n",
       "3      33954    687\n",
       "4      33956    594"
      ]
     },
     "execution_count": 9,
     "metadata": {},
     "output_type": "execute_result"
    }
   ],
   "source": [
    "product_group_df.head()"
   ]
  },
  {
   "cell_type": "code",
   "execution_count": 45,
   "metadata": {},
   "outputs": [
    {
     "data": {
      "image/png": "[encoded data removed]",
      "text/plain": [
       "<Figure size 1440x432 with 1 Axes>"
      ]
     },
     "metadata": {
      "needs_background": "light"
     },
     "output_type": "display_data"
    }
   ],
   "source": [
    "product_group_df.plot.bar(figsize=(20, 6), x=\"product_id\");"
   ]
  },
  {
   "cell_type": "markdown",
   "metadata": {},
   "source": [
    "## Weitere Auffälligkeiten\n",
    "\n",
    "Jetzt wollen wir den Datensatz auf weitere Auffälligkeiten untersuchen."
   ]
  },
  {
   "cell_type": "markdown",
   "metadata": {},
   "source": [
    "### URL-Pfad-Längen\n",
    "\n",
    "HTTP-Anfragen, die sehr lange Pfade enthalten, können für den Webserver eventuell problematisch sein, weil deren Verarbeitung hohen Rechenaufwand erzeugt.\n",
    "\n",
    "Wir wollen deshalb herausfinden, ob der Webserver des Online-Shops Anfragen erhält, die ungewöhnlich lange Pfade enthalten. Dazu fügen wir eine neue Spalte im `DataFrame` hinzu, die mit der Anzahl der Zeichen des Pfades in der jeweiligen Zeile gefüllt wird."
   ]
  },
  {
   "cell_type": "code",
   "execution_count": 11,
   "metadata": {},
   "outputs": [],
   "source": [
    "df = df.withColumn(\"request_path_length\", length(\"request_path\"))"
   ]
  },
  {
   "cell_type": "markdown",
   "metadata": {},
   "source": [
    "Jetzt sortieren wir die Zeilen abfallend nach der Pfadlänge, um die Anfragen mit den längsten Pfaden auslesen zu können."
   ]
  },
  {
   "cell_type": "code",
   "execution_count": null,
   "metadata": {},
   "outputs": [],
   "source": [
    "pandas_df = df.select(\"ip\", \"method\", \"request_path\", \"status\", \"request_path_length\") \\\n",
    "  .sort(df.request_path_length.desc()) \\\n",
    "  .limit(20) \\\n",
    "  .toPandas()"
   ]
  },
  {
   "cell_type": "code",
   "execution_count": 43,
   "metadata": {},
   "outputs": [
    {
     "data": {
      "text/html": [
       "<div>\n",
       "<style scoped>\n",
       "    .dataframe tbody tr th:only-of-type {\n",
       "        vertical-align: middle;\n",
       "    }\n",
       "\n",
       "    .dataframe tbody tr th {\n",
       "        vertical-align: top;\n",
       "    }\n",
       "\n",
       "    .dataframe thead th {\n",
       "        text-align: right;\n",
       "    }\n",
       "</style>\n",
       "<table border=\"1\" class=\"dataframe\">\n",
       "  <thead>\n",
       "    <tr style=\"text-align: right;\">\n",
       "      <th></th>\n",
       "      <th>ip</th>\n",
       "      <th>method</th>\n",
       "      <th>request_path</th>\n",
       "      <th>status</th>\n",
       "      <th>request_path_length</th>\n",
       "    </tr>\n",
       "  </thead>\n",
       "  <tbody>\n",
       "    <tr>\n",
       "      <th>0</th>\n",
       "      <td>91.99.30.32</td>\n",
       "      <td>GET</td>\n",
       "      <td>/rapidGrails/jsonList?maxColumns=10&amp;domainClas...</td>\n",
       "      <td>414</td>\n",
       "      <td>8188</td>\n",
       "    </tr>\n",
       "    <tr>\n",
       "      <th>1</th>\n",
       "      <td>91.99.47.57</td>\n",
       "      <td>GET</td>\n",
       "      <td>/rapidGrails/jsonList?maxColumns=10&amp;domainClas...</td>\n",
       "      <td>414</td>\n",
       "      <td>8188</td>\n",
       "    </tr>\n",
       "    <tr>\n",
       "      <th>2</th>\n",
       "      <td>91.99.30.32</td>\n",
       "      <td>GET</td>\n",
       "      <td>/rapidGrails/jsonList?maxColumns=10&amp;domainClas...</td>\n",
       "      <td>414</td>\n",
       "      <td>8188</td>\n",
       "    </tr>\n",
       "    <tr>\n",
       "      <th>3</th>\n",
       "      <td>5.78.190.233</td>\n",
       "      <td>GET</td>\n",
       "      <td>/rapidGrails/jsonList?maxColumns=10&amp;domainClas...</td>\n",
       "      <td>414</td>\n",
       "      <td>8188</td>\n",
       "    </tr>\n",
       "    <tr>\n",
       "      <th>4</th>\n",
       "      <td>91.99.30.32</td>\n",
       "      <td>GET</td>\n",
       "      <td>/rapidGrails/jsonList?maxColumns=10&amp;domainClas...</td>\n",
       "      <td>414</td>\n",
       "      <td>8188</td>\n",
       "    </tr>\n",
       "    <tr>\n",
       "      <th>5</th>\n",
       "      <td>91.99.30.32</td>\n",
       "      <td>GET</td>\n",
       "      <td>/rapidGrails/jsonList?maxColumns=10&amp;domainClas...</td>\n",
       "      <td>414</td>\n",
       "      <td>8188</td>\n",
       "    </tr>\n",
       "    <tr>\n",
       "      <th>6</th>\n",
       "      <td>91.99.47.57</td>\n",
       "      <td>GET</td>\n",
       "      <td>/rapidGrails/jsonList?maxColumns=10&amp;domainClas...</td>\n",
       "      <td>414</td>\n",
       "      <td>8188</td>\n",
       "    </tr>\n",
       "    <tr>\n",
       "      <th>7</th>\n",
       "      <td>5.117.116.238</td>\n",
       "      <td>GET</td>\n",
       "      <td>/rapidGrails/jsonList?maxColumns=10&amp;domainClas...</td>\n",
       "      <td>414</td>\n",
       "      <td>8188</td>\n",
       "    </tr>\n",
       "    <tr>\n",
       "      <th>8</th>\n",
       "      <td>151.239.241.163</td>\n",
       "      <td>GET</td>\n",
       "      <td>/rapidGrails/jsonList?maxColumns=10&amp;domainClas...</td>\n",
       "      <td>414</td>\n",
       "      <td>8188</td>\n",
       "    </tr>\n",
       "    <tr>\n",
       "      <th>9</th>\n",
       "      <td>151.239.241.163</td>\n",
       "      <td>GET</td>\n",
       "      <td>/rapidGrails/jsonList?maxColumns=10&amp;domainClas...</td>\n",
       "      <td>414</td>\n",
       "      <td>8188</td>\n",
       "    </tr>\n",
       "    <tr>\n",
       "      <th>10</th>\n",
       "      <td>5.117.116.238</td>\n",
       "      <td>GET</td>\n",
       "      <td>/rapidGrails/jsonList?maxColumns=10&amp;domainClas...</td>\n",
       "      <td>414</td>\n",
       "      <td>8188</td>\n",
       "    </tr>\n",
       "    <tr>\n",
       "      <th>11</th>\n",
       "      <td>5.117.116.238</td>\n",
       "      <td>GET</td>\n",
       "      <td>/rapidGrails/jsonList?maxColumns=10&amp;domainClas...</td>\n",
       "      <td>414</td>\n",
       "      <td>8188</td>\n",
       "    </tr>\n",
       "    <tr>\n",
       "      <th>12</th>\n",
       "      <td>91.99.30.32</td>\n",
       "      <td>GET</td>\n",
       "      <td>/rapidGrails/jsonList?maxColumns=10&amp;domainClas...</td>\n",
       "      <td>414</td>\n",
       "      <td>8188</td>\n",
       "    </tr>\n",
       "    <tr>\n",
       "      <th>13</th>\n",
       "      <td>5.117.116.238</td>\n",
       "      <td>GET</td>\n",
       "      <td>/rapidGrails/jsonList?maxColumns=10&amp;domainClas...</td>\n",
       "      <td>414</td>\n",
       "      <td>8188</td>\n",
       "    </tr>\n",
       "    <tr>\n",
       "      <th>14</th>\n",
       "      <td>5.117.116.238</td>\n",
       "      <td>GET</td>\n",
       "      <td>/rapidGrails/jsonList?maxColumns=10&amp;domainClas...</td>\n",
       "      <td>414</td>\n",
       "      <td>8188</td>\n",
       "    </tr>\n",
       "    <tr>\n",
       "      <th>15</th>\n",
       "      <td>91.99.30.32</td>\n",
       "      <td>GET</td>\n",
       "      <td>/rapidGrails/jsonList?maxColumns=10&amp;domainClas...</td>\n",
       "      <td>414</td>\n",
       "      <td>8188</td>\n",
       "    </tr>\n",
       "    <tr>\n",
       "      <th>16</th>\n",
       "      <td>91.99.47.57</td>\n",
       "      <td>GET</td>\n",
       "      <td>/rapidGrails/jsonList?maxColumns=10&amp;domainClas...</td>\n",
       "      <td>414</td>\n",
       "      <td>8188</td>\n",
       "    </tr>\n",
       "    <tr>\n",
       "      <th>17</th>\n",
       "      <td>5.78.190.233</td>\n",
       "      <td>GET</td>\n",
       "      <td>/rapidGrails/jsonList?maxColumns=10&amp;domainClas...</td>\n",
       "      <td>200</td>\n",
       "      <td>7878</td>\n",
       "    </tr>\n",
       "    <tr>\n",
       "      <th>18</th>\n",
       "      <td>5.78.190.233</td>\n",
       "      <td>GET</td>\n",
       "      <td>/rapidGrails/jsonList?maxColumns=10&amp;domainClas...</td>\n",
       "      <td>200</td>\n",
       "      <td>7878</td>\n",
       "    </tr>\n",
       "    <tr>\n",
       "      <th>19</th>\n",
       "      <td>5.78.190.233</td>\n",
       "      <td>GET</td>\n",
       "      <td>/rapidGrails/jsonList?maxColumns=10&amp;domainClas...</td>\n",
       "      <td>499</td>\n",
       "      <td>7878</td>\n",
       "    </tr>\n",
       "  </tbody>\n",
       "</table>\n",
       "</div>"
      ],
      "text/plain": [
       "                 ip method                                       request_path  \\\n",
       "0       91.99.30.32    GET  /rapidGrails/jsonList?maxColumns=10&domainClas...   \n",
       "1       91.99.47.57    GET  /rapidGrails/jsonList?maxColumns=10&domainClas...   \n",
       "2       91.99.30.32    GET  /rapidGrails/jsonList?maxColumns=10&domainClas...   \n",
       "3      5.78.190.233    GET  /rapidGrails/jsonList?maxColumns=10&domainClas...   \n",
       "4       91.99.30.32    GET  /rapidGrails/jsonList?maxColumns=10&domainClas...   \n",
       "5       91.99.30.32    GET  /rapidGrails/jsonList?maxColumns=10&domainClas...   \n",
       "6       91.99.47.57    GET  /rapidGrails/jsonList?maxColumns=10&domainClas...   \n",
       "7     5.117.116.238    GET  /rapidGrails/jsonList?maxColumns=10&domainClas...   \n",
       "8   151.239.241.163    GET  /rapidGrails/jsonList?maxColumns=10&domainClas...   \n",
       "9   151.239.241.163    GET  /rapidGrails/jsonList?maxColumns=10&domainClas...   \n",
       "10    5.117.116.238    GET  /rapidGrails/jsonList?maxColumns=10&domainClas...   \n",
       "11    5.117.116.238    GET  /rapidGrails/jsonList?maxColumns=10&domainClas...   \n",
       "12      91.99.30.32    GET  /rapidGrails/jsonList?maxColumns=10&domainClas...   \n",
       "13    5.117.116.238    GET  /rapidGrails/jsonList?maxColumns=10&domainClas...   \n",
       "14    5.117.116.238    GET  /rapidGrails/jsonList?maxColumns=10&domainClas...   \n",
       "15      91.99.30.32    GET  /rapidGrails/jsonList?maxColumns=10&domainClas...   \n",
       "16      91.99.47.57    GET  /rapidGrails/jsonList?maxColumns=10&domainClas...   \n",
       "17     5.78.190.233    GET  /rapidGrails/jsonList?maxColumns=10&domainClas...   \n",
       "18     5.78.190.233    GET  /rapidGrails/jsonList?maxColumns=10&domainClas...   \n",
       "19     5.78.190.233    GET  /rapidGrails/jsonList?maxColumns=10&domainClas...   \n",
       "\n",
       "   status  request_path_length  \n",
       "0     414                 8188  \n",
       "1     414                 8188  \n",
       "2     414                 8188  \n",
       "3     414                 8188  \n",
       "4     414                 8188  \n",
       "5     414                 8188  \n",
       "6     414                 8188  \n",
       "7     414                 8188  \n",
       "8     414                 8188  \n",
       "9     414                 8188  \n",
       "10    414                 8188  \n",
       "11    414                 8188  \n",
       "12    414                 8188  \n",
       "13    414                 8188  \n",
       "14    414                 8188  \n",
       "15    414                 8188  \n",
       "16    414                 8188  \n",
       "17    200                 7878  \n",
       "18    200                 7878  \n",
       "19    499                 7878  "
      ]
     },
     "execution_count": 43,
     "metadata": {},
     "output_type": "execute_result"
    }
   ],
   "source": [
    "pandas_df"
   ]
  },
  {
   "cell_type": "markdown",
   "metadata": {},
   "source": [
    "Wir sehen, dass die meisten Anfragen mit den längsten Pfaden zur Route `/rapidGrails/...` gehören. Die Route wird anscheinend von dem Java Plugin „Grails“ genutzt, um große JSON-ähnlichen Datenmengen über die Query-Parameter einer `GET`-Anfrage an den Server zu übertragen. Einige dieser Anfragen wurden vom Webserver mit dem Fehlercode 414 („URI Too Long“) beantwortet. Um das Problem zu lösen, könnte man das Plugin eventuell so konfigurieren, dass die Daten im Body einer `POST`-Anfrage übertragen werden, anstatt dies über die Query-Parameter einer `GET`-Anfrage zu tun."
   ]
  },
  {
   "cell_type": "markdown",
   "metadata": {},
   "source": [
    "Jetzt wollen wir herausfinden, welche anderen Anfragen es neben denen des fehlerhaften Plugins noch gibt, die ebenfalls überdurchschnittlich lange Pfade enthalten. Dazu führen wir die Sortierung nach Pfadlänge ein weiteres Mal durch, aber ignorieren diesmal alle Pfade mit dem Schema `/rapidGrails/...`."
   ]
  },
  {
   "cell_type": "code",
   "execution_count": null,
   "metadata": {},
   "outputs": [],
   "source": [
    "pandas_df = df.select(\"ip\", \"method\", \"request_path\", \"status\", \"request_path_length\") \\\n",
    "  .filter(~df.request_path.rlike(r'^/rapidGrails/')) \\\n",
    "  .sort(df.request_path_length.desc()) \\\n",
    "  .limit(20) \\\n",
    "  .toPandas()"
   ]
  },
  {
   "cell_type": "code",
   "execution_count": 48,
   "metadata": {},
   "outputs": [
    {
     "data": {
      "text/html": [
       "<div>\n",
       "<style scoped>\n",
       "    .dataframe tbody tr th:only-of-type {\n",
       "        vertical-align: middle;\n",
       "    }\n",
       "\n",
       "    .dataframe tbody tr th {\n",
       "        vertical-align: top;\n",
       "    }\n",
       "\n",
       "    .dataframe thead th {\n",
       "        text-align: right;\n",
       "    }\n",
       "</style>\n",
       "<table border=\"1\" class=\"dataframe\">\n",
       "  <thead>\n",
       "    <tr style=\"text-align: right;\">\n",
       "      <th></th>\n",
       "      <th>ip</th>\n",
       "      <th>method</th>\n",
       "      <th>request_path</th>\n",
       "      <th>status</th>\n",
       "      <th>request_path_length</th>\n",
       "    </tr>\n",
       "  </thead>\n",
       "  <tbody>\n",
       "    <tr>\n",
       "      <th>0</th>\n",
       "      <td>79.175.173.155</td>\n",
       "      <td>GET</td>\n",
       "      <td>/message/receive?Destination=982142328&amp;Source=...</td>\n",
       "      <td>301</td>\n",
       "      <td>2051</td>\n",
       "    </tr>\n",
       "    <tr>\n",
       "      <th>1</th>\n",
       "      <td>79.175.173.155</td>\n",
       "      <td>GET</td>\n",
       "      <td>/message/receive?Destination=982142328&amp;Source=...</td>\n",
       "      <td>301</td>\n",
       "      <td>2051</td>\n",
       "    </tr>\n",
       "    <tr>\n",
       "      <th>2</th>\n",
       "      <td>79.175.173.155</td>\n",
       "      <td>GET</td>\n",
       "      <td>/message/receive?Destination=982142328&amp;Source=...</td>\n",
       "      <td>301</td>\n",
       "      <td>2051</td>\n",
       "    </tr>\n",
       "    <tr>\n",
       "      <th>3</th>\n",
       "      <td>79.175.173.155</td>\n",
       "      <td>GET</td>\n",
       "      <td>/message/receive?Destination=982142328&amp;Source=...</td>\n",
       "      <td>200</td>\n",
       "      <td>2051</td>\n",
       "    </tr>\n",
       "    <tr>\n",
       "      <th>4</th>\n",
       "      <td>79.175.173.155</td>\n",
       "      <td>GET</td>\n",
       "      <td>/message/receive?Destination=982142328&amp;Source=...</td>\n",
       "      <td>200</td>\n",
       "      <td>2051</td>\n",
       "    </tr>\n",
       "    <tr>\n",
       "      <th>5</th>\n",
       "      <td>79.175.173.155</td>\n",
       "      <td>GET</td>\n",
       "      <td>/message/receive?Destination=982142328&amp;Source=...</td>\n",
       "      <td>200</td>\n",
       "      <td>2051</td>\n",
       "    </tr>\n",
       "    <tr>\n",
       "      <th>6</th>\n",
       "      <td>79.175.173.155</td>\n",
       "      <td>GET</td>\n",
       "      <td>/message/receive?Destination=982142328&amp;Source=...</td>\n",
       "      <td>301</td>\n",
       "      <td>2051</td>\n",
       "    </tr>\n",
       "    <tr>\n",
       "      <th>7</th>\n",
       "      <td>79.175.173.155</td>\n",
       "      <td>GET</td>\n",
       "      <td>/message/receive?Destination=982142328&amp;Source=...</td>\n",
       "      <td>301</td>\n",
       "      <td>2051</td>\n",
       "    </tr>\n",
       "    <tr>\n",
       "      <th>8</th>\n",
       "      <td>79.175.173.155</td>\n",
       "      <td>GET</td>\n",
       "      <td>/message/receive?Destination=982142328&amp;Source=...</td>\n",
       "      <td>200</td>\n",
       "      <td>2051</td>\n",
       "    </tr>\n",
       "    <tr>\n",
       "      <th>9</th>\n",
       "      <td>79.175.173.155</td>\n",
       "      <td>GET</td>\n",
       "      <td>/message/receive?Destination=982142328&amp;Source=...</td>\n",
       "      <td>200</td>\n",
       "      <td>2051</td>\n",
       "    </tr>\n",
       "    <tr>\n",
       "      <th>10</th>\n",
       "      <td>79.175.173.155</td>\n",
       "      <td>GET</td>\n",
       "      <td>/message/receive?Destination=982142328&amp;Source=...</td>\n",
       "      <td>301</td>\n",
       "      <td>2007</td>\n",
       "    </tr>\n",
       "    <tr>\n",
       "      <th>11</th>\n",
       "      <td>79.175.173.155</td>\n",
       "      <td>GET</td>\n",
       "      <td>/message/receive?Destination=982142328&amp;Source=...</td>\n",
       "      <td>200</td>\n",
       "      <td>2007</td>\n",
       "    </tr>\n",
       "    <tr>\n",
       "      <th>12</th>\n",
       "      <td>79.175.173.155</td>\n",
       "      <td>GET</td>\n",
       "      <td>/message/receive?Destination=982142328&amp;Source=...</td>\n",
       "      <td>200</td>\n",
       "      <td>1990</td>\n",
       "    </tr>\n",
       "    <tr>\n",
       "      <th>13</th>\n",
       "      <td>79.175.173.155</td>\n",
       "      <td>GET</td>\n",
       "      <td>/message/receive?Destination=982142328&amp;Source=...</td>\n",
       "      <td>301</td>\n",
       "      <td>1990</td>\n",
       "    </tr>\n",
       "    <tr>\n",
       "      <th>14</th>\n",
       "      <td>79.175.173.155</td>\n",
       "      <td>GET</td>\n",
       "      <td>/message/receive?Destination=982142328&amp;Source=...</td>\n",
       "      <td>301</td>\n",
       "      <td>1988</td>\n",
       "    </tr>\n",
       "    <tr>\n",
       "      <th>15</th>\n",
       "      <td>79.175.173.155</td>\n",
       "      <td>GET</td>\n",
       "      <td>/message/receive?Destination=982142328&amp;Source=...</td>\n",
       "      <td>200</td>\n",
       "      <td>1988</td>\n",
       "    </tr>\n",
       "    <tr>\n",
       "      <th>16</th>\n",
       "      <td>79.175.173.155</td>\n",
       "      <td>GET</td>\n",
       "      <td>/message/receive?Destination=982142328&amp;Source=...</td>\n",
       "      <td>301</td>\n",
       "      <td>1976</td>\n",
       "    </tr>\n",
       "    <tr>\n",
       "      <th>17</th>\n",
       "      <td>79.175.173.155</td>\n",
       "      <td>GET</td>\n",
       "      <td>/message/receive?Destination=982142328&amp;Source=...</td>\n",
       "      <td>200</td>\n",
       "      <td>1976</td>\n",
       "    </tr>\n",
       "    <tr>\n",
       "      <th>18</th>\n",
       "      <td>79.175.173.155</td>\n",
       "      <td>GET</td>\n",
       "      <td>/message/receive?Destination=982142328&amp;Source=...</td>\n",
       "      <td>301</td>\n",
       "      <td>1961</td>\n",
       "    </tr>\n",
       "    <tr>\n",
       "      <th>19</th>\n",
       "      <td>79.175.173.155</td>\n",
       "      <td>GET</td>\n",
       "      <td>/message/receive?Destination=982142328&amp;Source=...</td>\n",
       "      <td>200</td>\n",
       "      <td>1961</td>\n",
       "    </tr>\n",
       "  </tbody>\n",
       "</table>\n",
       "</div>"
      ],
      "text/plain": [
       "                ip method                                       request_path  \\\n",
       "0   79.175.173.155    GET  /message/receive?Destination=982142328&Source=...   \n",
       "1   79.175.173.155    GET  /message/receive?Destination=982142328&Source=...   \n",
       "2   79.175.173.155    GET  /message/receive?Destination=982142328&Source=...   \n",
       "3   79.175.173.155    GET  /message/receive?Destination=982142328&Source=...   \n",
       "4   79.175.173.155    GET  /message/receive?Destination=982142328&Source=...   \n",
       "5   79.175.173.155    GET  /message/receive?Destination=982142328&Source=...   \n",
       "6   79.175.173.155    GET  /message/receive?Destination=982142328&Source=...   \n",
       "7   79.175.173.155    GET  /message/receive?Destination=982142328&Source=...   \n",
       "8   79.175.173.155    GET  /message/receive?Destination=982142328&Source=...   \n",
       "9   79.175.173.155    GET  /message/receive?Destination=982142328&Source=...   \n",
       "10  79.175.173.155    GET  /message/receive?Destination=982142328&Source=...   \n",
       "11  79.175.173.155    GET  /message/receive?Destination=982142328&Source=...   \n",
       "12  79.175.173.155    GET  /message/receive?Destination=982142328&Source=...   \n",
       "13  79.175.173.155    GET  /message/receive?Destination=982142328&Source=...   \n",
       "14  79.175.173.155    GET  /message/receive?Destination=982142328&Source=...   \n",
       "15  79.175.173.155    GET  /message/receive?Destination=982142328&Source=...   \n",
       "16  79.175.173.155    GET  /message/receive?Destination=982142328&Source=...   \n",
       "17  79.175.173.155    GET  /message/receive?Destination=982142328&Source=...   \n",
       "18  79.175.173.155    GET  /message/receive?Destination=982142328&Source=...   \n",
       "19  79.175.173.155    GET  /message/receive?Destination=982142328&Source=...   \n",
       "\n",
       "   status  request_path_length  \n",
       "0     301                 2051  \n",
       "1     301                 2051  \n",
       "2     301                 2051  \n",
       "3     200                 2051  \n",
       "4     200                 2051  \n",
       "5     200                 2051  \n",
       "6     301                 2051  \n",
       "7     301                 2051  \n",
       "8     200                 2051  \n",
       "9     200                 2051  \n",
       "10    301                 2007  \n",
       "11    200                 2007  \n",
       "12    200                 1990  \n",
       "13    301                 1990  \n",
       "14    301                 1988  \n",
       "15    200                 1988  \n",
       "16    301                 1976  \n",
       "17    200                 1976  \n",
       "18    301                 1961  \n",
       "19    200                 1961  "
      ]
     },
     "execution_count": 48,
     "metadata": {},
     "output_type": "execute_result"
    }
   ],
   "source": [
    "pandas_df"
   ]
  },
  {
   "cell_type": "markdown",
   "metadata": {},
   "source": [
    "Wie wir sehen, sind auch die Pfade der Anfragen an die Route `/message/...` relativ lang. Schauen wir uns einen dieser Pfade mal genauer an:"
   ]
  },
  {
   "cell_type": "code",
   "execution_count": 39,
   "metadata": {},
   "outputs": [
    {
     "data": {
      "text/plain": [
       "'/message/receive?Destination=982142328&Source=989131025616&ReceiveTime=1548508037.179&MsgBody=%D9%85%D8%B4%D8%AA%D8%B1%DB%8C+%D9%85%D8%AD%D8%AA%D8%B1%D9%85+%D8%A8%D9%87+%D8%A7%D8%B7%D9%84%D8%A7%D8%B9+%D9%85%DB%8C+%D8%B1%D8%B3%D8%A7%D9%86%D8%AF+%D8%AF%D8%B1+%D8%AA%D8%B4%D9%83+%D9%87%D8%A7%DB%8C+%D8%B3%D9%81%D8%A7%D8%B1%D8%B4%DB%8C+%D8%A8%D8%A7+%D8%AA%D9%88%D8%AC%D9%87+%D8%A7%DB%8C%D9%86%D9%83%D9%87+%D8%B4%D8%B1%D9%83%D8%AA+%D8%AA%D9%88%D9%84%DB%8C%D8%AF+%D9%83%D9%86%D9%86%D8%AF%D9%87+%D9%87%D8%B1+%D8%B3%D8%B1%DB%8C+%D9%BE%D8%A7%D8%B1%DA%86%D9%87+%D8%A8%D8%A7+%D8%B1%D9%86%DA%AF+%D9%88+%D8%B7%D8%B1%D8%AD+%D9%85%D8%AA%D9%81%D8%A7%D9%88%D8%AA%DB%8C+%D8%B1%D8%A7+%D8%A7%D8%B3%D8%AA%D9%81%D8%A7%D8%AF%D9%87+%D9%85%DB%8C+%D9%86%D9%85%D8%A7%DB%8C%D8%AF%D8%8C+%D8%A7%D9%85%D9%83%D8%A7%D9%86+%D9%85%D8%B4%D8%AE%D8%B5+%D9%86%D9%85%D9%88%D8%AF%D9%86+%D8%B1%D9%86%DA%AF+%D9%88+%D8%B7%D8%B1%D8%AD+%D9%BE%D8%A7%D8%B1%DA%86%D9%87+%D8%A7%D8%B2+%D9%82%D8%A8%D9%84+%D9%88%D8%AC%D9%88%D8%AF+%D9%86%D8%AF%D8%A7%D8%B1%D8%AF+%D9%88+%D8%A7%D8%B2+%D8%A2%D9%86%D8%AC%D8%A7%D8%A6%DB%8C%D9%83%D9%87+%D8%A7%DB%8C%D9%86+%D8%AA%D8%B4%D9%83+%D9%87%D8%A7+%D8%B5%D8%B1%D9%81%D8%A7+%D8%A8%D8%B1+%D8%A7%D8%B3%D8%A7%D8%B3+%D8%B3%D9%81%D8%A7%D8%B1%D8%B4+%D9%85%D8%B4%D8%AA%D8%B1%DB%8C+%D8%A8%D9%87+%D8%B4%D8%B1%D9%83%D8%AA+%D8%B3%D9%81%D8%A7%D8%B1%D8%B4+%D8%AF%D8%A7%D8%AF%D9%87+%D9%85%DB%8C+%D8%B4%D9%88%D8%AF%D8%8C+%D8%A7%D9%85%D9%83%D8%A7%D9%86+%D8%B9%D9%88%D8%AF%D8%AA+%D8%A2%D9%86%D9%87%D8%A7+%D8%BA%DB%8C%D8%B1+%D8%A7%D8%B2+%D8%B2%D9%85%D8%A7%D9%86+%D9%85%D8%B4%D9%83%D9%84+%D9%81%D9%86%DB%8C+%D9%88%D8%AC%D9%88%D8%AF+%D9%86%D8%AF%D8%A7%D8%B1%D8%AF.+%D9%84%D8%B0%D8%A7+%D8%AF%D8%B1+%D8%B5%D9%88%D8%B1%D8%AA%DB%8C%D9%83%D9%87+%D8%A7%DB%8C%D9%86+%D8%A7%D9%85%D8%B1+%D9%85%D9%88%D8%B1%D8%AF+%D8%AA%D8%A7%D8%A6%DB%8C%D8%AF+%D8%B4%D9%85%D8%A7+%D9%85%DB%8C+%D8%A8%D8%A7%D8%B4%D8%AF%D8%8C+%D8%A7%D8%B9%D9%84%D8%A7%D9%85+%D9%86%D9%85%D9%88%D8%AF%D9%87+%D8%AA%D8%A7+%D8%B3%D9%81%D8%A7%D8%B1%D8%B4+%D8%B4%D9%85%D8%A7+%D8%A8%D9%87+%D8%AC%D8%B1%DB%8C%D8%A7%D9%86+%D8%A7%D9%81%D8%AA%D8%AF.'"
      ]
     },
     "execution_count": 39,
     "metadata": {},
     "output_type": "execute_result"
    }
   ],
   "source": [
    "pandas_df.iloc[0].request_path"
   ]
  },
  {
   "cell_type": "markdown",
   "metadata": {},
   "source": [
    "In dem Query-Parameter `MsgBody` wird eine persönliche Nachricht (iranisch und URL-kodiert) an einen Kunden des Online-Shops übermittelt. Diese Nachricht könnte eventuell sensible Informationen enthalten und sollte definitiv nicht im Query-String der URL enthalten sein. Stattdessen sollte für diese Funktion eine `POST`-Anfrage verwendet werden, die die zu übermittelnde Nachricht im Body enthält. So ließe sich verhindern, dass sensible Daten in einer Logdatei aufgezeichnet und dadurch leicht an unautorisierte Personen gelangen können."
   ]
  }
 ],
 "metadata": {
  "kernelspec": {
   "display_name": "Python 3",
   "language": "python",
   "name": "python3"
  },
  "language_info": {
   "codemirror_mode": {
    "name": "ipython",
    "version": 3
   },
   "file_extension": ".py",
   "mimetype": "text/x-python",
   "name": "python",
   "nbconvert_exporter": "python",
   "pygments_lexer": "ipython3",
   "version": "3.9.12"
  },
  "vscode": {
   "interpreter": {
    "hash": "aee8b7b246df8f9039afb4144a1f6fd8d2ca17a180786b69acc140d282b71a49"
   }
  }
 },
 "nbformat": 4,
 "nbformat_minor": 2
}
