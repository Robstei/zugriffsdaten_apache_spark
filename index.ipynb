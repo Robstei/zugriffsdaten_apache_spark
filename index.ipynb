{
 "cells": [
  {
   "cell_type": "markdown",
   "metadata": {},
   "source": [
    "# Zugriffsdaten-Analyse\n",
    "\n",
    "In diesem Notebook analysieren wir eine Logdatei mit Zugriffsdaten eines Webserver von einem iranischen Online-Shop. Wir wollen anhand der Zugriffsdaten herausfinden, welche Produkte des Online-Shops am beliebtesten sind. Außerdem untersuchen wir die Daten auf weitere Auffälligkeiten."
   ]
  },
  {
   "cell_type": "markdown",
   "metadata": {},
   "source": [
    "## Setup\n",
    "\n",
    "Als erstes verbinden wir uns mit dem Spark Master Node. Den erreichen wir unter der URL `spark://localhost:7077`."
   ]
  },
  {
   "cell_type": "code",
   "execution_count": 1,
   "metadata": {},
   "outputs": [
    {
     "name": "stderr",
     "output_type": "stream",
     "text": [
      "22/06/29 21:20:39 WARN Utils: Your hostname, Pauls-MacBook-Pro.local resolves to a loopback address: 127.0.0.1; using 192.168.0.12 instead (on interface en0)\n",
      "22/06/29 21:20:39 WARN Utils: Set SPARK_LOCAL_IP if you need to bind to another address\n",
      "WARNING: An illegal reflective access operation has occurred\n",
      "WARNING: Illegal reflective access by org.apache.spark.unsafe.Platform (file:/usr/local/lib/python3.9/site-packages/pyspark/jars/spark-unsafe_2.12-3.2.1.jar) to constructor java.nio.DirectByteBuffer(long,int)\n",
      "WARNING: Please consider reporting this to the maintainers of org.apache.spark.unsafe.Platform\n",
      "WARNING: Use --illegal-access=warn to enable warnings of further illegal reflective access operations\n",
      "WARNING: All illegal access operations will be denied in a future release\n",
      "Using Spark's default log4j profile: org/apache/spark/log4j-defaults.properties\n",
      "Setting default log level to \"WARN\".\n",
      "To adjust logging level use sc.setLogLevel(newLevel). For SparkR, use setLogLevel(newLevel).\n",
      "22/06/29 21:20:40 WARN NativeCodeLoader: Unable to load native-hadoop library for your platform... using builtin-java classes where applicable\n"
     ]
    }
   ],
   "source": [
    "import pyspark\n",
    "from pyspark.sql.functions import *\n",
    "\n",
    "spark = pyspark.sql.SparkSession.builder.appName(\"main\") \\\n",
    "  .master(\"spark://localhost:7077\") \\\n",
    "  .config(\"spark.executor.memory\", \"8G\") \\\n",
    "  .getOrCreate()"
   ]
  },
  {
   "cell_type": "markdown",
   "metadata": {},
   "source": [
    "## Datenimport\n",
    "\n",
    "Als nächstes importieren wir die Datei `access.log`."
   ]
  },
  {
   "cell_type": "code",
   "execution_count": 2,
   "metadata": {},
   "outputs": [
    {
     "name": "stderr",
     "output_type": "stream",
     "text": [
      "                                                                                \r"
     ]
    }
   ],
   "source": [
    "raw_df = spark.read.csv(\"/tmp/data/access.log\", sep=\" \")"
   ]
  },
  {
   "cell_type": "code",
   "execution_count": 45,
   "metadata": {},
   "outputs": [
    {
     "name": "stderr",
     "output_type": "stream",
     "text": [
      "22/06/29 20:43:16 ERROR TaskSchedulerImpl: Lost executor 13 on 172.26.0.3: Remote RPC client disassociated. Likely due to containers exceeding thresholds, or network issues. Check driver logs for WARN messages.\n",
      "22/06/29 20:43:16 WARN TaskSetManager: Lost task 8.0 in stage 33.0 (TID 292) (172.26.0.3 executor 13): ExecutorLostFailure (executor 13 exited caused by one of the running tasks) Reason: Remote RPC client disassociated. Likely due to containers exceeding thresholds, or network issues. Check driver logs for WARN messages.\n",
      "22/06/29 20:43:16 WARN TaskSetManager: Lost task 10.0 in stage 33.0 (TID 294) (172.26.0.3 executor 13): ExecutorLostFailure (executor 13 exited caused by one of the running tasks) Reason: Remote RPC client disassociated. Likely due to containers exceeding thresholds, or network issues. Check driver logs for WARN messages.\n",
      "                                                                                \r"
     ]
    },
    {
     "data": {
      "text/plain": [
       "10365152"
      ]
     },
     "execution_count": 45,
     "metadata": {},
     "output_type": "execute_result"
    }
   ],
   "source": [
    "raw_df.count()"
   ]
  },
  {
   "cell_type": "code",
   "execution_count": 3,
   "metadata": {},
   "outputs": [
    {
     "data": {
      "text/plain": [
       "27"
      ]
     },
     "execution_count": 3,
     "metadata": {},
     "output_type": "execute_result"
    }
   ],
   "source": [
    "raw_df.rdd.getNumPartitions()"
   ]
  },
  {
   "cell_type": "code",
   "execution_count": 20,
   "metadata": {},
   "outputs": [
    {
     "name": "stdout",
     "output_type": "stream",
     "text": [
      "+-------------+---+---+--------------------+------+--------------------+---+-----+--------------------+--------------------+----+\n",
      "|          _c0|_c1|_c2|                 _c3|   _c4|                 _c5|_c6|  _c7|                 _c8|                 _c9|_c10|\n",
      "+-------------+---+---+--------------------+------+--------------------+---+-----+--------------------+--------------------+----+\n",
      "| 54.36.149.41|  -|  -|[22/Jan/2019:03:5...|+0330]|GET /filter/27|13...|200|30577|                   -|Mozilla/5.0 (comp...|   -|\n",
      "|  31.56.96.51|  -|  -|[22/Jan/2019:03:5...|+0330]|GET /image/60844/...|200| 5667|https://www.zanbi...|Mozilla/5.0 (Linu...|   -|\n",
      "|  31.56.96.51|  -|  -|[22/Jan/2019:03:5...|+0330]|GET /image/61474/...|200| 5379|https://www.zanbi...|Mozilla/5.0 (Linu...|   -|\n",
      "|40.77.167.129|  -|  -|[22/Jan/2019:03:5...|+0330]|GET /image/14925/...|200| 1696|                   -|Mozilla/5.0 (comp...|   -|\n",
      "|  91.99.72.15|  -|  -|[22/Jan/2019:03:5...|+0330]|GET /product/3189...|200|41483|                   -|Mozilla/5.0 (Wind...|   -|\n",
      "+-------------+---+---+--------------------+------+--------------------+---+-----+--------------------+--------------------+----+\n",
      "only showing top 5 rows\n",
      "\n"
     ]
    },
    {
     "name": "stderr",
     "output_type": "stream",
     "text": [
      "                                                                                \r"
     ]
    }
   ],
   "source": [
    "raw_df.show(5)"
   ]
  },
  {
   "cell_type": "markdown",
   "metadata": {},
   "source": [
    "Die Kopfzeile der `DataFrame`-Tabelle enthält noch keine sinnvollen Bezeichnungen. Das wollen wir jetzt ändern."
   ]
  },
  {
   "cell_type": "code",
   "execution_count": 4,
   "metadata": {},
   "outputs": [],
   "source": [
    "df = raw_df.withColumnRenamed(\"_c0\", \"ip\") \\\n",
    "  .drop(\"_c1\") \\\n",
    "  .withColumnRenamed(\"_c2\", \"user\") \\\n",
    "  .withColumnRenamed(\"_c3\", \"timestamp\") \\\n",
    "  .withColumnRenamed(\"_c4\", \"timezone\") \\\n",
    "  .withColumnRenamed(\"_c5\", \"request_line\") \\\n",
    "  .withColumnRenamed(\"_c6\", \"status\") \\\n",
    "  .withColumnRenamed(\"_c7\", \"bytes_sent\") \\\n",
    "  .withColumnRenamed(\"_c8\", \"referer\") \\\n",
    "  .withColumnRenamed(\"_c9\", \"user_agent\") \\\n",
    "  .drop(\"_c10\")"
   ]
  },
  {
   "cell_type": "code",
   "execution_count": 24,
   "metadata": {},
   "outputs": [
    {
     "name": "stderr",
     "output_type": "stream",
     "text": [
      "[Stage 21:>                                                         (0 + 1) / 1]\r"
     ]
    },
    {
     "name": "stdout",
     "output_type": "stream",
     "text": [
      "+-------------+----+--------------------+--------+--------------------+------+----------+--------------------+--------------------+\n",
      "|           ip|user|           timestamp|timezone|        request_line|status|bytes_sent|             referer|          user_agent|\n",
      "+-------------+----+--------------------+--------+--------------------+------+----------+--------------------+--------------------+\n",
      "| 54.36.149.41|   -|[22/Jan/2019:03:5...|  +0330]|GET /filter/27|13...|   200|     30577|                   -|Mozilla/5.0 (comp...|\n",
      "|  31.56.96.51|   -|[22/Jan/2019:03:5...|  +0330]|GET /image/60844/...|   200|      5667|https://www.zanbi...|Mozilla/5.0 (Linu...|\n",
      "|  31.56.96.51|   -|[22/Jan/2019:03:5...|  +0330]|GET /image/61474/...|   200|      5379|https://www.zanbi...|Mozilla/5.0 (Linu...|\n",
      "|40.77.167.129|   -|[22/Jan/2019:03:5...|  +0330]|GET /image/14925/...|   200|      1696|                   -|Mozilla/5.0 (comp...|\n",
      "|  91.99.72.15|   -|[22/Jan/2019:03:5...|  +0330]|GET /product/3189...|   200|     41483|                   -|Mozilla/5.0 (Wind...|\n",
      "+-------------+----+--------------------+--------+--------------------+------+----------+--------------------+--------------------+\n",
      "only showing top 5 rows\n",
      "\n"
     ]
    },
    {
     "name": "stderr",
     "output_type": "stream",
     "text": [
      "                                                                                \r"
     ]
    }
   ],
   "source": [
    "df.show(5)"
   ]
  },
  {
   "cell_type": "markdown",
   "metadata": {},
   "source": [
    "Dann sollten wir noch die Inhalte innerhalb der Zellen bereinigen. Momentan werden leere Zellen mit einem Bindestrich gekennzeichnet. Wir wollen diese Bindestriche entfernen. Außerdem enthalten die Zellen der Spalten `timestamp` und `timezone` unnötige Symbole. Diese wollen wir auch entfernen."
   ]
  },
  {
   "cell_type": "code",
   "execution_count": 5,
   "metadata": {},
   "outputs": [],
   "source": [
    "df = df.withColumn(\"user\", regexp_replace(\"user\", \"-\", \"\")) \\\n",
    "  .withColumn(\"timestamp\", regexp_replace(\"timestamp\", \"^\\[\", \"\")) \\\n",
    "  .withColumn(\"timezone\", regexp_replace(\"timezone\", \"\\]$\", \"\")) \\\n",
    "  .withColumn(\"referer\", regexp_replace(\"referer\", \"-\", \"\"))"
   ]
  },
  {
   "cell_type": "code",
   "execution_count": 27,
   "metadata": {},
   "outputs": [
    {
     "name": "stdout",
     "output_type": "stream",
     "text": [
      "+-------------+----+--------------------+--------+--------------------+------+----------+--------------------+--------------------+\n",
      "|           ip|user|           timestamp|timezone|        request_line|status|bytes_sent|             referer|          user_agent|\n",
      "+-------------+----+--------------------+--------+--------------------+------+----------+--------------------+--------------------+\n",
      "| 54.36.149.41|    |22/Jan/2019:03:56:14|   +0330|GET /filter/27|13...|   200|     30577|                    |Mozilla/5.0 (comp...|\n",
      "|  31.56.96.51|    |22/Jan/2019:03:56:16|   +0330|GET /image/60844/...|   200|      5667|https://www.zanbi...|Mozilla/5.0 (Linu...|\n",
      "|  31.56.96.51|    |22/Jan/2019:03:56:16|   +0330|GET /image/61474/...|   200|      5379|https://www.zanbi...|Mozilla/5.0 (Linu...|\n",
      "|40.77.167.129|    |22/Jan/2019:03:56:17|   +0330|GET /image/14925/...|   200|      1696|                    |Mozilla/5.0 (comp...|\n",
      "|  91.99.72.15|    |22/Jan/2019:03:56:17|   +0330|GET /product/3189...|   200|     41483|                    |Mozilla/5.0 (Wind...|\n",
      "+-------------+----+--------------------+--------+--------------------+------+----------+--------------------+--------------------+\n",
      "only showing top 5 rows\n",
      "\n"
     ]
    }
   ],
   "source": [
    "df.show(5)"
   ]
  },
  {
   "cell_type": "markdown",
   "metadata": {},
   "source": [
    "Uns fällt auf, dass die Spalte `request_line` in zwei Spalten aufgeteilt werden kann. Sie enthält nämlich zum einen die Information darüber, welche HTTP-Methode in einer Anfrage verwendet wurde, und zum anderen den URL-Pfad mit Query-Parametern. Wir wollen die Spalte `request_line` in die Spalten `method` und `request_path` aufteilen."
   ]
  },
  {
   "cell_type": "code",
   "execution_count": 6,
   "metadata": {},
   "outputs": [],
   "source": [
    "request_line_split = split(df.request_line, \" \")\n",
    "df = df.withColumn(\"method\", request_line_split.getItem(0)) \\\n",
    "  .withColumn(\"request_path\", request_line_split.getItem(1))"
   ]
  },
  {
   "cell_type": "code",
   "execution_count": 29,
   "metadata": {},
   "outputs": [
    {
     "name": "stderr",
     "output_type": "stream",
     "text": [
      "[Stage 23:>                                                         (0 + 1) / 1]\r"
     ]
    },
    {
     "name": "stdout",
     "output_type": "stream",
     "text": [
      "+--------------------+------+--------------------+\n",
      "|        request_line|method|        request_path|\n",
      "+--------------------+------+--------------------+\n",
      "|GET /filter/27|13...|   GET|/filter/27|13%20%...|\n",
      "|GET /image/60844/...|   GET|/image/60844/prod...|\n",
      "|GET /image/61474/...|   GET|/image/61474/prod...|\n",
      "|GET /image/14925/...|   GET|/image/14925/prod...|\n",
      "|GET /product/3189...|   GET|/product/31893/62...|\n",
      "+--------------------+------+--------------------+\n",
      "only showing top 5 rows\n",
      "\n"
     ]
    },
    {
     "name": "stderr",
     "output_type": "stream",
     "text": [
      "                                                                                \r"
     ]
    }
   ],
   "source": [
    "df.select(\"request_line\", \"method\", \"request_path\").show(5)"
   ]
  },
  {
   "cell_type": "code",
   "execution_count": 7,
   "metadata": {},
   "outputs": [],
   "source": [
    "df = df.drop(\"request_line\")"
   ]
  },
  {
   "cell_type": "markdown",
   "metadata": {},
   "source": [
    "## Beliebteste Produkte\n",
    "\n",
    "Wir gehen von der Annahme aus, dass die Beliebtheit eines Produkts von der Anzahl der Anfragen an das Produkt abgeleitet werden kann. Diese Metrik kann zwar leicht durch äußere Einwirkungen manipuliert werden, aber diese Tatsache ignorieren wir im Rahmen dieser Aufgabe.\n",
    "\n",
    "Als erstes wollen wir herausfinden, welche Anfragen auf ein bestimmtes Produkt bezogen sind. Dafür fügen wir in unserem `DataFrame` eine weitere Spalte `product_id` hinzu, in der die Produkt-ID der Anfragen steht, die einen Anfragepfad im Schema `/product/<product-id>` besitzen."
   ]
  },
  {
   "cell_type": "code",
   "execution_count": 16,
   "metadata": {},
   "outputs": [
    {
     "name": "stderr",
     "output_type": "stream",
     "text": [
      "[Stage 4:========================================>              (20 + -16) / 27]\r"
     ]
    }
   ],
   "source": [
    "df = df.withColumn(\"product_id\", regexp_extract(\"request_path\", r'^/product/(\\d+)', 1))"
   ]
  },
  {
   "cell_type": "code",
   "execution_count": 28,
   "metadata": {},
   "outputs": [
    {
     "name": "stdout",
     "output_type": "stream",
     "text": [
      "+--------------------+----------+\n",
      "|        request_path|product_id|\n",
      "+--------------------+----------+\n",
      "|/product/31893/62...|     31893|\n",
      "|      /product/10214|     10214|\n",
      "|/product/10075/13...|     10075|\n",
      "|      /product/14926|     14926|\n",
      "|/product/32798/63...|     32798|\n",
      "|/product/30649?mo...|     30649|\n",
      "|/product/7793/966...|      7793|\n",
      "|      /product/81900|     81900|\n",
      "|/product/4057/47/...|      4057|\n",
      "|/product/29080?mo...|     29080|\n",
      "+--------------------+----------+\n",
      "only showing top 10 rows\n",
      "\n"
     ]
    },
    {
     "name": "stderr",
     "output_type": "stream",
     "text": [
      "                                                                                \r"
     ]
    },
    {
     "name": "stderr",
     "output_type": "stream",
     "text": [
      "[Stage 4:===========>   (20 + -16) / 27][Stage 17:==============(43 + -16) / 27]\r"
     ]
    }
   ],
   "source": [
    "df.select(\"request_path\", \"product_id\").filter(df.product_id != \"\").show(10)"
   ]
  },
  {
   "cell_type": "markdown",
   "metadata": {},
   "source": [
    "Wenn wir jetzt die Zeilen der Tabelle nach der der Produkt-ID gruppieren, die Anzahl der Reihen für jede Gruppe berechnen und die Gruppen nach dieser Anzahl sortieren, können wir die Anzahl der Anfragen für jedes Produkt auslesen."
   ]
  },
  {
   "cell_type": "code",
   "execution_count": 19,
   "metadata": {},
   "outputs": [
    {
     "name": "stderr",
     "output_type": "stream",
     "text": [
      "22/06/29 21:43:35 ERROR TaskSchedulerImpl: Lost executor 2 on 172.29.0.2: Remote RPC client disassociated. Likely due to containers exceeding thresholds, or network issues. Check driver logs for WARN messages.\n",
      "22/06/29 21:43:35 WARN TaskSetManager: Lost task 17.0 in stage 17.0 (TID 157) (172.29.0.2 executor 2): ExecutorLostFailure (executor 2 exited caused by one of the running tasks) Reason: Remote RPC client disassociated. Likely due to containers exceeding thresholds, or network issues. Check driver logs for WARN messages.\n",
      "22/06/29 21:43:35 WARN TaskSetManager: Lost task 16.0 in stage 17.0 (TID 156) (172.29.0.2 executor 2): ExecutorLostFailure (executor 2 exited caused by one of the running tasks) Reason: Remote RPC client disassociated. Likely due to containers exceeding thresholds, or network issues. Check driver logs for WARN messages.\n",
      "                                                                                \r"
     ]
    },
    {
     "name": "stderr",
     "output_type": "stream",
     "text": [
      "[Stage 4:===========>   (20 + -16) / 27][Stage 17:==============(43 + -16) / 27]\r"
     ]
    }
   ],
   "source": [
    "product_group_df = df.filter(df.product_id != \"\").groupBy(\"product_id\").count().sort(col(\"count\").desc()).limit(50).toPandas()"
   ]
  },
  {
   "cell_type": "code",
   "execution_count": 21,
   "metadata": {},
   "outputs": [
    {
     "data": {
      "text/html": [
       "<div>\n",
       "<style scoped>\n",
       "    .dataframe tbody tr th:only-of-type {\n",
       "        vertical-align: middle;\n",
       "    }\n",
       "\n",
       "    .dataframe tbody tr th {\n",
       "        vertical-align: top;\n",
       "    }\n",
       "\n",
       "    .dataframe thead th {\n",
       "        text-align: right;\n",
       "    }\n",
       "</style>\n",
       "<table border=\"1\" class=\"dataframe\">\n",
       "  <thead>\n",
       "    <tr style=\"text-align: right;\">\n",
       "      <th></th>\n",
       "      <th>product_id</th>\n",
       "      <th>count</th>\n",
       "    </tr>\n",
       "  </thead>\n",
       "  <tbody>\n",
       "    <tr>\n",
       "      <th>0</th>\n",
       "      <td>33953</td>\n",
       "      <td>764</td>\n",
       "    </tr>\n",
       "    <tr>\n",
       "      <th>1</th>\n",
       "      <td>34286</td>\n",
       "      <td>738</td>\n",
       "    </tr>\n",
       "    <tr>\n",
       "      <th>2</th>\n",
       "      <td>33968</td>\n",
       "      <td>693</td>\n",
       "    </tr>\n",
       "    <tr>\n",
       "      <th>3</th>\n",
       "      <td>33954</td>\n",
       "      <td>687</td>\n",
       "    </tr>\n",
       "    <tr>\n",
       "      <th>4</th>\n",
       "      <td>33956</td>\n",
       "      <td>594</td>\n",
       "    </tr>\n",
       "  </tbody>\n",
       "</table>\n",
       "</div>"
      ],
      "text/plain": [
       "  product_id  count\n",
       "0      33953    764\n",
       "1      34286    738\n",
       "2      33968    693\n",
       "3      33954    687\n",
       "4      33956    594"
      ]
     },
     "execution_count": 21,
     "metadata": {},
     "output_type": "execute_result"
    },
    {
     "name": "stderr",
     "output_type": "stream",
     "text": [
      "[Stage 4:===========>   (20 + -16) / 27][Stage 17:==============(43 + -16) / 27]\r"
     ]
    }
   ],
   "source": [
    "product_group_df.head()"
   ]
  },
  {
   "cell_type": "code",
   "execution_count": 29,
   "metadata": {},
   "outputs": [
    {
     "data": {
      "text/plain": [
       "<AxesSubplot:xlabel='product_id'>"
      ]
     },
     "execution_count": 29,
     "metadata": {},
     "output_type": "execute_result"
    },
    {
     "data": {
      "image/png": "[encoded data removed]",
      "text/plain": [
       "<Figure size 1440x432 with 1 Axes>"
      ]
     },
     "metadata": {
      "needs_background": "light"
     },
     "output_type": "display_data"
    },
    {
     "name": "stderr",
     "output_type": "stream",
     "text": [
      "[Stage 4:===========>   (20 + -16) / 27][Stage 17:==============(43 + -16) / 27]\r"
     ]
    }
   ],
   "source": [
    "product_group_df.plot.bar(figsize=(20, 6), x=\"product_id\")"
   ]
  },
  {
   "cell_type": "code",
   "execution_count": null,
   "metadata": {},
   "outputs": [],
   "source": []
  }
 ],
 "metadata": {
  "kernelspec": {
   "display_name": "Python 3",
   "language": "python",
   "name": "python3"
  },
  "language_info": {
   "codemirror_mode": {
    "name": "ipython",
    "version": 3
   },
   "file_extension": ".py",
   "mimetype": "text/x-python",
   "name": "python",
   "nbconvert_exporter": "python",
   "pygments_lexer": "ipython3",
   "version": "3.9.12"
  },
  "vscode": {
   "interpreter": {
    "hash": "aee8b7b246df8f9039afb4144a1f6fd8d2ca17a180786b69acc140d282b71a49"
   }
  }
 },
 "nbformat": 4,
 "nbformat_minor": 2
}
