{
 "cells": [
  {
   "cell_type": "markdown",
   "metadata": {},
   "source": [
    "# Zugriffsdaten-Analyse"
   ]
  },
  {
   "cell_type": "markdown",
   "metadata": {},
   "source": [
    "## Datenimport"
   ]
  },
  {
   "cell_type": "markdown",
   "metadata": {},
   "source": [
    "### Parsing"
   ]
  },
  {
   "cell_type": "code",
   "execution_count": 2,
   "metadata": {},
   "outputs": [],
   "source": [
    "import apachelogs\n",
    "\n",
    "parser = apachelogs.LogParser('{} \"%{{Unknown}}i\"'.format(apachelogs.COMBINED))"
   ]
  },
  {
   "cell_type": "markdown",
   "metadata": {},
   "source": [
    "#### Beispiel"
   ]
  },
  {
   "cell_type": "code",
   "execution_count": 6,
   "metadata": {},
   "outputs": [
    {
     "name": "stdout",
     "output_type": "stream",
     "text": [
      "Host: 207.46.13.115\n",
      "Logname: None\n",
      "User: None\n",
      "Timestamp: 2019-01-22 03:56:29+03:30\n",
      "Request line: GET /image/46131/productModel/100x100 HTTP/1.1\n",
      "Status: 200\n",
      "Bytes sent: 1981\n",
      "Referer: None\n",
      "User-Agent: Mozilla/5.0 (compatible; bingbot/2.0; +http://www.bing.com/bingbot.htm)\n"
     ]
    }
   ],
   "source": [
    "data = parser.parse('207.46.13.115 - - [22/Jan/2019:03:56:29 +0330] \"GET /image/46131/productModel/100x100 HTTP/1.1\" 200 1981 \"-\" \"Mozilla/5.0 (compatible; bingbot/2.0; +http://www.bing.com/bingbot.htm)\" \"-\"\\n').directives\n",
    "\n",
    "print(\"Host: {}\".format(data[\"%h\"]))\n",
    "print(\"Logname: {}\".format(data[\"%l\"]))\n",
    "print(\"User: {}\".format(data[\"%u\"]))\n",
    "print(\"Timestamp: {}\".format(data[\"%t\"]))\n",
    "print(\"Request line: {}\".format(data[\"%r\"]))\n",
    "print(\"Status: {}\".format(data[\"%>s\"]))\n",
    "print(\"Bytes sent: {}\".format(data[\"%b\"]))\n",
    "print(\"Referer: {}\".format(data[\"%{Referer}i\"]))\n",
    "print(\"User-Agent: {}\".format(data[\"%{User-Agent}i\"]))"
   ]
  },
  {
   "cell_type": "markdown",
   "metadata": {},
   "source": [
    "### Einlesen der Datei"
   ]
  },
  {
   "cell_type": "code",
   "execution_count": 3,
   "metadata": {},
   "outputs": [
    {
     "data": {
      "text/html": [
       "<div>\n",
       "<style scoped>\n",
       "    .dataframe tbody tr th:only-of-type {\n",
       "        vertical-align: middle;\n",
       "    }\n",
       "\n",
       "    .dataframe tbody tr th {\n",
       "        vertical-align: top;\n",
       "    }\n",
       "\n",
       "    .dataframe thead th {\n",
       "        text-align: right;\n",
       "    }\n",
       "</style>\n",
       "<table border=\"1\" class=\"dataframe\">\n",
       "  <thead>\n",
       "    <tr style=\"text-align: right;\">\n",
       "      <th></th>\n",
       "      <th>host</th>\n",
       "      <th>logname</th>\n",
       "      <th>user</th>\n",
       "      <th>timestamp</th>\n",
       "      <th>request_line</th>\n",
       "      <th>status</th>\n",
       "      <th>bytes_sent</th>\n",
       "      <th>referer</th>\n",
       "      <th>user_agent</th>\n",
       "    </tr>\n",
       "  </thead>\n",
       "  <tbody>\n",
       "    <tr>\n",
       "      <th>0</th>\n",
       "      <td>54.36.149.41</td>\n",
       "      <td>None</td>\n",
       "      <td>None</td>\n",
       "      <td>2019-01-22 03:56:14+03:30</td>\n",
       "      <td>GET /filter/27|13%20%D9%85%DA%AF%D8%A7%D9%BE%D...</td>\n",
       "      <td>200</td>\n",
       "      <td>30577</td>\n",
       "      <td>None</td>\n",
       "      <td>Mozilla/5.0 (compatible; AhrefsBot/6.1; +http:...</td>\n",
       "    </tr>\n",
       "    <tr>\n",
       "      <th>1</th>\n",
       "      <td>31.56.96.51</td>\n",
       "      <td>None</td>\n",
       "      <td>None</td>\n",
       "      <td>2019-01-22 03:56:16+03:30</td>\n",
       "      <td>GET /image/60844/productModel/200x200 HTTP/1.1</td>\n",
       "      <td>200</td>\n",
       "      <td>5667</td>\n",
       "      <td>https://www.zanbil.ir/m/filter/b113</td>\n",
       "      <td>Mozilla/5.0 (Linux; Android 6.0; ALE-L21 Build...</td>\n",
       "    </tr>\n",
       "    <tr>\n",
       "      <th>2</th>\n",
       "      <td>31.56.96.51</td>\n",
       "      <td>None</td>\n",
       "      <td>None</td>\n",
       "      <td>2019-01-22 03:56:16+03:30</td>\n",
       "      <td>GET /image/61474/productModel/200x200 HTTP/1.1</td>\n",
       "      <td>200</td>\n",
       "      <td>5379</td>\n",
       "      <td>https://www.zanbil.ir/m/filter/b113</td>\n",
       "      <td>Mozilla/5.0 (Linux; Android 6.0; ALE-L21 Build...</td>\n",
       "    </tr>\n",
       "    <tr>\n",
       "      <th>3</th>\n",
       "      <td>40.77.167.129</td>\n",
       "      <td>None</td>\n",
       "      <td>None</td>\n",
       "      <td>2019-01-22 03:56:17+03:30</td>\n",
       "      <td>GET /image/14925/productModel/100x100 HTTP/1.1</td>\n",
       "      <td>200</td>\n",
       "      <td>1696</td>\n",
       "      <td>None</td>\n",
       "      <td>Mozilla/5.0 (compatible; bingbot/2.0; +http://...</td>\n",
       "    </tr>\n",
       "    <tr>\n",
       "      <th>4</th>\n",
       "      <td>91.99.72.15</td>\n",
       "      <td>None</td>\n",
       "      <td>None</td>\n",
       "      <td>2019-01-22 03:56:17+03:30</td>\n",
       "      <td>GET /product/31893/62100/%D8%B3%D8%B4%D9%88%D8...</td>\n",
       "      <td>200</td>\n",
       "      <td>41483</td>\n",
       "      <td>None</td>\n",
       "      <td>Mozilla/5.0 (Windows NT 6.2; Win64; x64; rv:16...</td>\n",
       "    </tr>\n",
       "  </tbody>\n",
       "</table>\n",
       "</div>"
      ],
      "text/plain": [
       "            host logname  user                 timestamp  \\\n",
       "0   54.36.149.41    None  None 2019-01-22 03:56:14+03:30   \n",
       "1    31.56.96.51    None  None 2019-01-22 03:56:16+03:30   \n",
       "2    31.56.96.51    None  None 2019-01-22 03:56:16+03:30   \n",
       "3  40.77.167.129    None  None 2019-01-22 03:56:17+03:30   \n",
       "4    91.99.72.15    None  None 2019-01-22 03:56:17+03:30   \n",
       "\n",
       "                                        request_line  status  bytes_sent  \\\n",
       "0  GET /filter/27|13%20%D9%85%DA%AF%D8%A7%D9%BE%D...     200       30577   \n",
       "1     GET /image/60844/productModel/200x200 HTTP/1.1     200        5667   \n",
       "2     GET /image/61474/productModel/200x200 HTTP/1.1     200        5379   \n",
       "3     GET /image/14925/productModel/100x100 HTTP/1.1     200        1696   \n",
       "4  GET /product/31893/62100/%D8%B3%D8%B4%D9%88%D8...     200       41483   \n",
       "\n",
       "                               referer  \\\n",
       "0                                 None   \n",
       "1  https://www.zanbil.ir/m/filter/b113   \n",
       "2  https://www.zanbil.ir/m/filter/b113   \n",
       "3                                 None   \n",
       "4                                 None   \n",
       "\n",
       "                                          user_agent  \n",
       "0  Mozilla/5.0 (compatible; AhrefsBot/6.1; +http:...  \n",
       "1  Mozilla/5.0 (Linux; Android 6.0; ALE-L21 Build...  \n",
       "2  Mozilla/5.0 (Linux; Android 6.0; ALE-L21 Build...  \n",
       "3  Mozilla/5.0 (compatible; bingbot/2.0; +http://...  \n",
       "4  Mozilla/5.0 (Windows NT 6.2; Win64; x64; rv:16...  "
      ]
     },
     "execution_count": 3,
     "metadata": {},
     "output_type": "execute_result"
    }
   ],
   "source": [
    "from pyspark.sql import Row\n",
    "import pandas as pd\n",
    "\n",
    "file = open('data/access.log')\n",
    "rows = []\n",
    "for line in file.readlines():\n",
    "    entry = parser.parse(line).directives\n",
    "    rows.append({\n",
    "        \"host\": entry[\"%h\"],\n",
    "        \"logname\": entry[\"%l\"],\n",
    "        \"user\": entry[\"%u\"],\n",
    "        \"timestamp\": entry[\"%t\"],\n",
    "        \"request_line\": entry[\"%r\"],\n",
    "        \"status\": entry[\"%>s\"],\n",
    "        \"bytes_sent\": entry[\"%b\"],\n",
    "        \"referer\": entry[\"%{Referer}i\"],\n",
    "        \"user_agent\": entry[\"%{User-Agent}i\"],\n",
    "    })\n",
    "file.close()\n",
    "\n",
    "pd_df = pd.DataFrame(rows, columns=rows[0].keys())\n",
    "pd_df.head()"
   ]
  },
  {
   "cell_type": "code",
   "execution_count": 4,
   "metadata": {},
   "outputs": [],
   "source": [
    "import os\n",
    "os.makedirs(\"/tmp/data\", exist_ok=True)\n",
    "pd_df.to_csv(\"/tmp/data/access.log.csv\", index=False)"
   ]
  },
  {
   "cell_type": "markdown",
   "metadata": {},
   "source": [
    "## Spark"
   ]
  },
  {
   "cell_type": "markdown",
   "metadata": {},
   "source": [
    "### Setup"
   ]
  },
  {
   "cell_type": "code",
   "execution_count": 1,
   "metadata": {},
   "outputs": [
    {
     "name": "stderr",
     "output_type": "stream",
     "text": [
      "WARNING: An illegal reflective access operation has occurred\n",
      "WARNING: Illegal reflective access by org.apache.spark.unsafe.Platform (file:/opt/homebrew/lib/python3.9/site-packages/pyspark/jars/spark-unsafe_2.12-3.2.1.jar) to constructor java.nio.DirectByteBuffer(long,int)\n",
      "WARNING: Please consider reporting this to the maintainers of org.apache.spark.unsafe.Platform\n",
      "WARNING: Use --illegal-access=warn to enable warnings of further illegal reflective access operations\n",
      "WARNING: All illegal access operations will be denied in a future release\n",
      "Using Spark's default log4j profile: org/apache/spark/log4j-defaults.properties\n",
      "Setting default log level to \"WARN\".\n",
      "To adjust logging level use sc.setLogLevel(newLevel). For SparkR, use setLogLevel(newLevel).\n",
      "22/06/20 13:34:09 WARN NativeCodeLoader: Unable to load native-hadoop library for your platform... using builtin-java classes where applicable\n"
     ]
    }
   ],
   "source": [
    "import pyspark\n",
    "\n",
    "spark = pyspark.sql.SparkSession.builder.appName(\"main\").master(\"spark://localhost:7077\").config(\"spark.executor.memory\", \"5G\").getOrCreate()\n",
    "spark.sparkContext.setLogLevel(\"ERROR\")"
   ]
  },
  {
   "cell_type": "code",
   "execution_count": 2,
   "metadata": {},
   "outputs": [
    {
     "name": "stderr",
     "output_type": "stream",
     "text": [
      "                                                                                \r"
     ]
    }
   ],
   "source": [
    "df = spark.read.csv(\"/tmp/data/access.log.csv\", header=True)"
   ]
  },
  {
   "cell_type": "code",
   "execution_count": 3,
   "metadata": {},
   "outputs": [
    {
     "name": "stderr",
     "output_type": "stream",
     "text": [
      "                                                                                \r"
     ]
    },
    {
     "data": {
      "text/plain": [
       "10365152"
      ]
     },
     "execution_count": 3,
     "metadata": {},
     "output_type": "execute_result"
    }
   ],
   "source": [
    "df.count()"
   ]
  },
  {
   "cell_type": "code",
   "execution_count": 4,
   "metadata": {},
   "outputs": [
    {
     "name": "stdout",
     "output_type": "stream",
     "text": [
      "+-------------+-------+----+--------------------+--------------------+------+----------+--------------------+--------------------+\n",
      "|         host|logname|user|           timestamp|        request_line|status|bytes_sent|             referer|          user_agent|\n",
      "+-------------+-------+----+--------------------+--------------------+------+----------+--------------------+--------------------+\n",
      "| 54.36.149.41|   null|null|2019-01-22 03:56:...|GET /filter/27|13...|   200|     30577|                null|Mozilla/5.0 (comp...|\n",
      "|  31.56.96.51|   null|null|2019-01-22 03:56:...|GET /image/60844/...|   200|      5667|https://www.zanbi...|Mozilla/5.0 (Linu...|\n",
      "|  31.56.96.51|   null|null|2019-01-22 03:56:...|GET /image/61474/...|   200|      5379|https://www.zanbi...|Mozilla/5.0 (Linu...|\n",
      "|40.77.167.129|   null|null|2019-01-22 03:56:...|GET /image/14925/...|   200|      1696|                null|Mozilla/5.0 (comp...|\n",
      "|  91.99.72.15|   null|null|2019-01-22 03:56:...|GET /product/3189...|   200|     41483|                null|Mozilla/5.0 (Wind...|\n",
      "|40.77.167.129|   null|null|2019-01-22 03:56:...|GET /image/23488/...|   200|      2654|                null|Mozilla/5.0 (comp...|\n",
      "|40.77.167.129|   null|null|2019-01-22 03:56:...|GET /image/45437/...|   200|      3688|                null|Mozilla/5.0 (comp...|\n",
      "|40.77.167.129|   null|null|2019-01-22 03:56:...|GET /image/576/ar...|   200|     14776|                null|Mozilla/5.0 (comp...|\n",
      "|66.249.66.194|   null|null|2019-01-22 03:56:...|GET /filter/b41,b...|   200|     34277|                null|Mozilla/5.0 (comp...|\n",
      "|40.77.167.129|   null|null|2019-01-22 03:56:...|GET /image/57710/...|   200|      1695|                null|Mozilla/5.0 (comp...|\n",
      "|207.46.13.136|   null|null|2019-01-22 03:56:...|GET /product/1021...|   200|     39677|                null|Mozilla/5.0 (comp...|\n",
      "|40.77.167.129|   null|null|2019-01-22 03:56:...|GET /image/578/ar...|   200|      9831|                null|Mozilla/5.0 (comp...|\n",
      "|178.253.33.51|   null|null|2019-01-22 03:56:...|GET /m/product/32...|   200|     20406|https://www.zanbi...|Mozilla/5.0 (Linu...|\n",
      "|40.77.167.129|   null|null|2019-01-22 03:56:...|GET /image/6229/p...|   200|      1796|                null|Mozilla/5.0 (comp...|\n",
      "|  91.99.72.15|   null|null|2019-01-22 03:56:...|GET /product/1007...|   200|     41725|                null|Mozilla/5.0 (X11;...|\n",
      "|40.77.167.129|   null|null|2019-01-22 03:56:...|GET /image/6229/p...|   200|      2739|                null|Mozilla/5.0 (comp...|\n",
      "|207.46.13.136|   null|null|2019-01-22 03:56:...|GET /product/1492...|   404|     33617|                null|Mozilla/5.0 (comp...|\n",
      "|40.77.167.129|   null|null|2019-01-22 03:56:...|GET /image/6248/p...|   200|      2788|                null|Mozilla/5.0 (comp...|\n",
      "|40.77.167.129|   null|null|2019-01-22 03:56:...|GET /image/64815/...|   200|      3481|                null|Mozilla/5.0 (comp...|\n",
      "|66.249.66.194|   null|null|2019-01-22 03:56:...|GET /m/filter/b2,...|   200|     19451|                null|Mozilla/5.0 (Linu...|\n",
      "+-------------+-------+----+--------------------+--------------------+------+----------+--------------------+--------------------+\n",
      "only showing top 20 rows\n",
      "\n"
     ]
    },
    {
     "name": "stderr",
     "output_type": "stream",
     "text": [
      "                                                                                \r"
     ]
    }
   ],
   "source": [
    "df.show()"
   ]
  },
  {
   "cell_type": "code",
   "execution_count": 15,
   "metadata": {},
   "outputs": [],
   "source": [
    "df.createOrReplaceTempView(\"access_log\")"
   ]
  },
  {
   "cell_type": "markdown",
   "metadata": {},
   "source": [
    "### SQL"
   ]
  },
  {
   "cell_type": "code",
   "execution_count": 23,
   "metadata": {},
   "outputs": [],
   "source": [
    "query = spark.sql(\"SELECT host, status, user_agent FROM access_log WHERE status = 400\")"
   ]
  },
  {
   "cell_type": "code",
   "execution_count": 24,
   "metadata": {},
   "outputs": [
    {
     "name": "stderr",
     "output_type": "stream",
     "text": [
      "                                                                                \r"
     ]
    },
    {
     "data": {
      "text/plain": [
       "585"
      ]
     },
     "execution_count": 24,
     "metadata": {},
     "output_type": "execute_result"
    }
   ],
   "source": [
    "query.count()"
   ]
  },
  {
   "cell_type": "code",
   "execution_count": 26,
   "metadata": {},
   "outputs": [
    {
     "name": "stderr",
     "output_type": "stream",
     "text": [
      "[Stage 18:>                                                         (0 + 1) / 1]\r"
     ]
    },
    {
     "name": "stdout",
     "output_type": "stream",
     "text": [
      "+---------------+------+--------------------+\n",
      "|           host|status|          user_agent|\n",
      "+---------------+------+--------------------+\n",
      "|  61.219.11.151|   400|                null|\n",
      "| 178.47.232.191|   400|           Yowai/2.0|\n",
      "| 37.255.249.243|   400|Mozilla/5.0 (comp...|\n",
      "|   151.25.29.64|   400|        Solstice/2.0|\n",
      "| 188.19.139.184|   400|           Yowai/2.0|\n",
      "|  42.112.163.67|   400|           Yowai/2.0|\n",
      "|   80.82.64.127|   400|                null|\n",
      "|   80.82.64.127|   400|    libwww-perl/6.36|\n",
      "|  164.52.24.162|   400|Mozilla/5.0 (Wind...|\n",
      "|   222.95.88.49|   400|                null|\n",
      "|   222.95.88.49|   400|                null|\n",
      "| 126.60.209.224|   400|         Tsunami/2.0|\n",
      "|   72.52.125.78|   400|                null|\n",
      "| 37.255.249.243|   400|Mozilla/5.0 (comp...|\n",
      "|220.181.124.101|   400|Sogou web spider/...|\n",
      "| 106.38.241.157|   400|Sogou web spider/...|\n",
      "|  119.93.85.191|   400|         Cayosin/2.0|\n",
      "|   93.115.27.22|   400|                null|\n",
      "|   93.115.27.22|   400|                null|\n",
      "|   93.115.27.22|   400|                null|\n",
      "+---------------+------+--------------------+\n",
      "only showing top 20 rows\n",
      "\n"
     ]
    },
    {
     "name": "stderr",
     "output_type": "stream",
     "text": [
      "                                                                                \r"
     ]
    }
   ],
   "source": [
    "query.show()"
   ]
  },
  {
   "cell_type": "code",
   "execution_count": null,
   "metadata": {},
   "outputs": [],
   "source": []
  }
 ],
 "metadata": {
  "kernelspec": {
   "display_name": "Python 3.9.13 64-bit",
   "language": "python",
   "name": "python3"
  },
  "language_info": {
   "codemirror_mode": {
    "name": "ipython",
    "version": 3
   },
   "file_extension": ".py",
   "mimetype": "text/x-python",
   "name": "python",
   "nbconvert_exporter": "python",
   "pygments_lexer": "ipython3",
   "version": "3.9.13"
  },
  "orig_nbformat": 4,
  "vscode": {
   "interpreter": {
    "hash": "b0fa6594d8f4cbf19f97940f81e996739fb7646882a419484c72d19e05852a7e"
   }
  }
 },
 "nbformat": 4,
 "nbformat_minor": 2
}
