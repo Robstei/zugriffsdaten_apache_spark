{
 "cells": [
  {
   "cell_type": "markdown",
   "metadata": {},
   "source": [
    "# Zugriffsdaten-Analyse"
   ]
  },
  {
   "cell_type": "markdown",
   "metadata": {},
   "source": [
    "## Setup"
   ]
  },
  {
   "cell_type": "code",
   "execution_count": 1,
   "metadata": {},
   "outputs": [
    {
     "name": "stderr",
     "output_type": "stream",
     "text": [
      "22/06/26 16:22:29 WARN Utils: Your hostname, Pauls-MacBook-Pro.local resolves to a loopback address: 127.0.0.1; using 192.168.0.12 instead (on interface en0)\n",
      "22/06/26 16:22:29 WARN Utils: Set SPARK_LOCAL_IP if you need to bind to another address\n",
      "WARNING: An illegal reflective access operation has occurred\n",
      "WARNING: Illegal reflective access by org.apache.spark.unsafe.Platform (file:/usr/local/lib/python3.9/site-packages/pyspark/jars/spark-unsafe_2.12-3.2.1.jar) to constructor java.nio.DirectByteBuffer(long,int)\n",
      "WARNING: Please consider reporting this to the maintainers of org.apache.spark.unsafe.Platform\n",
      "WARNING: Use --illegal-access=warn to enable warnings of further illegal reflective access operations\n",
      "WARNING: All illegal access operations will be denied in a future release\n",
      "Using Spark's default log4j profile: org/apache/spark/log4j-defaults.properties\n",
      "Setting default log level to \"WARN\".\n",
      "To adjust logging level use sc.setLogLevel(newLevel). For SparkR, use setLogLevel(newLevel).\n",
      "22/06/26 16:22:31 WARN NativeCodeLoader: Unable to load native-hadoop library for your platform... using builtin-java classes where applicable\n"
     ]
    }
   ],
   "source": [
    "import pyspark\n",
    "from pyspark.sql.functions import *\n",
    "\n",
    "spark = pyspark.sql.SparkSession.builder.appName(\"main\") \\\n",
    "  .master(\"spark://localhost:7077\") \\\n",
    "  .config(\"spark.executor.memory\", \"5G\") \\\n",
    "  .getOrCreate()"
   ]
  },
  {
   "cell_type": "markdown",
   "metadata": {},
   "source": [
    "## Datenimport"
   ]
  },
  {
   "cell_type": "code",
   "execution_count": 24,
   "metadata": {},
   "outputs": [],
   "source": [
    "raw_df = spark.read.csv(\"/tmp/data/access.log\", sep=\" \")"
   ]
  },
  {
   "cell_type": "code",
   "execution_count": 25,
   "metadata": {},
   "outputs": [
    {
     "name": "stdout",
     "output_type": "stream",
     "text": [
      "+-------------+---+---+--------------------+------+--------------------+---+-----+--------------------+--------------------+----+\n",
      "|          _c0|_c1|_c2|                 _c3|   _c4|                 _c5|_c6|  _c7|                 _c8|                 _c9|_c10|\n",
      "+-------------+---+---+--------------------+------+--------------------+---+-----+--------------------+--------------------+----+\n",
      "| 54.36.149.41|  -|  -|[22/Jan/2019:03:5...|+0330]|GET /filter/27|13...|200|30577|                   -|Mozilla/5.0 (comp...|   -|\n",
      "|  31.56.96.51|  -|  -|[22/Jan/2019:03:5...|+0330]|GET /image/60844/...|200| 5667|https://www.zanbi...|Mozilla/5.0 (Linu...|   -|\n",
      "|  31.56.96.51|  -|  -|[22/Jan/2019:03:5...|+0330]|GET /image/61474/...|200| 5379|https://www.zanbi...|Mozilla/5.0 (Linu...|   -|\n",
      "|40.77.167.129|  -|  -|[22/Jan/2019:03:5...|+0330]|GET /image/14925/...|200| 1696|                   -|Mozilla/5.0 (comp...|   -|\n",
      "|  91.99.72.15|  -|  -|[22/Jan/2019:03:5...|+0330]|GET /product/3189...|200|41483|                   -|Mozilla/5.0 (Wind...|   -|\n",
      "+-------------+---+---+--------------------+------+--------------------+---+-----+--------------------+--------------------+----+\n",
      "only showing top 5 rows\n",
      "\n"
     ]
    }
   ],
   "source": [
    "raw_df.show(5)"
   ]
  },
  {
   "cell_type": "code",
   "execution_count": 29,
   "metadata": {},
   "outputs": [
    {
     "name": "stdout",
     "output_type": "stream",
     "text": [
      "+-------------+----+--------------------+--------+--------------------+------+----------+--------------------+--------------------+\n",
      "|           ip|user|           timestamp|timezone|        request_line|status|bytes_sent|             referer|          user_agent|\n",
      "+-------------+----+--------------------+--------+--------------------+------+----------+--------------------+--------------------+\n",
      "| 54.36.149.41|    |22/Jan/2019:03:56:14|   +0330|GET /filter/27|13...|   200|     30577|                    |Mozilla/5.0 (comp...|\n",
      "|  31.56.96.51|    |22/Jan/2019:03:56:16|   +0330|GET /image/60844/...|   200|      5667|https://www.zanbi...|Mozilla/5.0 (Linu...|\n",
      "|  31.56.96.51|    |22/Jan/2019:03:56:16|   +0330|GET /image/61474/...|   200|      5379|https://www.zanbi...|Mozilla/5.0 (Linu...|\n",
      "|40.77.167.129|    |22/Jan/2019:03:56:17|   +0330|GET /image/14925/...|   200|      1696|                    |Mozilla/5.0 (comp...|\n",
      "|  91.99.72.15|    |22/Jan/2019:03:56:17|   +0330|GET /product/3189...|   200|     41483|                    |Mozilla/5.0 (Wind...|\n",
      "+-------------+----+--------------------+--------+--------------------+------+----------+--------------------+--------------------+\n",
      "only showing top 5 rows\n",
      "\n"
     ]
    }
   ],
   "source": [
    "df = raw_df.withColumnRenamed(\"_c0\", \"ip\") \\\n",
    "  .drop(\"_c1\") \\\n",
    "  .withColumnRenamed(\"_c2\", \"user\") \\\n",
    "  .withColumn(\"user\", regexp_replace(\"user\", \"-\", \"\")) \\\n",
    "  .withColumnRenamed(\"_c3\", \"timestamp\") \\\n",
    "  .withColumn(\"timestamp\", regexp_replace(\"timestamp\", \"^\\[\", \"\")) \\\n",
    "  .withColumnRenamed(\"_c4\", \"timezone\") \\\n",
    "  .withColumn(\"timezone\", regexp_replace(\"timezone\", \"\\]$\", \"\")) \\\n",
    "  .withColumnRenamed(\"_c5\", \"request_line\") \\\n",
    "  .withColumnRenamed(\"_c6\", \"status\") \\\n",
    "  .withColumnRenamed(\"_c7\", \"bytes_sent\") \\\n",
    "  .withColumnRenamed(\"_c8\", \"referer\") \\\n",
    "  .withColumn(\"referer\", regexp_replace(\"referer\", \"-\", \"\")) \\\n",
    "  .withColumnRenamed(\"_c9\", \"user_agent\") \\\n",
    "  .drop(\"_c10\")\n",
    "\n",
    "df.show(5)"
   ]
  },
  {
   "cell_type": "code",
   "execution_count": 35,
   "metadata": {},
   "outputs": [
    {
     "name": "stdout",
     "output_type": "stream",
     "text": [
      "+-------------+----+--------------------+--------+--------------------+------+----------+--------------------+--------------------+----------+\n",
      "|           ip|user|           timestamp|timezone|        request_line|status|bytes_sent|             referer|          user_agent|product_id|\n",
      "+-------------+----+--------------------+--------+--------------------+------+----------+--------------------+--------------------+----------+\n",
      "| 54.36.149.41|    |22/Jan/2019:03:56:14|   +0330|GET /filter/27|13...|   200|     30577|                    |Mozilla/5.0 (comp...|          |\n",
      "|  31.56.96.51|    |22/Jan/2019:03:56:16|   +0330|GET /image/60844/...|   200|      5667|https://www.zanbi...|Mozilla/5.0 (Linu...|          |\n",
      "|  31.56.96.51|    |22/Jan/2019:03:56:16|   +0330|GET /image/61474/...|   200|      5379|https://www.zanbi...|Mozilla/5.0 (Linu...|          |\n",
      "|40.77.167.129|    |22/Jan/2019:03:56:17|   +0330|GET /image/14925/...|   200|      1696|                    |Mozilla/5.0 (comp...|          |\n",
      "|  91.99.72.15|    |22/Jan/2019:03:56:17|   +0330|GET /product/3189...|   200|     41483|                    |Mozilla/5.0 (Wind...|     31893|\n",
      "+-------------+----+--------------------+--------+--------------------+------+----------+--------------------+--------------------+----------+\n",
      "only showing top 5 rows\n",
      "\n"
     ]
    }
   ],
   "source": [
    "df = df.withColumn(\"product_id\", regexp_extract(\"request_line\", \"^GET \\/product\\/(\\d+)\", 1))\n",
    "df.show(5)"
   ]
  },
  {
   "cell_type": "code",
   "execution_count": 43,
   "metadata": {},
   "outputs": [
    {
     "name": "stderr",
     "output_type": "stream",
     "text": [
      "[Stage 44:=====================================================>  (26 + 1) / 27]\r"
     ]
    },
    {
     "name": "stdout",
     "output_type": "stream",
     "text": [
      "+----------+-----+\n",
      "|product_id|count|\n",
      "+----------+-----+\n",
      "|     33953|  764|\n",
      "|     34286|  738|\n",
      "|     33968|  692|\n",
      "|     33954|  687|\n",
      "|     33956|  594|\n",
      "|     33960|  533|\n",
      "|     33952|  517|\n",
      "|     31720|  483|\n",
      "|     33722|  347|\n",
      "|     33626|  323|\n",
      "|     33978|  320|\n",
      "|     34290|  286|\n",
      "|     33639|  275|\n",
      "|     34288|  269|\n",
      "|     31577|  264|\n",
      "|       278|  259|\n",
      "|     33598|  243|\n",
      "|     14233|  243|\n",
      "|     30177|  243|\n",
      "|      8972|  241|\n",
      "+----------+-----+\n",
      "only showing top 20 rows\n",
      "\n"
     ]
    },
    {
     "name": "stderr",
     "output_type": "stream",
     "text": [
      "                                                                                \r"
     ]
    }
   ],
   "source": [
    "product_group_df = df.filter(df.product_id != \"\").groupBy(\"product_id\").count().sort(col(\"count\").desc())"
   ]
  },
  {
   "cell_type": "code",
   "execution_count": 45,
   "metadata": {},
   "outputs": [
    {
     "name": "stderr",
     "output_type": "stream",
     "text": [
      "                                                                                \r"
     ]
    }
   ],
   "source": [
    "pd_df = product_group_df.toPandas()"
   ]
  },
  {
   "cell_type": "code",
   "execution_count": 49,
   "metadata": {},
   "outputs": [
    {
     "data": {
      "text/html": [
       "<div>\n",
       "<style scoped>\n",
       "    .dataframe tbody tr th:only-of-type {\n",
       "        vertical-align: middle;\n",
       "    }\n",
       "\n",
       "    .dataframe tbody tr th {\n",
       "        vertical-align: top;\n",
       "    }\n",
       "\n",
       "    .dataframe thead th {\n",
       "        text-align: right;\n",
       "    }\n",
       "</style>\n",
       "<table border=\"1\" class=\"dataframe\">\n",
       "  <thead>\n",
       "    <tr style=\"text-align: right;\">\n",
       "      <th></th>\n",
       "      <th>count</th>\n",
       "    </tr>\n",
       "  </thead>\n",
       "  <tbody>\n",
       "    <tr>\n",
       "      <th>count</th>\n",
       "      <td>16823.000000</td>\n",
       "    </tr>\n",
       "    <tr>\n",
       "      <th>mean</th>\n",
       "      <td>13.188016</td>\n",
       "    </tr>\n",
       "    <tr>\n",
       "      <th>std</th>\n",
       "      <td>24.351003</td>\n",
       "    </tr>\n",
       "    <tr>\n",
       "      <th>min</th>\n",
       "      <td>1.000000</td>\n",
       "    </tr>\n",
       "    <tr>\n",
       "      <th>25%</th>\n",
       "      <td>2.000000</td>\n",
       "    </tr>\n",
       "    <tr>\n",
       "      <th>50%</th>\n",
       "      <td>6.000000</td>\n",
       "    </tr>\n",
       "    <tr>\n",
       "      <th>75%</th>\n",
       "      <td>16.000000</td>\n",
       "    </tr>\n",
       "    <tr>\n",
       "      <th>max</th>\n",
       "      <td>764.000000</td>\n",
       "    </tr>\n",
       "  </tbody>\n",
       "</table>\n",
       "</div>"
      ],
      "text/plain": [
       "              count\n",
       "count  16823.000000\n",
       "mean      13.188016\n",
       "std       24.351003\n",
       "min        1.000000\n",
       "25%        2.000000\n",
       "50%        6.000000\n",
       "75%       16.000000\n",
       "max      764.000000"
      ]
     },
     "execution_count": 49,
     "metadata": {},
     "output_type": "execute_result"
    }
   ],
   "source": [
    "pd_df.describe()"
   ]
  },
  {
   "cell_type": "code",
   "execution_count": 47,
   "metadata": {},
   "outputs": [
    {
     "data": {
      "text/html": [
       "<div>\n",
       "<style scoped>\n",
       "    .dataframe tbody tr th:only-of-type {\n",
       "        vertical-align: middle;\n",
       "    }\n",
       "\n",
       "    .dataframe tbody tr th {\n",
       "        vertical-align: top;\n",
       "    }\n",
       "\n",
       "    .dataframe thead th {\n",
       "        text-align: right;\n",
       "    }\n",
       "</style>\n",
       "<table border=\"1\" class=\"dataframe\">\n",
       "  <thead>\n",
       "    <tr style=\"text-align: right;\">\n",
       "      <th></th>\n",
       "      <th>product_id</th>\n",
       "      <th>count</th>\n",
       "    </tr>\n",
       "  </thead>\n",
       "  <tbody>\n",
       "    <tr>\n",
       "      <th>0</th>\n",
       "      <td>33953</td>\n",
       "      <td>764</td>\n",
       "    </tr>\n",
       "    <tr>\n",
       "      <th>1</th>\n",
       "      <td>34286</td>\n",
       "      <td>738</td>\n",
       "    </tr>\n",
       "    <tr>\n",
       "      <th>2</th>\n",
       "      <td>33968</td>\n",
       "      <td>692</td>\n",
       "    </tr>\n",
       "    <tr>\n",
       "      <th>3</th>\n",
       "      <td>33954</td>\n",
       "      <td>687</td>\n",
       "    </tr>\n",
       "    <tr>\n",
       "      <th>4</th>\n",
       "      <td>33956</td>\n",
       "      <td>594</td>\n",
       "    </tr>\n",
       "  </tbody>\n",
       "</table>\n",
       "</div>"
      ],
      "text/plain": [
       "  product_id  count\n",
       "0      33953    764\n",
       "1      34286    738\n",
       "2      33968    692\n",
       "3      33954    687\n",
       "4      33956    594"
      ]
     },
     "execution_count": 47,
     "metadata": {},
     "output_type": "execute_result"
    }
   ],
   "source": [
    "pd_df.head()"
   ]
  }
 ],
 "metadata": {
  "kernelspec": {
   "display_name": "Python 3.9.12 64-bit",
   "language": "python",
   "name": "python3"
  },
  "language_info": {
   "codemirror_mode": {
    "name": "ipython",
    "version": 3
   },
   "file_extension": ".py",
   "mimetype": "text/x-python",
   "name": "python",
   "nbconvert_exporter": "python",
   "pygments_lexer": "ipython3",
   "version": "3.9.12"
  },
  "orig_nbformat": 4,
  "vscode": {
   "interpreter": {
    "hash": "aee8b7b246df8f9039afb4144a1f6fd8d2ca17a180786b69acc140d282b71a49"
   }
  }
 },
 "nbformat": 4,
 "nbformat_minor": 2
}
